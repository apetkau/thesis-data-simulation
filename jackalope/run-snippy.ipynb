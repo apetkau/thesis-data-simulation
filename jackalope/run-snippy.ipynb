{
 "cells": [
  {
   "cell_type": "markdown",
   "id": "generic-stick",
   "metadata": {},
   "source": [
    "# Fix reads"
   ]
  },
  {
   "cell_type": "markdown",
   "id": "monetary-swift",
   "metadata": {},
   "source": [
    "Jackalope produces reads with non-standard identifiers where pairs of reads don't have matching identifiers. For example:\n",
    "\n",
    "* Pair 1: `@SH08-001-NC_011083-3048632-R/1`\n",
    "* Pair 2: `@SH08-001-NC_011083-3048396-F/2`\n",
    "\n",
    "In order to run snippy, these paired identifiers need to match (except for the `/1` and `/2` suffix).\n",
    "\n",
    "So, I have to replace them all with something unique, but which matches in each pair of files. I do this by replacing the position (I think) with the read number (as it appears in the file). So the above identifiers become:\n",
    "\n",
    "* Pair 1: `@SH08-001-NC_011083-1/1`\n",
    "* Pair 2: `@SH08-001-NC_011083-1/2`"
   ]
  },
  {
   "cell_type": "code",
   "execution_count": 1,
   "id": "million-story",
   "metadata": {},
   "outputs": [],
   "source": [
    "import glob\n",
    "import os\n",
    "\n",
    "# Fix warning about locale unset\n",
    "os.environ['LANG'] = 'en_US.UTF-8'\n",
    "\n",
    "files = [os.path.basename(f) for f in glob.glob('output/reads/*.fq.gz')]\n",
    "!parallel -j 24 -I% 'gzip -d --stdout output/reads/% | perl replace-fastq-header.pl | gzip > output/%' \\\n",
    "    ::: {' '.join(files)}"
   ]
  },
  {
   "cell_type": "code",
   "execution_count": 2,
   "id": "pursuant-pencil",
   "metadata": {},
   "outputs": [
    {
     "name": "stdout",
     "output_type": "stream",
     "text": [
      "~/workspace/thesis-data-simulation/jackalope/output ~/workspace/thesis-data-simulation/jackalope\n",
      "~/workspace/thesis-data-simulation/jackalope\n"
     ]
    }
   ],
   "source": [
    "!pushd output; prename 's/initial_//' *.fq.gz; popd"
   ]
  },
  {
   "cell_type": "code",
   "execution_count": 3,
   "id": "copyrighted-measurement",
   "metadata": {},
   "outputs": [],
   "source": [
    "import os\n",
    "import glob\n",
    "\n",
    "reference_file = 'input/S_HeidelbergSL476.fasta.gz'\n",
    "\n",
    "# snippy only runs with uncompressed reference\n",
    "!gunzip -f -k {reference_file}\n",
    "\n",
    "reference_file_abs = os.path.abspath('input/S_HeidelbergSL476.fasta')\n",
    "\n",
    "snippy_out = os.path.abspath('phylogeny')\n",
    "\n",
    "if not os.path.exists(snippy_out):\n",
    "    os.mkdir(snippy_out)\n",
    "\n",
    "with open(f'{snippy_out}/snippy.fofn', 'w') as snippy_fofn:\n",
    "    directory = 'output'\n",
    "    for file in glob.glob(f'{directory}/*_R1.fq.gz'):\n",
    "        sample = os.path.basename(file).rsplit('_R1.fq.gz')[0]\n",
    "        \n",
    "        files = [f'{directory}/{sample}_R1.fq.gz', f'{directory}/{sample}_R2.fq.gz']\n",
    "        files = [os.path.abspath(f) for f in files]\n",
    "        values = [sample]\n",
    "        values.extend(files)\n",
    "        snippy_fofn.write('\\t'.join(values)+'\\n')"
   ]
  },
  {
   "cell_type": "code",
   "execution_count": 4,
   "id": "faced-standing",
   "metadata": {},
   "outputs": [
    {
     "name": "stdout",
     "output_type": "stream",
     "text": [
      "SH14-013\t/home/CSCScience.ca/apetkau/workspace/thesis-data-simulation/jackalope/output/SH14-013_R1.fq.gz\t/home/CSCScience.ca/apetkau/workspace/thesis-data-simulation/jackalope/output/SH14-013_R2.fq.gz\n"
     ]
    }
   ],
   "source": [
    "!head -n 1 {snippy_out}/snippy.fofn"
   ]
  },
  {
   "cell_type": "code",
   "execution_count": 5,
   "id": "alternate-constitution",
   "metadata": {},
   "outputs": [
    {
     "name": "stdout",
     "output_type": "stream",
     "text": [
      "Reading: /home/CSCScience.ca/apetkau/workspace/thesis-data-simulation/jackalope/phylogeny/snippy.fofn\n",
      "Generating output commands for 60 isolates\n",
      "Done.\n",
      "\n"
     ]
    }
   ],
   "source": [
    "!conda run --name snippy snippy-multi {snippy_out}/snippy.fofn \\\n",
    "    --reference {reference_file_abs} --cpus 6 > {snippy_out}/snippy-commands-all.sh\n",
    "!head -n-2 {snippy_out}/snippy-commands-all.sh > {snippy_out}/snippy-commands-variant.sh\n",
    "!tail -n 2 {snippy_out}/snippy-commands-all.sh > {snippy_out}/snippy-commands-core.sh"
   ]
  },
  {
   "cell_type": "code",
   "execution_count": 6,
   "id": "tired-ordering",
   "metadata": {},
   "outputs": [
    {
     "name": "stdout",
     "output_type": "stream",
     "text": [
      "snippy --outdir 'SH14-023' --R1 '/home/CSCScience.ca/apetkau/workspace/thesis-data-simulation/jackalope/output/SH14-023_R1.fq.gz' --R2 '/home/CSCScience.ca/apetkau/workspace/thesis-data-simulation/jackalope/output/SH14-023_R2.fq.gz' --reference /home/CSCScience.ca/apetkau/workspace/thesis-data-simulation/jackalope/input/S_HeidelbergSL476.fasta --cpus 6\n",
      "snippy --outdir 'SH13-005' --R1 '/home/CSCScience.ca/apetkau/workspace/thesis-data-simulation/jackalope/output/SH13-005_R1.fq.gz' --R2 '/home/CSCScience.ca/apetkau/workspace/thesis-data-simulation/jackalope/output/SH13-005_R2.fq.gz' --reference /home/CSCScience.ca/apetkau/workspace/thesis-data-simulation/jackalope/input/S_HeidelbergSL476.fasta --cpus 6\n",
      "****\n",
      "snippy-core --ref 'SH08-001/ref.fa' SH08-001 SH09-29 SH10-001 SH10-002 SH10-014 SH10-015 SH10-30 SH11-001 SH11-002 SH12-001 SH12-002 SH12-003 SH12-004 SH12-005 SH12-006 SH12-007 SH12-008 SH12-009 SH12-010 SH12-011 SH12-012 SH12-013 SH12-014 SH13-001 SH13-002 SH13-003 SH13-004 SH13-005 SH13-006 SH13-007 SH13-008 SH14-001 SH14-002 SH14-003 SH14-004 SH14-005 SH14-006 SH14-007 SH14-008 SH14-009 SH14-010 SH14-011 SH14-012 SH14-013 SH14-014 SH14-015 SH14-016 SH14-017 SH14-018 SH14-019 SH14-020 SH14-021 SH14-022 SH14-023 SH14-024 SH14-025 SH14-026 SH14-027 SH14-028 reference\n",
      "\n"
     ]
    }
   ],
   "source": [
    "!tail -n 2 {snippy_out}/snippy-commands-variant.sh\n",
    "!echo '****'\n",
    "!tail {snippy_out}/snippy-commands-core.sh"
   ]
  },
  {
   "cell_type": "code",
   "execution_count": 7,
   "id": "equal-honduras",
   "metadata": {},
   "outputs": [],
   "source": [
    "# Run variant calling in parallel\n",
    "!(pushd {snippy_out} && conda run --name snippy \\\n",
    "  parallel -j 12 -a {snippy_out}/snippy-commands-variant.sh && popd) > {snippy_out}/snippy-variant.log 2>&1"
   ]
  },
  {
   "cell_type": "code",
   "execution_count": 8,
   "id": "wired-pride",
   "metadata": {},
   "outputs": [],
   "source": [
    "# Run core in serial\n",
    "!(pushd {snippy_out} && conda run --name snippy \\\n",
    "  bash {snippy_out}/snippy-commands-core.sh && popd) > {snippy_out}/snippy-core.log 2>&1"
   ]
  },
  {
   "cell_type": "code",
   "execution_count": 9,
   "id": "fitting-combine",
   "metadata": {},
   "outputs": [
    {
     "name": "stdout",
     "output_type": "stream",
     "text": [
      "ID         LENGTH   ALIGNED  UNALIGNED  VARIANT  HET   MASKED  LOWCOV\n",
      "SH08-001   4888768  4830759  47680      0        2142  0       8187\n",
      "SH09-29    4888768  4830542  47678      14       2153  0       8395\n",
      "SH10-001   4888768  4830089  47652      10       2130  0       8897\n",
      "SH10-002   4888768  4830288  47788      12       2329  0       8363\n",
      "SH10-014   4888768  4830566  47737      0        2207  0       8258\n",
      "SH10-015   4888768  4830505  47669      0        2050  0       8544\n",
      "SH10-30    4888768  4830636  47677      14       2091  0       8364\n",
      "SH11-001   4888768  4830785  47768      10       2170  0       8045\n",
      "SH11-002   4888768  4830229  47693      0        2184  0       8662\n",
      "SH12-001   4888768  4831017  47632      0        2148  0       7971\n",
      "SH12-002   4888768  4829811  47589      0        2165  0       9203\n",
      "SH12-003   4888768  4830113  47632      0        2259  0       8764\n",
      "SH12-004   4888768  4830667  47670      12       2159  0       8272\n",
      "SH12-005   4888768  4830810  47607      12       2187  0       8164\n",
      "SH12-006   4888768  4830725  47715      12       2166  0       8162\n",
      "SH12-007   4888768  4830448  47627      12       2129  0       8564\n",
      "SH12-008   4888768  4830688  47612      0        2236  0       8232\n",
      "SH12-009   4888768  4830966  47726      0        2230  0       7846\n",
      "SH12-010   4888768  4830122  47648      0        2291  0       8707\n",
      "SH12-011   4888768  4830819  47748      11       2195  0       8006\n",
      "SH12-012   4888768  4830438  47760      0        2097  0       8473\n",
      "SH12-013   4888768  4830634  47648      4        2091  0       8395\n",
      "SH12-014   4888768  4830253  47567      0        2152  0       8796\n",
      "SH13-001   4888768  4830193  47585      0        2153  0       8837\n",
      "SH13-002   4888768  4830627  47487      0        2134  0       8520\n",
      "SH13-003   4888768  4830572  47754      0        2183  0       8259\n",
      "SH13-004   4888768  4829726  47791      0        2282  0       8969\n",
      "SH13-005   4888768  4830425  47719      0        2242  0       8382\n",
      "SH13-006   4888768  4830372  47679      20       2346  0       8371\n",
      "SH13-007   4888768  4830620  47666      0        2089  0       8393\n",
      "SH13-008   4888768  4829413  47857      0        2142  0       9356\n",
      "SH14-001   4888768  4830404  47739      15       2157  0       8468\n",
      "SH14-002   4888768  4830740  47625      0        2138  0       8265\n",
      "SH14-003   4888768  4830121  47617      14       2251  0       8779\n",
      "SH14-004   4888768  4830503  47656      0        2037  0       8572\n",
      "SH14-005   4888768  4830706  47637      14       2234  0       8191\n",
      "SH14-006   4888768  4830138  47654      14       2253  0       8723\n",
      "SH14-007   4888768  4830627  47742      14       2146  0       8253\n",
      "SH14-008   4888768  4831042  47642      14       2149  0       7935\n",
      "SH14-009   4888768  4830095  47830      14       2115  0       8728\n",
      "SH14-010   4888768  4829613  47672      0        2282  0       9201\n",
      "SH14-011   4888768  4830588  47641      0        2173  0       8366\n",
      "SH14-012   4888768  4830502  47689      0        2160  0       8417\n",
      "SH14-013   4888768  4830573  47696      0        2026  0       8473\n",
      "SH14-014   4888768  4830590  47751      14       2062  0       8365\n",
      "SH14-015   4888768  4829902  47670      0        2198  0       8998\n",
      "SH14-016   4888768  4830363  47682      0        2160  0       8563\n",
      "SH14-017   4888768  4830495  47799      14       2192  0       8282\n",
      "SH14-018   4888768  4830496  47569      0        2156  0       8547\n",
      "SH14-019   4888768  4830203  47489      0        2216  0       8860\n",
      "SH14-020   4888768  4830068  47695      0        2163  0       8842\n",
      "SH14-021   4888768  4830607  47700      14       2168  0       8293\n",
      "SH14-022   4888768  4830455  47671      0        2099  0       8543\n",
      "SH14-023   4888768  4830495  47591      0        2103  0       8579\n",
      "SH14-024   4888768  4830324  47590      14       2218  0       8636\n",
      "SH14-025   4888768  4830412  47846      14       2124  0       8386\n",
      "SH14-026   4888768  4829938  47638      0        2184  0       9008\n",
      "SH14-027   4888768  4830373  47583      0        2187  0       8625\n",
      "SH14-028   4888768  4830091  47611      0        2174  0       8892\n",
      "reference  4888768  4830343  47580      3        1987  0       8858\n",
      "Reference  4888768  4888768  0          0        0     0       0\n"
     ]
    }
   ],
   "source": [
    "!column -s$'\\t' -t phylogeny/core.txt"
   ]
  },
  {
   "cell_type": "code",
   "execution_count": null,
   "id": "incorporated-orbit",
   "metadata": {},
   "outputs": [],
   "source": []
  }
 ],
 "metadata": {
  "kernelspec": {
   "display_name": "Python 3",
   "language": "python",
   "name": "python3"
  },
  "language_info": {
   "codemirror_mode": {
    "name": "ipython",
    "version": 3
   },
   "file_extension": ".py",
   "mimetype": "text/x-python",
   "name": "python",
   "nbconvert_exporter": "python",
   "pygments_lexer": "ipython3",
   "version": "3.8.6"
  }
 },
 "nbformat": 4,
 "nbformat_minor": 5
}
