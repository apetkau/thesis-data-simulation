{
 "cells": [
  {
   "cell_type": "markdown",
   "id": "moral-claim",
   "metadata": {},
   "source": [
    "# Fix reads"
   ]
  },
  {
   "cell_type": "code",
   "execution_count": 1,
   "id": "developing-percentage",
   "metadata": {},
   "outputs": [
    {
     "name": "stdout",
     "output_type": "stream",
     "text": [
      "~/workspace/thesis-data-simulation/jackalope/output/reads ~/workspace/thesis-data-simulation/jackalope\n",
      "~/workspace/thesis-data-simulation/jackalope\n"
     ]
    }
   ],
   "source": [
    "import os\n",
    "\n",
    "# Fix warning about locale unset\n",
    "os.environ['LANG'] = 'en_US.UTF-8'\n",
    "\n",
    "!pushd output/reads; prename 's/initial_//' *.fq.gz; popd"
   ]
  },
  {
   "cell_type": "markdown",
   "id": "mediterranean-partner",
   "metadata": {},
   "source": [
    "Jackalope produces reads with non-standard identifiers where pairs of reads don't have matching identifiers. For example:\n",
    "\n",
    "* Pair 1: `@SH08-001-NC_011083-3048632-R/1`\n",
    "* Pair 2: `@SH08-001-NC_011083-3048396-F/2`\n",
    "\n",
    "In order to run snippy, these paired identifiers need to match (except for the `/1` and `/2` suffix).\n",
    "\n",
    "So, I have to replace them all with something unique, but which matches in each pair of files. I do this by replacing the position (I think) with the read number (as it appears in the file). So the above identifiers become:\n",
    "\n",
    "* Pair 1: `@SH08-001-NC_011083-1/1`\n",
    "* Pair 2: `@SH08-001-NC_011083-1/2`"
   ]
  },
  {
   "cell_type": "code",
   "execution_count": 2,
   "id": "secret-dancing",
   "metadata": {},
   "outputs": [],
   "source": [
    "import glob\n",
    "import os\n",
    "\n",
    "files = [os.path.basename(f) for f in glob.glob('output/reads/*.fq.gz')]\n",
    "!parallel -j 24 -I% 'gzip -d --stdout output/reads/% | perl replace-fastq-header.pl | gzip > output/%' \\\n",
    "    ::: {' '.join(files)}"
   ]
  },
  {
   "cell_type": "markdown",
   "id": "mediterranean-inclusion",
   "metadata": {},
   "source": [
    "# Create input file for snippy"
   ]
  },
  {
   "cell_type": "code",
   "execution_count": 3,
   "id": "usual-quantity",
   "metadata": {},
   "outputs": [],
   "source": [
    "import os\n",
    "import glob\n",
    "\n",
    "reference_file = 'input/S_HeidelbergSL476.fasta.gz'\n",
    "\n",
    "# snippy only runs with uncompressed reference\n",
    "!gunzip -f -k {reference_file}\n",
    "\n",
    "reference_file_abs = os.path.abspath('input/S_HeidelbergSL476.fasta')\n",
    "\n",
    "snippy_out = os.path.abspath('phylogeny')\n",
    "\n",
    "if not os.path.exists(snippy_out):\n",
    "    os.mkdir(snippy_out)\n",
    "\n",
    "with open(f'{snippy_out}/snippy.fofn', 'w') as snippy_fofn:\n",
    "    directory = 'output'\n",
    "    for file in glob.glob(f'{directory}/*_R1.fq.gz'):\n",
    "        sample = os.path.basename(file).rsplit('_R1.fq.gz')[0]\n",
    "        \n",
    "        files = [f'{directory}/{sample}_R1.fq.gz', f'{directory}/{sample}_R2.fq.gz']\n",
    "        files = [os.path.abspath(f) for f in files]\n",
    "        values = [sample]\n",
    "        values.extend(files)\n",
    "        snippy_fofn.write('\\t'.join(values)+'\\n')"
   ]
  },
  {
   "cell_type": "code",
   "execution_count": 4,
   "id": "eligible-referral",
   "metadata": {},
   "outputs": [
    {
     "name": "stdout",
     "output_type": "stream",
     "text": [
      "SH14-013\t/home/CSCScience.ca/apetkau/workspace/thesis-data-simulation/jackalope/output/SH14-013_R1.fq.gz\t/home/CSCScience.ca/apetkau/workspace/thesis-data-simulation/jackalope/output/SH14-013_R2.fq.gz\n"
     ]
    }
   ],
   "source": [
    "!head -n 1 {snippy_out}/snippy.fofn"
   ]
  },
  {
   "cell_type": "markdown",
   "id": "north-links",
   "metadata": {},
   "source": [
    "# Run snippy"
   ]
  },
  {
   "cell_type": "code",
   "execution_count": 5,
   "id": "complete-pantyhose",
   "metadata": {},
   "outputs": [
    {
     "name": "stdout",
     "output_type": "stream",
     "text": [
      "Reading: /home/CSCScience.ca/apetkau/workspace/thesis-data-simulation/jackalope/phylogeny/snippy.fofn\n",
      "Generating output commands for 59 isolates\n",
      "Done.\n",
      "\n"
     ]
    }
   ],
   "source": [
    "!conda run --name snippy snippy-multi {snippy_out}/snippy.fofn \\\n",
    "    --reference {reference_file_abs} --cpus 6 > {snippy_out}/snippy-commands-all.sh\n",
    "!head -n-2 {snippy_out}/snippy-commands-all.sh > {snippy_out}/snippy-commands-variant.sh\n",
    "!tail -n 2 {snippy_out}/snippy-commands-all.sh > {snippy_out}/snippy-commands-core.sh"
   ]
  },
  {
   "cell_type": "code",
   "execution_count": 6,
   "id": "active-reduction",
   "metadata": {},
   "outputs": [
    {
     "name": "stdout",
     "output_type": "stream",
     "text": [
      "snippy --outdir 'SH14-023' --R1 '/home/CSCScience.ca/apetkau/workspace/thesis-data-simulation/jackalope/output/SH14-023_R1.fq.gz' --R2 '/home/CSCScience.ca/apetkau/workspace/thesis-data-simulation/jackalope/output/SH14-023_R2.fq.gz' --reference /home/CSCScience.ca/apetkau/workspace/thesis-data-simulation/jackalope/input/S_HeidelbergSL476.fasta --cpus 6\n",
      "snippy --outdir 'SH13-005' --R1 '/home/CSCScience.ca/apetkau/workspace/thesis-data-simulation/jackalope/output/SH13-005_R1.fq.gz' --R2 '/home/CSCScience.ca/apetkau/workspace/thesis-data-simulation/jackalope/output/SH13-005_R2.fq.gz' --reference /home/CSCScience.ca/apetkau/workspace/thesis-data-simulation/jackalope/input/S_HeidelbergSL476.fasta --cpus 6\n",
      "****\n",
      "snippy-core --ref 'SH08-001/ref.fa' SH08-001 SH09-29 SH10-001 SH10-002 SH10-014 SH10-015 SH10-30 SH11-001 SH11-002 SH12-001 SH12-002 SH12-003 SH12-004 SH12-005 SH12-006 SH12-007 SH12-008 SH12-009 SH12-010 SH12-011 SH12-012 SH12-013 SH12-014 SH13-001 SH13-002 SH13-003 SH13-004 SH13-005 SH13-006 SH13-007 SH13-008 SH14-001 SH14-002 SH14-003 SH14-004 SH14-005 SH14-006 SH14-007 SH14-008 SH14-009 SH14-010 SH14-011 SH14-012 SH14-013 SH14-014 SH14-015 SH14-016 SH14-017 SH14-018 SH14-019 SH14-020 SH14-021 SH14-022 SH14-023 SH14-024 SH14-025 SH14-026 SH14-027 SH14-028\n",
      "\n"
     ]
    }
   ],
   "source": [
    "!tail -n 2 {snippy_out}/snippy-commands-variant.sh\n",
    "!echo '****'\n",
    "!tail {snippy_out}/snippy-commands-core.sh"
   ]
  },
  {
   "cell_type": "code",
   "execution_count": 7,
   "id": "wireless-voltage",
   "metadata": {},
   "outputs": [],
   "source": [
    "# Run variant calling in parallel\n",
    "!(pushd {snippy_out} && conda run --name snippy \\\n",
    "  parallel -j 12 -a {snippy_out}/snippy-commands-variant.sh && popd) > {snippy_out}/snippy-variant.log 2>&1"
   ]
  },
  {
   "cell_type": "code",
   "execution_count": 8,
   "id": "premium-block",
   "metadata": {},
   "outputs": [],
   "source": [
    "# Run core in serial\n",
    "!(pushd {snippy_out} && conda run --name snippy \\\n",
    "  bash {snippy_out}/snippy-commands-core.sh && popd) > {snippy_out}/snippy-core.log 2>&1"
   ]
  },
  {
   "cell_type": "code",
   "execution_count": 9,
   "id": "proof-tracy",
   "metadata": {},
   "outputs": [
    {
     "name": "stdout",
     "output_type": "stream",
     "text": [
      "ID         LENGTH   ALIGNED  UNALIGNED  VARIANT  HET   MASKED  LOWCOV\n",
      "SH08-001   4888768  4830225  47746      165      2236  0       8561\n",
      "SH09-29    4888768  4830336  47599      150      2138  0       8695\n",
      "SH10-001   4888768  4830166  47831      162      2206  0       8565\n",
      "SH10-002   4888768  4830518  47547      164      2201  0       8502\n",
      "SH10-014   4888768  4830877  47692      210      2219  0       7980\n",
      "SH10-015   4888768  4830401  47712      209      2369  0       8286\n",
      "SH10-30    4888768  4830626  47567      157      2211  0       8364\n",
      "SH11-001   4888768  4830607  47592      159      2245  0       8324\n",
      "SH11-002   4888768  4830360  47622      211      2164  0       8622\n",
      "SH12-001   4888768  4830668  47687      168      2144  0       8269\n",
      "SH12-002   4888768  4829797  47563      170      2193  0       9215\n",
      "SH12-003   4888768  4830531  47609      168      2189  0       8439\n",
      "SH12-004   4888768  4830556  47601      168      2202  0       8409\n",
      "SH12-005   4888768  4830682  47685      168      2248  0       8153\n",
      "SH12-006   4888768  4830245  47770      168      2206  0       8547\n",
      "SH12-007   4888768  4829973  47747      171      2170  0       8878\n",
      "SH12-008   4888768  4829983  47715      168      2224  0       8846\n",
      "SH12-009   4888768  4829854  47908      167      2171  0       8835\n",
      "SH12-010   4888768  4830839  47644      175      2144  0       8141\n",
      "SH12-011   4888768  4830462  47697      160      2113  0       8496\n",
      "SH12-012   4888768  4830615  47638      148      2197  0       8318\n",
      "SH12-013   4888768  4830113  47828      50       2252  0       8575\n",
      "SH12-014   4888768  4830423  47745      132      2190  0       8410\n",
      "SH13-001   4888768  4830357  47797      211      2184  0       8430\n",
      "SH13-002   4888768  4830521  47673      211      2325  0       8249\n",
      "SH13-003   4888768  4830965  47635      211      2235  0       7933\n",
      "SH13-004   4888768  4830823  47694      213      2192  0       8059\n",
      "SH13-005   4888768  4830381  47770      211      2118  0       8499\n",
      "SH13-006   4888768  4830130  47693      211      2193  0       8752\n",
      "SH13-007   4888768  4830189  47880      211      2050  0       8649\n",
      "SH13-008   4888768  4829579  47796      213      2158  0       9235\n",
      "SH14-001   4888768  4830535  47729      162      2154  0       8350\n",
      "SH14-002   4888768  4830349  47580      158      2081  0       8758\n",
      "SH14-003   4888768  4830744  47751      158      2154  0       8119\n",
      "SH14-004   4888768  4830452  47635      158      2099  0       8582\n",
      "SH14-005   4888768  4830090  47636      157      2123  0       8919\n",
      "SH14-006   4888768  4830535  47677      157      2172  0       8384\n",
      "SH14-007   4888768  4830794  47771      157      2144  0       8059\n",
      "SH14-008   4888768  4830312  47691      157      2230  0       8535\n",
      "SH14-009   4888768  4830488  47565      157      2265  0       8450\n",
      "SH14-010   4888768  4829732  47774      159      2250  0       9012\n",
      "SH14-011   4888768  4830472  47567      157      2240  0       8489\n",
      "SH14-012   4888768  4830748  47689      235      2335  0       7996\n",
      "SH14-013   4888768  4830931  47815      157      2077  0       7945\n",
      "SH14-014   4888768  4830233  47513      157      2118  0       8904\n",
      "SH14-015   4888768  4830988  47577      157      2061  0       8142\n",
      "SH14-016   4888768  4830746  47751      157      2144  0       8127\n",
      "SH14-017   4888768  4831160  47446      164      2118  0       8044\n",
      "SH14-018   4888768  4830261  47444      157      2259  0       8804\n",
      "SH14-019   4888768  4830987  47649      157      2159  0       7973\n",
      "SH14-020   4888768  4830806  47610      157      2255  0       8097\n",
      "SH14-021   4888768  4830360  47530      157      2247  0       8631\n",
      "SH14-022   4888768  4830734  47713      157      2134  0       8187\n",
      "SH14-023   4888768  4830671  47597      157      2157  0       8343\n",
      "SH14-024   4888768  4829692  47728      157      2122  0       9226\n",
      "SH14-025   4888768  4830717  47505      157      2230  0       8316\n",
      "SH14-026   4888768  4830430  47625      157      2088  0       8625\n",
      "SH14-027   4888768  4830185  47839      156      2245  0       8499\n",
      "SH14-028   4888768  4830877  47699      156      2026  0       8166\n",
      "Reference  4888768  4888768  0          0        0     0       0\n"
     ]
    }
   ],
   "source": [
    "!column -s$'\\t' -t phylogeny/core.txt"
   ]
  },
  {
   "cell_type": "markdown",
   "id": "settled-ancient",
   "metadata": {},
   "source": [
    "# Tree"
   ]
  },
  {
   "cell_type": "code",
   "execution_count": 10,
   "id": "cosmetic-evening",
   "metadata": {},
   "outputs": [
    {
     "name": "stdout",
     "output_type": "stream",
     "text": [
      "Iteration 200 / LogL: -3791.625 / Time: 0h:0m:16s (0h:0m:1s left)\n",
      "Iteration 210 / LogL: -3791.301 / Time: 0h:0m:16s (0h:0m:0s left)\n",
      "TREE SEARCH COMPLETED AFTER 215 ITERATIONS / Time: 0h:0m:17s\n",
      "\n",
      "--------------------------------------------------------------------\n",
      "|                    FINALIZING TREE SEARCH                        |\n",
      "--------------------------------------------------------------------\n",
      "Performs final model parameters optimization\n",
      "Estimate model parameters (epsilon = 0.010)\n",
      "1. Initial log-likelihood: -3790.801\n",
      "Optimal log-likelihood: -3790.793\n",
      "Rate parameters:  A-C: 1.00000  A-G: 1.00000  A-T: 1.00000  C-G: 1.00000  C-T: 1.00000  G-T: 1.00000\n",
      "Base frequencies:  A: 0.250  C: 0.250  G: 0.250  T: 0.250\n",
      "Parameters optimization took 1 rounds (0.001 sec)\n",
      "BEST SCORE FOUND : -3790.793\n",
      "Total tree length: 0.010\n",
      "\n",
      "Total number of iterations: 215\n",
      "CPU time used for tree search: 15.038 sec (0h:0m:15s)\n",
      "Wall-clock time used for tree search: 16.941 sec (0h:0m:16s)\n",
      "Total CPU time used: 15.100 sec (0h:0m:15s)\n",
      "Total wall-clock time used: 17.009 sec (0h:0m:17s)\n",
      "\n",
      "Analysis results written to: \n",
      "  IQ-TREE report:                phylogeny/core.aln.iqtree\n",
      "  Maximum-likelihood tree:       phylogeny/core.aln.treefile\n",
      "  Likelihood distances:          phylogeny/core.aln.mldist\n",
      "  Screen log file:               phylogeny/core.aln.log\n",
      "\n",
      "Date and Time: Sat Jan 23 12:30:18 2021\n"
     ]
    }
   ],
   "source": [
    "!iqtree -redo -s phylogeny/core.aln | tail -n 30"
   ]
  },
  {
   "cell_type": "code",
   "execution_count": 12,
   "id": "derived-requirement",
   "metadata": {},
   "outputs": [],
   "source": [
    "!sed -i.bak -e 's/Reference/reference/' phylogeny/core.aln.treefile"
   ]
  }
 ],
 "metadata": {
  "kernelspec": {
   "display_name": "Python 3",
   "language": "python",
   "name": "python3"
  },
  "language_info": {
   "codemirror_mode": {
    "name": "ipython",
    "version": 3
   },
   "file_extension": ".py",
   "mimetype": "text/x-python",
   "name": "python",
   "nbconvert_exporter": "python",
   "pygments_lexer": "ipython3",
   "version": "3.8.6"
  }
 },
 "nbformat": 4,
 "nbformat_minor": 5
}
