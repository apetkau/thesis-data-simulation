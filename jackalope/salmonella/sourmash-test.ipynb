{
 "cells": [
  {
   "cell_type": "markdown",
   "id": "reflected-moisture",
   "metadata": {},
   "source": [
    "# Index many genomes with sourmash"
   ]
  },
  {
   "cell_type": "code",
   "execution_count": 1,
   "id": "patent-hindu",
   "metadata": {},
   "outputs": [
    {
     "data": {
      "text/plain": [
       "['SH14-013', 'SH10-015', 'SH12-009', 'SH14-006']"
      ]
     },
     "execution_count": 1,
     "metadata": {},
     "output_type": "execute_result"
    }
   ],
   "source": [
    "import os\n",
    "from os import path\n",
    "\n",
    "import os\n",
    "\n",
    "# Fix warning about locale unset\n",
    "os.environ['LANG'] = 'en_US.UTF-8'\n",
    "\n",
    "reads_dir = 'output'\n",
    "sourmash_dir = 'sourmash'\n",
    "sourmash_out = f'{sourmash_dir}/sigs1'\n",
    "\n",
    "if not path.exists(sourmash_dir):\n",
    "    os.mkdir(sourmash_dir)\n",
    "    \n",
    "if not path.exists(sourmash_out):\n",
    "    os.mkdir(sourmash_out)\n",
    "\n",
    "def strip_end(text, suffix):\n",
    "    if suffix and text.endswith(suffix):\n",
    "        return text[:-len(suffix)]\n",
    "    return text\n",
    "\n",
    "sample_names = [strip_end(f, '_R1.fq.gz') for f in os.listdir(reads_dir) if f.endswith('_R1.fq.gz')]\n",
    "sample_names[:4]"
   ]
  },
  {
   "cell_type": "markdown",
   "id": "scheduled-screen",
   "metadata": {},
   "source": [
    "# Create all sourmash signatures"
   ]
  },
  {
   "cell_type": "code",
   "execution_count": 2,
   "id": "metallic-species",
   "metadata": {},
   "outputs": [],
   "source": [
    "kmer_small = 21\n",
    "kmer_medium = 31\n",
    "kmer_large = 51\n",
    "scaled=1000\n",
    "sourmash_params = f'k={kmer_small},k={kmer_medium},k={kmer_large},scaled={scaled}'\n",
    "\n",
    "!parallel -j 32 -I% 'sourmash sketch dna -p {sourmash_params} --merge % -o - \\\n",
    "    {reads_dir}/%_R1.fq.gz {reads_dir}/%_R2.fq.gz | gzip > {sourmash_out}/%.sig.gz' \\\n",
    "    ::: {' '.join(sample_names)} 2> {sourmash_dir}/sigs1.stderr"
   ]
  },
  {
   "cell_type": "code",
   "execution_count": 3,
   "id": "periodic-candy",
   "metadata": {},
   "outputs": [
    {
     "name": "stdout",
     "output_type": "stream",
     "text": [
      "\u001b[K\n",
      "== This is sourmash version 4.0.0. ==\n",
      "\u001b[K== Please cite Brown and Irber (2016), doi:10.21105/joss.00027. ==\n",
      "\n",
      "\u001b[Kcomputing signatures for files: output/SH11-001_R1.fq.gz, output/SH11-001_R2.fq.gz\n",
      "\u001b[KComputing a total of 1 signature(s).\n",
      "\u001b[K... reading sequences from output/SH11-001_R1.fq.gz\n",
      "\u001b[K... output/SH11-001_R1.fq.gz 293397 sequences\n",
      "\u001b[K... reading sequences from output/SH11-001_R2.fq.gz\n",
      "\u001b[K... output/SH11-001_R2.fq.gz 293397 sequences\n"
     ]
    }
   ],
   "source": [
    "!head {sourmash_dir}/sigs1.stderr"
   ]
  },
  {
   "cell_type": "code",
   "execution_count": 4,
   "id": "theoretical-disposal",
   "metadata": {},
   "outputs": [
    {
     "name": "stdout",
     "output_type": "stream",
     "text": [
      "44M\tsourmash/sigs1\n"
     ]
    }
   ],
   "source": [
    "!du -sh {sourmash_out}"
   ]
  },
  {
   "cell_type": "code",
   "execution_count": 5,
   "id": "accredited-messenger",
   "metadata": {},
   "outputs": [
    {
     "name": "stdout",
     "output_type": "stream",
     "text": [
      "\u001b[K\n",
      "== This is sourmash version 4.0.0. ==\n",
      "\u001b[K== Please cite Brown and Irber (2016), doi:10.21105/joss.00027. ==\n",
      "\n",
      "---...reading from file 'sourmash/sigs1/SH14-013.sig.gz'\n",
      "signature filename: sourmash/sigs1/SH14-013.sig.gz\n",
      "signature: SH14-013\n",
      "source file: output/SH14-013_R2.fq.gz\n",
      "md5: 249c53a79fe0d1fa8fcc61fedcfb4c7d\n",
      "k=21 molecule=DNA num=0 scaled=1000 seed=42 track_abundance=0\n",
      "size: 25322\n",
      "signature license: CC0\n",
      "\n",
      "---\n",
      "signature filename: sourmash/sigs1/SH14-013.sig.gz\n",
      "signature: SH14-013\n",
      "source file: output/SH14-013_R2.fq.gz\n",
      "md5: 152628e3436e58f3fa4f9888bbce526d\n",
      "k=31 molecule=DNA num=0 scaled=1000 seed=42 track_abundance=0\n",
      "size: 31987\n",
      "signature license: CC0\n",
      "\n",
      "---\n",
      "signature filename: sourmash/sigs1/SH14-013.sig.gz\n",
      "signature: SH14-013\n",
      "source file: output/SH14-013_R2.fq.gz\n",
      "md5: 740d31e5a4282cde203d17a75d7e4463\n",
      "k=51 molecule=DNA num=0 scaled=1000 seed=42 track_abundance=0\n",
      "size: 41123\n",
      "signature license: CC0\n",
      "\n",
      "\u001b[Kloaded 3 sigs from 'sourmash/sigs1/SH14-013.sig.gz'\n",
      "\u001b[Kloaded 3 signatures total.\n"
     ]
    }
   ],
   "source": [
    "!sourmash sig describe {sourmash_out}/SH14-013.sig.gz"
   ]
  },
  {
   "cell_type": "markdown",
   "id": "paperback-justice",
   "metadata": {},
   "source": [
    "# Search through them for matches to a particular genome"
   ]
  },
  {
   "cell_type": "code",
   "execution_count": 6,
   "id": "trained-tattoo",
   "metadata": {},
   "outputs": [
    {
     "name": "stdout",
     "output_type": "stream",
     "text": [
      "\u001b[K\n",
      "== This is sourmash version 4.0.0. ==\n",
      "\u001b[K== Please cite Brown and Irber (2016), doi:10.21105/joss.00027. ==\n",
      "\n",
      "\u001b[Kcomputing signatures for files: input/S_HeidelbergSL476.fasta.gz\n",
      "\u001b[KComputing a total of 1 signature(s).\n",
      "\u001b[K... reading sequences from input/S_HeidelbergSL476.fasta.gz\n",
      "\u001b[K... input/S_HeidelbergSL476.fasta.gz 1 sequences\n",
      "\u001b[Kcalculated 1 signature for 1 sequences taken from 1 files\n",
      "\u001b[Ksaved signature(s) to -. Note: signature license is CC0.\n"
     ]
    }
   ],
   "source": [
    "query_genome = 'input/S_HeidelbergSL476.fasta.gz'\n",
    "query_genome_name = 'S_HeidelbergSL476'\n",
    "query_sketch = f'{sourmash_dir}/query/{query_genome_name}.sig.gz'\n",
    "\n",
    "if not path.exists(f'{sourmash_dir}/query'):\n",
    "    os.mkdir(f'{sourmash_dir}/query')\n",
    "\n",
    "!sourmash sketch dna -p {sourmash_params} --merge {query_genome_name} \\\n",
    "    -o - {query_genome} | gzip > {query_sketch}"
   ]
  },
  {
   "cell_type": "code",
   "execution_count": 7,
   "id": "crucial-eclipse",
   "metadata": {},
   "outputs": [
    {
     "name": "stdout",
     "output_type": "stream",
     "text": [
      "\u001b[K\n",
      "== This is sourmash version 4.0.0. ==\n",
      "\u001b[K== Please cite Brown and Irber (2016), doi:10.21105/joss.00027. ==\n",
      "\n",
      "\u001b[Kselecting specified query k=51\n",
      "\u001b[Kloaded query: S_HeidelbergSL476... (k=51, DNA)\n",
      "\u001b[Kloaded 59 signatures.                                                          \n",
      "\n",
      "59 matches; showing first 3:\n",
      "similarity   match\n",
      "----------   -----\n",
      " 11.5%       SH12-013\n",
      " 10.3%       SH12-014\n",
      " 10.1%       SH14-008\n",
      "\n",
      "real\t0m6.489s\n",
      "user\t0m6.431s\n",
      "sys\t0m0.045s\n"
     ]
    }
   ],
   "source": [
    "!time sourmash search -k {kmer_large} -o {sourmash_dir}/query1.csv {query_sketch} {sourmash_out}/*.sig.gz"
   ]
  },
  {
   "cell_type": "code",
   "execution_count": 8,
   "id": "psychological-headline",
   "metadata": {},
   "outputs": [
    {
     "name": "stdout",
     "output_type": "stream",
     "text": [
      "similarity           name      filename                        md5\n",
      "0.11508932706134685  SH12-013  sourmash/sigs1/SH12-013.sig.gz  a4c34ce5ccf57767d0a1d4392318b243\n",
      "0.10308603037507885  SH12-014  sourmash/sigs1/SH12-014.sig.gz  abdd8a58c3cd446be16b0fca08f8679d\n",
      "0.10140947752126367  SH14-008  sourmash/sigs1/SH14-008.sig.gz  5294517198a67fea1e2e92456ab31ff8\n",
      "0.10103351685501787  SH10-30   sourmash/sigs1/SH10-30.sig.gz   324430a43b32ed760a89832e6c9c9239\n"
     ]
    }
   ],
   "source": [
    "!column -s',' -t {sourmash_dir}/query1.csv | head -n 5"
   ]
  },
  {
   "cell_type": "markdown",
   "id": "certified-structure",
   "metadata": {},
   "source": [
    "# Create SBT index"
   ]
  },
  {
   "cell_type": "code",
   "execution_count": 9,
   "id": "physical-vault",
   "metadata": {},
   "outputs": [
    {
     "name": "stdout",
     "output_type": "stream",
     "text": [
      "\u001b[K\n",
      "== This is sourmash version 4.0.0. ==\n",
      "\u001b[K== Please cite Brown and Irber (2016), doi:10.21105/joss.00027. ==\n",
      "\n",
      "\u001b[Kloading 59 files into SBT\n",
      "\u001b[Kloaded 1 sigs from 'sourmash/sigs1/SH08-001.sig.gz'z'\n",
      "\u001b[Kloaded 1 sigs from 'sourmash/sigs1/SH09-29.sig.gz'z'\n",
      "\u001b[Kloaded 1 sigs from 'sourmash/sigs1/SH10-001.sig.gz'z'\n",
      "\u001b[Kloaded 1 sigs from 'sourmash/sigs1/SH10-002.sig.gz'z'\n",
      "\u001b[Kloaded 1 sigs from 'sourmash/sigs1/SH10-014.sig.gz'z'\n",
      "\u001b[Kloaded 1 sigs from 'sourmash/sigs1/SH10-015.sig.gz'z'\n",
      "\u001b[Kloaded 1 sigs from 'sourmash/sigs1/SH10-30.sig.gz'z'\n",
      "\u001b[Kloaded 1 sigs from 'sourmash/sigs1/SH11-001.sig.gz'z'\n",
      "\u001b[Kloaded 1 sigs from 'sourmash/sigs1/SH11-002.sig.gz'z'\n",
      "\u001b[Kloaded 1 sigs from 'sourmash/sigs1/SH12-001.sig.gz'10 sigs total\n",
      "\u001b[Kloaded 1 sigs from 'sourmash/sigs1/SH12-002.sig.gz'z'\n",
      "\u001b[Kloaded 1 sigs from 'sourmash/sigs1/SH12-003.sig.gz'z'\n",
      "\u001b[Kloaded 1 sigs from 'sourmash/sigs1/SH12-004.sig.gz'z'\n",
      "\u001b[Kloaded 1 sigs from 'sourmash/sigs1/SH12-005.sig.gz'z'\n",
      "\u001b[Kloaded 1 sigs from 'sourmash/sigs1/SH12-006.sig.gz'z'\n",
      "\u001b[Kloaded 1 sigs from 'sourmash/sigs1/SH12-007.sig.gz'z'\n",
      "\u001b[Kloaded 1 sigs from 'sourmash/sigs1/SH12-008.sig.gz'z'\n",
      "\u001b[Kloaded 1 sigs from 'sourmash/sigs1/SH12-009.sig.gz'z'\n",
      "\u001b[Kloaded 1 sigs from 'sourmash/sigs1/SH12-010.sig.gz'z'\n",
      "\u001b[Kloaded 1 sigs from 'sourmash/sigs1/SH12-011.sig.gz'20 sigs total\n",
      "\u001b[Kloaded 1 sigs from 'sourmash/sigs1/SH12-012.sig.gz'z'\n",
      "\u001b[Kloaded 1 sigs from 'sourmash/sigs1/SH12-013.sig.gz'z'\n",
      "\u001b[Kloaded 1 sigs from 'sourmash/sigs1/SH12-014.sig.gz'z'\n",
      "\u001b[Kloaded 1 sigs from 'sourmash/sigs1/SH13-001.sig.gz'z'\n",
      "\u001b[Kloaded 1 sigs from 'sourmash/sigs1/SH13-002.sig.gz'z'\n",
      "\u001b[Kloaded 1 sigs from 'sourmash/sigs1/SH13-003.sig.gz'z'\n",
      "\u001b[Kloaded 1 sigs from 'sourmash/sigs1/SH13-004.sig.gz'z'\n",
      "\u001b[Kloaded 1 sigs from 'sourmash/sigs1/SH13-005.sig.gz'z'\n",
      "\u001b[Kloaded 1 sigs from 'sourmash/sigs1/SH13-006.sig.gz'z'\n",
      "\u001b[Kloaded 1 sigs from 'sourmash/sigs1/SH13-007.sig.gz'30 sigs total\n",
      "\u001b[Kloaded 1 sigs from 'sourmash/sigs1/SH13-008.sig.gz'z'\n",
      "\u001b[Kloaded 1 sigs from 'sourmash/sigs1/SH14-001.sig.gz'z'\n",
      "\u001b[Kloaded 1 sigs from 'sourmash/sigs1/SH14-002.sig.gz'z'\n",
      "\u001b[Kloaded 1 sigs from 'sourmash/sigs1/SH14-003.sig.gz'z'\n",
      "\u001b[Kloaded 1 sigs from 'sourmash/sigs1/SH14-004.sig.gz'z'\n",
      "\u001b[Kloaded 1 sigs from 'sourmash/sigs1/SH14-005.sig.gz'z'\n",
      "\u001b[Kloaded 1 sigs from 'sourmash/sigs1/SH14-006.sig.gz'z'\n",
      "\u001b[Kloaded 1 sigs from 'sourmash/sigs1/SH14-007.sig.gz'z'\n",
      "\u001b[Kloaded 1 sigs from 'sourmash/sigs1/SH14-008.sig.gz'z'\n",
      "\u001b[Kloaded 1 sigs from 'sourmash/sigs1/SH14-009.sig.gz'40 sigs total\n",
      "\u001b[Kloaded 1 sigs from 'sourmash/sigs1/SH14-010.sig.gz'z'\n",
      "\u001b[Kloaded 1 sigs from 'sourmash/sigs1/SH14-011.sig.gz'z'\n",
      "\u001b[Kloaded 1 sigs from 'sourmash/sigs1/SH14-012.sig.gz'z'\n",
      "\u001b[Kloaded 1 sigs from 'sourmash/sigs1/SH14-013.sig.gz'z'\n",
      "\u001b[Kloaded 1 sigs from 'sourmash/sigs1/SH14-014.sig.gz'z'\n",
      "\u001b[Kloaded 1 sigs from 'sourmash/sigs1/SH14-015.sig.gz'z'\n",
      "\u001b[Kloaded 1 sigs from 'sourmash/sigs1/SH14-016.sig.gz'z'\n",
      "\u001b[Kloaded 1 sigs from 'sourmash/sigs1/SH14-017.sig.gz'z'\n",
      "\u001b[Kloaded 1 sigs from 'sourmash/sigs1/SH14-018.sig.gz'z'\n",
      "\u001b[Kloaded 1 sigs from 'sourmash/sigs1/SH14-019.sig.gz'50 sigs total\n",
      "\u001b[Kloaded 1 sigs from 'sourmash/sigs1/SH14-020.sig.gz'z'\n",
      "\u001b[Kloaded 1 sigs from 'sourmash/sigs1/SH14-021.sig.gz'z'\n",
      "\u001b[Kloaded 1 sigs from 'sourmash/sigs1/SH14-022.sig.gz'z'\n",
      "\u001b[Kloaded 1 sigs from 'sourmash/sigs1/SH14-023.sig.gz'z'\n",
      "\u001b[Kloaded 1 sigs from 'sourmash/sigs1/SH14-024.sig.gz'z'\n",
      "\u001b[Kloaded 1 sigs from 'sourmash/sigs1/SH14-025.sig.gz'z'\n",
      "\u001b[Kloaded 1 sigs from 'sourmash/sigs1/SH14-026.sig.gz'z'\n",
      "\u001b[Kloaded 1 sigs from 'sourmash/sigs1/SH14-027.sig.gz'z'\n",
      "\u001b[Kloaded 1 sigs from 'sourmash/sigs1/SH14-028.sig.gz'z'\n",
      "\u001b[K\n",
      "\u001b[Kloaded 59 sigs; saving SBT under \"sourmash/index1/index1.sbt.json\"\n",
      "\u001b[KFinished saving nodes, now saving SBT index file.\n",
      "\u001b[KFinished saving SBT index, available at /home/CSCScience.ca/apetkau/workspace/thesis-data-simulation/jackalope/salmonella/sourmash/index1/index1.sbt.json\n",
      "\n",
      "\n",
      "real\t0m7.424s\n",
      "user\t0m7.352s\n",
      "sys\t0m0.056s\n"
     ]
    }
   ],
   "source": [
    "sourmash_index1 = f'{sourmash_dir}/index1/index1.sbt.json'\n",
    "\n",
    "!time sourmash index -k {kmer_small} {sourmash_index1} {sourmash_out}/*.sig.gz"
   ]
  },
  {
   "cell_type": "code",
   "execution_count": 10,
   "id": "environmental-medium",
   "metadata": {},
   "outputs": [
    {
     "name": "stdout",
     "output_type": "stream",
     "text": [
      "15M\tsourmash/index1\n"
     ]
    }
   ],
   "source": [
    "!du -sh {path.dirname(sourmash_index1)}"
   ]
  },
  {
   "cell_type": "markdown",
   "id": "becoming-coast",
   "metadata": {},
   "source": [
    "# Search SBT index"
   ]
  },
  {
   "cell_type": "code",
   "execution_count": 11,
   "id": "close-massachusetts",
   "metadata": {},
   "outputs": [
    {
     "name": "stdout",
     "output_type": "stream",
     "text": [
      "\u001b[K\n",
      "== This is sourmash version 4.0.0. ==\n",
      "\u001b[K== Please cite Brown and Irber (2016), doi:10.21105/joss.00027. ==\n",
      "\n",
      "\u001b[Kselecting specified query k=21\n",
      "\u001b[Kloaded query: S_HeidelbergSL476... (k=21, DNA)\n",
      "\u001b[Kloaded 1 databases.                                                            \n",
      "\n",
      "59 matches; showing first 3:\n",
      "similarity   match\n",
      "----------   -----\n",
      " 18.6%       SH12-013\n",
      " 17.9%       SH14-016\n",
      " 17.9%       SH14-021\n",
      "\n",
      "real\t0m3.576s\n",
      "user\t0m3.530s\n",
      "sys\t0m0.036s\n"
     ]
    }
   ],
   "source": [
    "!time sourmash search -k {kmer_small} -o {sourmash_dir}/query.index1.csv {query_sketch} {sourmash_index1}"
   ]
  }
 ],
 "metadata": {
  "kernelspec": {
   "display_name": "Python 3",
   "language": "python",
   "name": "python3"
  },
  "language_info": {
   "codemirror_mode": {
    "name": "ipython",
    "version": 3
   },
   "file_extension": ".py",
   "mimetype": "text/x-python",
   "name": "python",
   "nbconvert_exporter": "python",
   "pygments_lexer": "ipython3",
   "version": "3.8.6"
  }
 },
 "nbformat": 4,
 "nbformat_minor": 5
}
