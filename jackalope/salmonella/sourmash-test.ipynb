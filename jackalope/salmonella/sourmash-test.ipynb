{
 "cells": [
  {
   "cell_type": "markdown",
   "id": "tutorial-assignment",
   "metadata": {},
   "source": [
    "# Index many genomes with sourmash"
   ]
  },
  {
   "cell_type": "code",
   "execution_count": 1,
   "id": "endangered-clarity",
   "metadata": {},
   "outputs": [
    {
     "data": {
      "text/plain": [
       "['SH14-013', 'SH10-015', 'SH12-009', 'SH14-006']"
      ]
     },
     "execution_count": 1,
     "metadata": {},
     "output_type": "execute_result"
    }
   ],
   "source": [
    "import os\n",
    "from os import path\n",
    "\n",
    "import os\n",
    "\n",
    "# Fix warning about locale unset\n",
    "os.environ['LANG'] = 'en_US.UTF-8'\n",
    "\n",
    "reads_dir = 'output'\n",
    "sourmash_dir = 'sourmash'\n",
    "sourmash_out = f'{sourmash_dir}/sigs1'\n",
    "\n",
    "if not path.exists(sourmash_dir):\n",
    "    os.mkdir(sourmash_dir)\n",
    "    \n",
    "if not path.exists(sourmash_out):\n",
    "    os.mkdir(sourmash_out)\n",
    "\n",
    "def strip_end(text, suffix):\n",
    "    if suffix and text.endswith(suffix):\n",
    "        return text[:-len(suffix)]\n",
    "    return text\n",
    "\n",
    "sample_names = [strip_end(f, '_R1.fq.gz') for f in os.listdir(reads_dir) if f.endswith('_R1.fq.gz')]\n",
    "sample_names[:4]"
   ]
  },
  {
   "cell_type": "markdown",
   "id": "muslim-credit",
   "metadata": {},
   "source": [
    "# Create all sourmash signatures"
   ]
  },
  {
   "cell_type": "code",
   "execution_count": 2,
   "id": "turned-leather",
   "metadata": {},
   "outputs": [],
   "source": [
    "kmer_small = 21\n",
    "kmer_medium = 31\n",
    "kmer_large = 51\n",
    "scaled=1000\n",
    "sourmash_params = f'k={kmer_small},k={kmer_medium},k={kmer_large},scaled={scaled}'\n",
    "\n",
    "!parallel -j 32 -I% 'sourmash sketch dna -p {sourmash_params} --merge % -o - \\\n",
    "    {reads_dir}/%_R1.fq.gz {reads_dir}/%_R2.fq.gz | gzip > {sourmash_out}/%.sig.gz' \\\n",
    "    ::: {' '.join(sample_names)} 2> {sourmash_dir}/sigs1.stderr"
   ]
  },
  {
   "cell_type": "code",
   "execution_count": 3,
   "id": "novel-integer",
   "metadata": {},
   "outputs": [
    {
     "name": "stdout",
     "output_type": "stream",
     "text": [
      "\u001b[K\n",
      "== This is sourmash version 4.0.0. ==\n",
      "\u001b[K== Please cite Brown and Irber (2016), doi:10.21105/joss.00027. ==\n",
      "\n",
      "\u001b[Kcomputing signatures for files: output/SH11-001_R1.fq.gz, output/SH11-001_R2.fq.gz\n",
      "\u001b[KComputing a total of 1 signature(s).\n",
      "\u001b[K... reading sequences from output/SH11-001_R1.fq.gz\n",
      "\u001b[K... output/SH11-001_R1.fq.gz 293397 sequences\n",
      "\u001b[K... reading sequences from output/SH11-001_R2.fq.gz\n",
      "\u001b[K... output/SH11-001_R2.fq.gz 293397 sequences\n"
     ]
    }
   ],
   "source": [
    "!head {sourmash_dir}/sigs1.stderr"
   ]
  },
  {
   "cell_type": "code",
   "execution_count": 4,
   "id": "grateful-hypothetical",
   "metadata": {},
   "outputs": [
    {
     "name": "stdout",
     "output_type": "stream",
     "text": [
      "44M\tsourmash/sigs1\n"
     ]
    }
   ],
   "source": [
    "!du -sh {sourmash_out}"
   ]
  },
  {
   "cell_type": "code",
   "execution_count": 5,
   "id": "romance-auditor",
   "metadata": {},
   "outputs": [
    {
     "name": "stdout",
     "output_type": "stream",
     "text": [
      "\u001b[K\n",
      "== This is sourmash version 4.0.0. ==\n",
      "\u001b[K== Please cite Brown and Irber (2016), doi:10.21105/joss.00027. ==\n",
      "\n",
      "---...reading from file 'sourmash/sigs1/SH14-013.sig.gz'\n",
      "signature filename: sourmash/sigs1/SH14-013.sig.gz\n",
      "signature: SH14-013\n",
      "source file: output/SH14-013_R2.fq.gz\n",
      "md5: 249c53a79fe0d1fa8fcc61fedcfb4c7d\n",
      "k=21 molecule=DNA num=0 scaled=1000 seed=42 track_abundance=0\n",
      "size: 25322\n",
      "signature license: CC0\n",
      "\n",
      "---\n",
      "signature filename: sourmash/sigs1/SH14-013.sig.gz\n",
      "signature: SH14-013\n",
      "source file: output/SH14-013_R2.fq.gz\n",
      "md5: 152628e3436e58f3fa4f9888bbce526d\n",
      "k=31 molecule=DNA num=0 scaled=1000 seed=42 track_abundance=0\n",
      "size: 31987\n",
      "signature license: CC0\n",
      "\n",
      "---\n",
      "signature filename: sourmash/sigs1/SH14-013.sig.gz\n",
      "signature: SH14-013\n",
      "source file: output/SH14-013_R2.fq.gz\n",
      "md5: 740d31e5a4282cde203d17a75d7e4463\n",
      "k=51 molecule=DNA num=0 scaled=1000 seed=42 track_abundance=0\n",
      "size: 41123\n",
      "signature license: CC0\n",
      "\n",
      "\u001b[Kloaded 3 sigs from 'sourmash/sigs1/SH14-013.sig.gz'\n",
      "\u001b[Kloaded 3 signatures total.\n"
     ]
    }
   ],
   "source": [
    "!sourmash sig describe {sourmash_out}/SH14-013.sig.gz"
   ]
  },
  {
   "cell_type": "markdown",
   "id": "conservative-plaintiff",
   "metadata": {},
   "source": [
    "# Search through them for matches to a particular genome"
   ]
  },
  {
   "cell_type": "code",
   "execution_count": 6,
   "id": "patent-spending",
   "metadata": {},
   "outputs": [
    {
     "name": "stdout",
     "output_type": "stream",
     "text": [
      "\u001b[K\n",
      "== This is sourmash version 4.0.0. ==\n",
      "\u001b[K== Please cite Brown and Irber (2016), doi:10.21105/joss.00027. ==\n",
      "\n",
      "\u001b[Kcomputing signatures for files: input/S_HeidelbergSL476.fasta.gz\n",
      "\u001b[KComputing a total of 1 signature(s).\n",
      "\u001b[K... reading sequences from input/S_HeidelbergSL476.fasta.gz\n",
      "\u001b[K... input/S_HeidelbergSL476.fasta.gz 1 sequences\n",
      "\u001b[Kcalculated 1 signature for 1 sequences taken from 1 files\n",
      "\u001b[Ksaved signature(s) to -. Note: signature license is CC0.\n"
     ]
    }
   ],
   "source": [
    "query_genome = 'input/S_HeidelbergSL476.fasta.gz'\n",
    "query_genome_name = 'S_HeidelbergSL476'\n",
    "query_sketch = f'{sourmash_dir}/query/{query_genome_name}.sig.gz'\n",
    "\n",
    "if not path.exists(f'{sourmash_dir}/query'):\n",
    "    os.mkdir(f'{sourmash_dir}/query')\n",
    "\n",
    "!sourmash sketch dna -p {sourmash_params} --merge {query_genome_name} \\\n",
    "    -o - {query_genome} | gzip > {query_sketch}"
   ]
  },
  {
   "cell_type": "code",
   "execution_count": 7,
   "id": "induced-accessory",
   "metadata": {},
   "outputs": [
    {
     "name": "stdout",
     "output_type": "stream",
     "text": [
      "\u001b[K\n",
      "== This is sourmash version 4.0.0. ==\n",
      "\u001b[K== Please cite Brown and Irber (2016), doi:10.21105/joss.00027. ==\n",
      "\n",
      "\u001b[Kselecting specified query k=51\n",
      "\u001b[Kloaded query: S_HeidelbergSL476... (k=51, DNA)\n",
      "\u001b[Kloaded 59 signatures.                                                          \n",
      "\n",
      "59 matches; showing first 3:\n",
      "similarity   match\n",
      "----------   -----\n",
      " 11.5%       SH12-013\n",
      " 10.3%       SH12-014\n",
      " 10.1%       SH14-008\n",
      "\n",
      "real\t0m6.489s\n",
      "user\t0m6.431s\n",
      "sys\t0m0.045s\n"
     ]
    }
   ],
   "source": [
    "!time sourmash search -k {kmer_large} -o {sourmash_dir}/query1.csv {query_sketch} {sourmash_out}/*.sig.gz"
   ]
  },
  {
   "cell_type": "code",
   "execution_count": 8,
   "id": "exclusive-publisher",
   "metadata": {},
   "outputs": [
    {
     "name": "stdout",
     "output_type": "stream",
     "text": [
      "similarity           name      filename                        md5\n",
      "0.11508932706134685  SH12-013  sourmash/sigs1/SH12-013.sig.gz  a4c34ce5ccf57767d0a1d4392318b243\n",
      "0.10308603037507885  SH12-014  sourmash/sigs1/SH12-014.sig.gz  abdd8a58c3cd446be16b0fca08f8679d\n",
      "0.10140947752126367  SH14-008  sourmash/sigs1/SH14-008.sig.gz  5294517198a67fea1e2e92456ab31ff8\n",
      "0.10103351685501787  SH10-30   sourmash/sigs1/SH10-30.sig.gz   324430a43b32ed760a89832e6c9c9239\n"
     ]
    }
   ],
   "source": [
    "!column -s',' -t {sourmash_dir}/query1.csv | head -n 5"
   ]
  },
  {
   "cell_type": "markdown",
   "id": "capable-stuff",
   "metadata": {},
   "source": [
    "# Create SBT index"
   ]
  },
  {
   "cell_type": "code",
   "execution_count": 9,
   "id": "unavailable-appliance",
   "metadata": {},
   "outputs": [
    {
     "name": "stdout",
     "output_type": "stream",
     "text": [
      "\u001b[K\n",
      "== This is sourmash version 4.0.0. ==\n",
      "\u001b[K== Please cite Brown and Irber (2016), doi:10.21105/joss.00027. ==\n",
      "\n",
      "\u001b[Kloading 59 files into SBT\n",
      "\u001b[Kloaded 1 sigs from 'sourmash/sigs1/SH08-001.sig.gz'z'\n",
      "\u001b[Kloaded 1 sigs from 'sourmash/sigs1/SH09-29.sig.gz'z'\n",
      "\u001b[Kloaded 1 sigs from 'sourmash/sigs1/SH10-001.sig.gz'z'\n",
      "\u001b[Kloaded 1 sigs from 'sourmash/sigs1/SH10-002.sig.gz'z'\n",
      "\u001b[Kloaded 1 sigs from 'sourmash/sigs1/SH10-014.sig.gz'z'\n",
      "\u001b[Kloaded 1 sigs from 'sourmash/sigs1/SH10-015.sig.gz'z'\n",
      "\u001b[Kloaded 1 sigs from 'sourmash/sigs1/SH10-30.sig.gz'z'\n",
      "\u001b[Kloaded 1 sigs from 'sourmash/sigs1/SH11-001.sig.gz'z'\n",
      "\u001b[Kloaded 1 sigs from 'sourmash/sigs1/SH11-002.sig.gz'z'\n",
      "\u001b[Kloaded 1 sigs from 'sourmash/sigs1/SH12-001.sig.gz'10 sigs total\n",
      "\u001b[Kloaded 1 sigs from 'sourmash/sigs1/SH12-002.sig.gz'z'\n",
      "\u001b[Kloaded 1 sigs from 'sourmash/sigs1/SH12-003.sig.gz'z'\n",
      "\u001b[Kloaded 1 sigs from 'sourmash/sigs1/SH12-004.sig.gz'z'\n",
      "\u001b[Kloaded 1 sigs from 'sourmash/sigs1/SH12-005.sig.gz'z'\n",
      "\u001b[Kloaded 1 sigs from 'sourmash/sigs1/SH12-006.sig.gz'z'\n",
      "\u001b[Kloaded 1 sigs from 'sourmash/sigs1/SH12-007.sig.gz'z'\n",
      "\u001b[Kloaded 1 sigs from 'sourmash/sigs1/SH12-008.sig.gz'z'\n",
      "\u001b[Kloaded 1 sigs from 'sourmash/sigs1/SH12-009.sig.gz'z'\n",
      "\u001b[Kloaded 1 sigs from 'sourmash/sigs1/SH12-010.sig.gz'z'\n",
      "\u001b[Kloaded 1 sigs from 'sourmash/sigs1/SH12-011.sig.gz'20 sigs total\n",
      "\u001b[Kloaded 1 sigs from 'sourmash/sigs1/SH12-012.sig.gz'z'\n",
      "\u001b[Kloaded 1 sigs from 'sourmash/sigs1/SH12-013.sig.gz'z'\n",
      "\u001b[Kloaded 1 sigs from 'sourmash/sigs1/SH12-014.sig.gz'z'\n",
      "\u001b[Kloaded 1 sigs from 'sourmash/sigs1/SH13-001.sig.gz'z'\n",
      "\u001b[Kloaded 1 sigs from 'sourmash/sigs1/SH13-002.sig.gz'z'\n",
      "\u001b[Kloaded 1 sigs from 'sourmash/sigs1/SH13-003.sig.gz'z'\n",
      "\u001b[Kloaded 1 sigs from 'sourmash/sigs1/SH13-004.sig.gz'z'\n",
      "\u001b[Kloaded 1 sigs from 'sourmash/sigs1/SH13-005.sig.gz'z'\n",
      "\u001b[Kloaded 1 sigs from 'sourmash/sigs1/SH13-006.sig.gz'z'\n",
      "\u001b[Kloaded 1 sigs from 'sourmash/sigs1/SH13-007.sig.gz'30 sigs total\n",
      "\u001b[Kloaded 1 sigs from 'sourmash/sigs1/SH13-008.sig.gz'z'\n",
      "\u001b[Kloaded 1 sigs from 'sourmash/sigs1/SH14-001.sig.gz'z'\n",
      "\u001b[Kloaded 1 sigs from 'sourmash/sigs1/SH14-002.sig.gz'z'\n",
      "\u001b[Kloaded 1 sigs from 'sourmash/sigs1/SH14-003.sig.gz'z'\n",
      "\u001b[Kloaded 1 sigs from 'sourmash/sigs1/SH14-004.sig.gz'z'\n",
      "\u001b[Kloaded 1 sigs from 'sourmash/sigs1/SH14-005.sig.gz'z'\n",
      "\u001b[Kloaded 1 sigs from 'sourmash/sigs1/SH14-006.sig.gz'z'\n",
      "\u001b[Kloaded 1 sigs from 'sourmash/sigs1/SH14-007.sig.gz'z'\n",
      "\u001b[Kloaded 1 sigs from 'sourmash/sigs1/SH14-008.sig.gz'z'\n",
      "\u001b[Kloaded 1 sigs from 'sourmash/sigs1/SH14-009.sig.gz'40 sigs total\n",
      "\u001b[Kloaded 1 sigs from 'sourmash/sigs1/SH14-010.sig.gz'z'\n",
      "\u001b[Kloaded 1 sigs from 'sourmash/sigs1/SH14-011.sig.gz'z'\n",
      "\u001b[Kloaded 1 sigs from 'sourmash/sigs1/SH14-012.sig.gz'z'\n",
      "\u001b[Kloaded 1 sigs from 'sourmash/sigs1/SH14-013.sig.gz'z'\n",
      "\u001b[Kloaded 1 sigs from 'sourmash/sigs1/SH14-014.sig.gz'z'\n",
      "\u001b[Kloaded 1 sigs from 'sourmash/sigs1/SH14-015.sig.gz'z'\n",
      "\u001b[Kloaded 1 sigs from 'sourmash/sigs1/SH14-016.sig.gz'z'\n",
      "\u001b[Kloaded 1 sigs from 'sourmash/sigs1/SH14-017.sig.gz'z'\n",
      "\u001b[Kloaded 1 sigs from 'sourmash/sigs1/SH14-018.sig.gz'z'\n",
      "\u001b[Kloaded 1 sigs from 'sourmash/sigs1/SH14-019.sig.gz'50 sigs total\n",
      "\u001b[Kloaded 1 sigs from 'sourmash/sigs1/SH14-020.sig.gz'z'\n",
      "\u001b[Kloaded 1 sigs from 'sourmash/sigs1/SH14-021.sig.gz'z'\n",
      "\u001b[Kloaded 1 sigs from 'sourmash/sigs1/SH14-022.sig.gz'z'\n",
      "\u001b[Kloaded 1 sigs from 'sourmash/sigs1/SH14-023.sig.gz'z'\n",
      "\u001b[Kloaded 1 sigs from 'sourmash/sigs1/SH14-024.sig.gz'z'\n",
      "\u001b[Kloaded 1 sigs from 'sourmash/sigs1/SH14-025.sig.gz'z'\n",
      "\u001b[Kloaded 1 sigs from 'sourmash/sigs1/SH14-026.sig.gz'z'\n",
      "\u001b[Kloaded 1 sigs from 'sourmash/sigs1/SH14-027.sig.gz'z'\n",
      "\u001b[Kloaded 1 sigs from 'sourmash/sigs1/SH14-028.sig.gz'z'\n",
      "\u001b[K\n",
      "\u001b[Kloaded 59 sigs; saving SBT under \"sourmash/index1/index1.sbt.json\"\n",
      "\u001b[KFinished saving nodes, now saving SBT index file.\n",
      "\u001b[KFinished saving SBT index, available at /home/CSCScience.ca/apetkau/workspace/thesis-data-simulation/jackalope/salmonella/sourmash/index1/index1.sbt.json\n",
      "\n",
      "\n",
      "real\t0m7.424s\n",
      "user\t0m7.352s\n",
      "sys\t0m0.056s\n"
     ]
    }
   ],
   "source": [
    "sourmash_index1 = f'{sourmash_dir}/index1/index1.sbt.json'\n",
    "\n",
    "!time sourmash index -k {kmer_small} {sourmash_index1} {sourmash_out}/*.sig.gz"
   ]
  },
  {
   "cell_type": "code",
   "execution_count": 10,
   "id": "australian-showcase",
   "metadata": {},
   "outputs": [
    {
     "name": "stdout",
     "output_type": "stream",
     "text": [
      "15M\tsourmash/index1\n"
     ]
    }
   ],
   "source": [
    "!du -sh {path.dirname(sourmash_index1)}"
   ]
  },
  {
   "cell_type": "markdown",
   "id": "greater-national",
   "metadata": {},
   "source": [
    "# Search SBT index"
   ]
  },
  {
   "cell_type": "code",
   "execution_count": 11,
   "id": "requested-aluminum",
   "metadata": {},
   "outputs": [
    {
     "name": "stdout",
     "output_type": "stream",
     "text": [
      "\u001b[K\n",
      "== This is sourmash version 4.0.0. ==\n",
      "\u001b[K== Please cite Brown and Irber (2016), doi:10.21105/joss.00027. ==\n",
      "\n",
      "\u001b[Kselecting specified query k=21\n",
      "\u001b[Kloaded query: S_HeidelbergSL476... (k=21, DNA)\n",
      "\u001b[Kloaded 1 databases.                                                            \n",
      "\n",
      "59 matches; showing first 3:\n",
      "similarity   match\n",
      "----------   -----\n",
      " 18.6%       SH12-013\n",
      " 17.9%       SH14-016\n",
      " 17.9%       SH14-021\n",
      "\n",
      "real\t0m3.576s\n",
      "user\t0m3.530s\n",
      "sys\t0m0.036s\n"
     ]
    }
   ],
   "source": [
    "!time sourmash search -k {kmer_small} -o {sourmash_dir}/query.index1.csv {query_sketch} {sourmash_index1}"
   ]
  },
  {
   "cell_type": "markdown",
   "id": "scientific-going",
   "metadata": {},
   "source": [
    "# Test incrementally adding new genomes to SBT index"
   ]
  },
  {
   "cell_type": "markdown",
   "id": "moved-liquid",
   "metadata": {},
   "source": [
    "# Case: 10 genomes"
   ]
  },
  {
   "cell_type": "code",
   "execution_count": 34,
   "id": "floral-sellers",
   "metadata": {},
   "outputs": [
    {
     "name": "stdout",
     "output_type": "stream",
     "text": [
      "\u001b[K\n",
      "== This is sourmash version 4.0.0. ==\n",
      "\u001b[K== Please cite Brown and Irber (2016), doi:10.21105/joss.00027. ==\n",
      "\n",
      "\u001b[Kloading 10 files into SBT\n",
      "\u001b[Kloaded 1 sigs from 'sourmash/sigs1/SH14-013.sig.gz'z'\n",
      "\u001b[Kloaded 1 sigs from 'sourmash/sigs1/SH10-015.sig.gz'z'\n",
      "\u001b[Kloaded 1 sigs from 'sourmash/sigs1/SH12-009.sig.gz'z'\n",
      "\u001b[Kloaded 1 sigs from 'sourmash/sigs1/SH14-006.sig.gz'z'\n",
      "\u001b[Kloaded 1 sigs from 'sourmash/sigs1/SH14-002.sig.gz'z'\n",
      "\u001b[Kloaded 1 sigs from 'sourmash/sigs1/SH12-013.sig.gz'z'\n",
      "\u001b[Kloaded 1 sigs from 'sourmash/sigs1/SH12-003.sig.gz'z'\n",
      "\u001b[Kloaded 1 sigs from 'sourmash/sigs1/SH12-007.sig.gz'z'\n",
      "\u001b[Kloaded 1 sigs from 'sourmash/sigs1/SH14-008.sig.gz'z'\n",
      "\u001b[Kloaded 1 sigs from 'sourmash/sigs1/SH13-008.sig.gz'10 sigs total\n",
      "\u001b[K\n",
      "\u001b[Kloaded 10 sigs; saving SBT under \"sourmash/index-update/index10.sbt.json\"\n",
      "\u001b[KFinished saving nodes, now saving SBT index file.\n",
      "\u001b[KFinished saving SBT index, available at /home/CSCScience.ca/apetkau/workspace/thesis-data-simulation/jackalope/salmonella/sourmash/index-update/index10.sbt.json\n",
      "\n",
      "\n",
      "real\t0m1.427s\n",
      "user\t0m1.389s\n",
      "sys\t0m0.033s\n"
     ]
    }
   ],
   "source": [
    "index_update10 = f'{sourmash_dir}/index-update/index10.sbt.json'\n",
    "\n",
    "inc_kmer = 21\n",
    "\n",
    "sig_files = [f'{sourmash_out}/{n}.sig.gz' for n in sample_names[:10]]\n",
    "\n",
    "!time sourmash index -k {inc_kmer} {index_update10} {' '.join(sig_files)}"
   ]
  },
  {
   "cell_type": "code",
   "execution_count": 35,
   "id": "rolled-sessions",
   "metadata": {},
   "outputs": [
    {
     "name": "stdout",
     "output_type": "stream",
     "text": [
      "\u001b[K\n",
      "== This is sourmash version 4.0.0. ==\n",
      "\u001b[K== Please cite Brown and Irber (2016), doi:10.21105/joss.00027. ==\n",
      "\n",
      "\u001b[Kselecting specified query k=21\n",
      "\u001b[Kloaded query: S_HeidelbergSL476... (k=21, DNA)\n",
      "\u001b[Kloaded 1 databases.                                                            \n",
      "\n",
      "10 matches; showing first 3:\n",
      "similarity   match\n",
      "----------   -----\n",
      " 18.6%       SH12-013\n",
      " 17.7%       SH14-006\n",
      " 17.6%       SH14-013\n",
      "\n",
      "real\t0m0.788s\n",
      "user\t0m0.770s\n",
      "sys\t0m0.016s\n"
     ]
    }
   ],
   "source": [
    "!time sourmash search -k {inc_kmer} -o {sourmash_dir}/query.index10.csv {query_sketch} {index_update10}"
   ]
  },
  {
   "cell_type": "markdown",
   "id": "finnish-bunny",
   "metadata": {},
   "source": [
    "# Case: Add 20 genomes"
   ]
  },
  {
   "cell_type": "code",
   "execution_count": 36,
   "id": "chicken-insertion",
   "metadata": {},
   "outputs": [
    {
     "name": "stdout",
     "output_type": "stream",
     "text": [
      "\u001b[K\n",
      "== This is sourmash version 4.0.0. ==\n",
      "\u001b[K== Please cite Brown and Irber (2016), doi:10.21105/joss.00027. ==\n",
      "\n",
      "\u001b[Kloading 11 files into SBT\n",
      "\u001b[Kloaded 10 sigs from 'sourmash/index-update/index10.sbt.json'0 sigs total\n",
      "\u001b[Kloaded 1 sigs from 'sourmash/sigs1/SH11-001.sig.gz'z'\n",
      "\u001b[Kloaded 1 sigs from 'sourmash/sigs1/SH14-016.sig.gz'z'\n",
      "\u001b[Kloaded 1 sigs from 'sourmash/sigs1/SH12-006.sig.gz'z'\n",
      "\u001b[Kloaded 1 sigs from 'sourmash/sigs1/SH14-020.sig.gz'z'\n",
      "\u001b[Kloaded 1 sigs from 'sourmash/sigs1/SH14-004.sig.gz'z'\n",
      "\u001b[Kloaded 1 sigs from 'sourmash/sigs1/SH12-014.sig.gz'z'\n",
      "\u001b[Kloaded 1 sigs from 'sourmash/sigs1/SH14-015.sig.gz'z'\n",
      "\u001b[Kloaded 1 sigs from 'sourmash/sigs1/SH12-005.sig.gz'z'\n",
      "\u001b[Kloaded 1 sigs from 'sourmash/sigs1/SH12-012.sig.gz'z'\n",
      "\u001b[Kloaded 1 sigs from 'sourmash/sigs1/SH14-011.sig.gz'20 sigs total\n",
      "\u001b[K\n",
      "\u001b[Kloaded 20 sigs; saving SBT under \"sourmash/index-update/index20.sbt.json\"\n",
      "\u001b[KFinished saving nodes, now saving SBT index file.\n",
      "\u001b[KFinished saving SBT index, available at /home/CSCScience.ca/apetkau/workspace/thesis-data-simulation/jackalope/salmonella/sourmash/index-update/index20.sbt.json\n",
      "\n",
      "\n",
      "real\t0m1.889s\n",
      "user\t0m1.851s\n",
      "sys\t0m0.032s\n"
     ]
    }
   ],
   "source": [
    "index_update20 = f'{sourmash_dir}/index-update/index20.sbt.json'\n",
    "sig_files = [f'{sourmash_out}/{n}.sig.gz' for n in sample_names[10:20]]\n",
    "!time sourmash index -k {inc_kmer} {index_update20} {index_update10} {' '.join(sig_files)}"
   ]
  },
  {
   "cell_type": "code",
   "execution_count": 37,
   "id": "missing-initial",
   "metadata": {},
   "outputs": [
    {
     "name": "stdout",
     "output_type": "stream",
     "text": [
      "\u001b[K\n",
      "== This is sourmash version 4.0.0. ==\n",
      "\u001b[K== Please cite Brown and Irber (2016), doi:10.21105/joss.00027. ==\n",
      "\n",
      "\u001b[Kselecting specified query k=21\n",
      "\u001b[Kloaded query: S_HeidelbergSL476... (k=21, DNA)\n",
      "\u001b[Kloaded 1 databases.                                                            \n",
      "\n",
      "20 matches; showing first 3:\n",
      "similarity   match\n",
      "----------   -----\n",
      " 18.6%       SH12-013\n",
      " 17.9%       SH14-016\n",
      " 17.8%       SH12-014\n",
      "\n",
      "real\t0m1.379s\n",
      "user\t0m1.352s\n",
      "sys\t0m0.025s\n"
     ]
    }
   ],
   "source": [
    "!time sourmash search -k {inc_kmer} -o {sourmash_dir}/query.index20.csv {query_sketch} {index_update20}"
   ]
  },
  {
   "cell_type": "code",
   "execution_count": 46,
   "id": "cultural-certificate",
   "metadata": {},
   "outputs": [
    {
     "name": "stdout",
     "output_type": "stream",
     "text": [
      "2.4M\tsourmash/index-update/.sbt.index10\n",
      "4.8M\tsourmash/index-update/.sbt.index20\n"
     ]
    }
   ],
   "source": [
    "!du -sh {sourmash_dir}/index-update/.[^.]*"
   ]
  },
  {
   "cell_type": "markdown",
   "id": "possible-capital",
   "metadata": {},
   "source": [
    "# Case: 30 genomes"
   ]
  },
  {
   "cell_type": "code",
   "execution_count": 47,
   "id": "living-first",
   "metadata": {},
   "outputs": [
    {
     "name": "stdout",
     "output_type": "stream",
     "text": [
      "\u001b[K\n",
      "== This is sourmash version 4.0.0. ==\n",
      "\u001b[K== Please cite Brown and Irber (2016), doi:10.21105/joss.00027. ==\n",
      "\n",
      "\u001b[Kloading 11 files into SBT\n",
      "\u001b[Kloaded 20 sigs from 'sourmash/index-update/index20.sbt.json'0 sigs total\n",
      "\u001b[Kloaded 1 sigs from 'sourmash/sigs1/SH14-014.sig.gz'z'\n",
      "\u001b[Kloaded 1 sigs from 'sourmash/sigs1/SH14-024.sig.gz'z'\n",
      "\u001b[Kloaded 1 sigs from 'sourmash/sigs1/SH14-025.sig.gz'z'\n",
      "\u001b[Kloaded 1 sigs from 'sourmash/sigs1/SH14-019.sig.gz'z'\n",
      "\u001b[Kloaded 1 sigs from 'sourmash/sigs1/SH14-009.sig.gz'z'\n",
      "\u001b[Kloaded 1 sigs from 'sourmash/sigs1/SH14-003.sig.gz'z'\n",
      "\u001b[Kloaded 1 sigs from 'sourmash/sigs1/SH14-026.sig.gz'z'\n",
      "\u001b[Kloaded 1 sigs from 'sourmash/sigs1/SH10-30.sig.gz'z'\n",
      "\u001b[Kloaded 1 sigs from 'sourmash/sigs1/SH14-010.sig.gz'z'\n",
      "\u001b[Kloaded 1 sigs from 'sourmash/sigs1/SH10-001.sig.gz'30 sigs total\n",
      "\u001b[K\n",
      "\u001b[Kloaded 30 sigs; saving SBT under \"sourmash/index-update/index30.sbt.json\"\n",
      "\u001b[KFinished saving nodes, now saving SBT index file.\n",
      "\u001b[KFinished saving SBT index, available at /home/CSCScience.ca/apetkau/workspace/thesis-data-simulation/jackalope/salmonella/sourmash/index-update/index30.sbt.json\n",
      "\n",
      "\n",
      "real\t0m2.367s\n",
      "user\t0m2.310s\n",
      "sys\t0m0.052s\n"
     ]
    }
   ],
   "source": [
    "index_update30 = f'{sourmash_dir}/index-update/index30.sbt.json'\n",
    "sig_files = [f'{sourmash_out}/{n}.sig.gz' for n in sample_names[20:30]]\n",
    "!time sourmash index -k {inc_kmer} {index_update30} {index_update20} {' '.join(sig_files)}"
   ]
  },
  {
   "cell_type": "code",
   "execution_count": 48,
   "id": "spread-rider",
   "metadata": {},
   "outputs": [
    {
     "name": "stdout",
     "output_type": "stream",
     "text": [
      "\u001b[K\n",
      "== This is sourmash version 4.0.0. ==\n",
      "\u001b[K== Please cite Brown and Irber (2016), doi:10.21105/joss.00027. ==\n",
      "\n",
      "\u001b[Kselecting specified query k=21\n",
      "\u001b[Kloaded query: S_HeidelbergSL476... (k=21, DNA)\n",
      "\u001b[Kloaded 1 databases.                                                            \n",
      "\n",
      "30 matches; showing first 3:\n",
      "similarity   match\n",
      "----------   -----\n",
      " 18.6%       SH12-013\n",
      " 17.9%       SH14-016\n",
      " 17.8%       SH14-025\n",
      "\n",
      "real\t0m1.959s\n",
      "user\t0m1.918s\n",
      "sys\t0m0.036s\n"
     ]
    }
   ],
   "source": [
    "!time sourmash search -k {inc_kmer} -o {sourmash_dir}/query.index30.csv {query_sketch} {index_update30}"
   ]
  },
  {
   "cell_type": "code",
   "execution_count": 49,
   "id": "ethical-justice",
   "metadata": {},
   "outputs": [
    {
     "name": "stdout",
     "output_type": "stream",
     "text": [
      "2.4M\tsourmash/index-update/.sbt.index10\n",
      "4.8M\tsourmash/index-update/.sbt.index20\n",
      "7.2M\tsourmash/index-update/.sbt.index30\n"
     ]
    }
   ],
   "source": [
    "!du -sh {sourmash_dir}/index-update/.[^.]*"
   ]
  },
  {
   "cell_type": "markdown",
   "id": "crude-vietnam",
   "metadata": {},
   "source": [
    "# Appending to SBT\n",
    "\n",
    "## Case: Initial 10 genomes"
   ]
  },
  {
   "cell_type": "code",
   "execution_count": 65,
   "id": "solar-eating",
   "metadata": {},
   "outputs": [
    {
     "name": "stdout",
     "output_type": "stream",
     "text": [
      "\u001b[K\n",
      "== This is sourmash version 4.0.0. ==\n",
      "\u001b[K== Please cite Brown and Irber (2016), doi:10.21105/joss.00027. ==\n",
      "\n",
      "\u001b[Kloading 10 files into SBT\n",
      "\u001b[Kloaded 1 sigs from 'sourmash/sigs1/SH14-013.sig.gz'z'\n",
      "\u001b[Kloaded 1 sigs from 'sourmash/sigs1/SH10-015.sig.gz'z'\n",
      "\u001b[Kloaded 1 sigs from 'sourmash/sigs1/SH12-009.sig.gz'z'\n",
      "\u001b[Kloaded 1 sigs from 'sourmash/sigs1/SH14-006.sig.gz'z'\n",
      "\u001b[Kloaded 1 sigs from 'sourmash/sigs1/SH14-002.sig.gz'z'\n",
      "\u001b[Kloaded 1 sigs from 'sourmash/sigs1/SH12-013.sig.gz'z'\n",
      "\u001b[Kloaded 1 sigs from 'sourmash/sigs1/SH12-003.sig.gz'z'\n",
      "\u001b[Kloaded 1 sigs from 'sourmash/sigs1/SH12-007.sig.gz'z'\n",
      "\u001b[Kloaded 1 sigs from 'sourmash/sigs1/SH14-008.sig.gz'z'\n",
      "\u001b[Kloaded 1 sigs from 'sourmash/sigs1/SH13-008.sig.gz'10 sigs total\n",
      "\u001b[K\n",
      "\u001b[Kloaded 10 sigs; saving SBT under \"sourmash/index-append/index.sbt.json\"\n",
      "\u001b[KFinished saving nodes, now saving SBT index file.\n",
      "\u001b[KFinished saving SBT index, available at /home/CSCScience.ca/apetkau/workspace/thesis-data-simulation/jackalope/salmonella/sourmash/index-append/index.sbt.json\n",
      "\n",
      "\n",
      "real\t0m1.412s\n",
      "user\t0m1.358s\n",
      "sys\t0m0.053s\n"
     ]
    }
   ],
   "source": [
    "index_append = f'{sourmash_dir}/index-append/index.sbt.json'\n",
    "sig_files = [f'{sourmash_out}/{n}.sig.gz' for n in sample_names[:10]]\n",
    "\n",
    "!time sourmash index -k {inc_kmer} {index_append} {' '.join(sig_files)}"
   ]
  },
  {
   "cell_type": "code",
   "execution_count": 66,
   "id": "essential-coupon",
   "metadata": {},
   "outputs": [
    {
     "name": "stdout",
     "output_type": "stream",
     "text": [
      "\u001b[K\n",
      "== This is sourmash version 4.0.0. ==\n",
      "\u001b[K== Please cite Brown and Irber (2016), doi:10.21105/joss.00027. ==\n",
      "\n",
      "\u001b[Kselecting specified query k=21\n",
      "\u001b[Kloaded query: S_HeidelbergSL476... (k=21, DNA)\n",
      "\u001b[Kloaded 1 databases.                                                            \n",
      "\n",
      "10 matches; showing first 3:\n",
      "similarity   match\n",
      "----------   -----\n",
      " 18.6%       SH12-013\n",
      " 17.7%       SH14-006\n",
      " 17.6%       SH14-013\n",
      "\n",
      "real\t0m0.798s\n",
      "user\t0m0.744s\n",
      "sys\t0m0.052s\n"
     ]
    }
   ],
   "source": [
    "!time sourmash search -k {inc_kmer} -o {sourmash_dir}/query.indexappend10.csv {query_sketch} {index_append}"
   ]
  },
  {
   "cell_type": "code",
   "execution_count": 67,
   "id": "crucial-coordinator",
   "metadata": {},
   "outputs": [
    {
     "name": "stdout",
     "output_type": "stream",
     "text": [
      "2.4M\tsourmash/index-append/\n"
     ]
    }
   ],
   "source": [
    "!du -sh {sourmash_dir}/index-append/"
   ]
  },
  {
   "cell_type": "markdown",
   "id": "successful-forwarding",
   "metadata": {},
   "source": [
    "## Append: 20 genomes"
   ]
  },
  {
   "cell_type": "code",
   "execution_count": 68,
   "id": "celtic-december",
   "metadata": {},
   "outputs": [
    {
     "name": "stdout",
     "output_type": "stream",
     "text": [
      "\u001b[K\n",
      "== This is sourmash version 4.0.0. ==\n",
      "\u001b[K== Please cite Brown and Irber (2016), doi:10.21105/joss.00027. ==\n",
      "\n",
      "\u001b[Kloading 10 files into SBT\n",
      "\u001b[Kloaded 1 sigs from 'sourmash/sigs1/SH11-001.sig.gz'z'\n",
      "\u001b[Kloaded 1 sigs from 'sourmash/sigs1/SH14-016.sig.gz'z'\n",
      "\u001b[Kloaded 1 sigs from 'sourmash/sigs1/SH12-006.sig.gz'z'\n",
      "\u001b[Kloaded 1 sigs from 'sourmash/sigs1/SH14-020.sig.gz'z'\n",
      "\u001b[Kloaded 1 sigs from 'sourmash/sigs1/SH14-004.sig.gz'z'\n",
      "\u001b[Kloaded 1 sigs from 'sourmash/sigs1/SH12-014.sig.gz'z'\n",
      "\u001b[Kloaded 1 sigs from 'sourmash/sigs1/SH14-015.sig.gz'z'\n",
      "\u001b[Kloaded 1 sigs from 'sourmash/sigs1/SH12-005.sig.gz'z'\n",
      "\u001b[Kloaded 1 sigs from 'sourmash/sigs1/SH12-012.sig.gz'z'\n",
      "\u001b[Kloaded 1 sigs from 'sourmash/sigs1/SH14-011.sig.gz'10 sigs total\n",
      "\u001b[K\n",
      "\u001b[Kloaded 10 sigs; saving SBT under \"sourmash/index-append/index.sbt.json\"\n",
      "\u001b[KFinished saving nodes, now saving SBT index file.\n",
      "\u001b[KFinished saving SBT index, available at /home/CSCScience.ca/apetkau/workspace/thesis-data-simulation/jackalope/salmonella/sourmash/index-append/index.sbt.json\n",
      "\n",
      "\n",
      "real\t0m1.803s\n",
      "user\t0m1.754s\n",
      "sys\t0m0.044s\n"
     ]
    }
   ],
   "source": [
    "sig_files = [f'{sourmash_out}/{n}.sig.gz' for n in sample_names[10:20]]\n",
    "\n",
    "!time sourmash index -k {inc_kmer} --append {index_append} {' '.join(sig_files)}"
   ]
  },
  {
   "cell_type": "code",
   "execution_count": 69,
   "id": "super-going",
   "metadata": {},
   "outputs": [
    {
     "name": "stdout",
     "output_type": "stream",
     "text": [
      "\u001b[K\n",
      "== This is sourmash version 4.0.0. ==\n",
      "\u001b[K== Please cite Brown and Irber (2016), doi:10.21105/joss.00027. ==\n",
      "\n",
      "\u001b[Kloaded 20 sigs from 'sourmash/index-append/index.sbt.json'0 sigs total\n",
      "\u001b[Kloaded 20 signatures total.\n",
      "\n",
      "---\n",
      "signature filename: sourmash/index-append/index.sbt.json\n",
      "signature: SH14-011\n",
      "source file: output/SH14-011_R2.fq.gz\n",
      "md5: 63f227b890cb046953c0e7c076dd07d0\n",
      "k=21 molecule=DNA num=0 scaled=1000 seed=42 track_abundance=0\n",
      "size: 25433\n",
      "signature license: CC0\n",
      "\n"
     ]
    }
   ],
   "source": [
    "!sourmash sig describe {index_append} | tail"
   ]
  },
  {
   "cell_type": "code",
   "execution_count": 70,
   "id": "seventh-setting",
   "metadata": {},
   "outputs": [
    {
     "name": "stdout",
     "output_type": "stream",
     "text": [
      "\u001b[K\n",
      "== This is sourmash version 4.0.0. ==\n",
      "\u001b[K== Please cite Brown and Irber (2016), doi:10.21105/joss.00027. ==\n",
      "\n",
      "\u001b[Kselecting specified query k=21\n",
      "\u001b[Kloaded query: S_HeidelbergSL476... (k=21, DNA)\n",
      "\u001b[Kloaded 1 databases.                                                            \n",
      "\n",
      "20 matches; showing first 3:\n",
      "similarity   match\n",
      "----------   -----\n",
      " 18.6%       SH12-013\n",
      " 17.9%       SH14-016\n",
      " 17.8%       SH12-014\n",
      "\n",
      "real\t0m1.367s\n",
      "user\t0m1.351s\n",
      "sys\t0m0.012s\n"
     ]
    }
   ],
   "source": [
    "!time sourmash search -k {inc_kmer} -o {sourmash_dir}/query.indexappend20.csv {query_sketch} {index_append}"
   ]
  },
  {
   "cell_type": "code",
   "execution_count": 71,
   "id": "assigned-scout",
   "metadata": {},
   "outputs": [
    {
     "name": "stdout",
     "output_type": "stream",
     "text": [
      "5.3M\tsourmash/index-append/\n"
     ]
    }
   ],
   "source": [
    "!du -sh {sourmash_dir}/index-append/"
   ]
  },
  {
   "cell_type": "markdown",
   "id": "broadband-newton",
   "metadata": {},
   "source": [
    "## Append: 30 genomes"
   ]
  },
  {
   "cell_type": "code",
   "execution_count": 72,
   "id": "extensive-sheep",
   "metadata": {},
   "outputs": [
    {
     "name": "stdout",
     "output_type": "stream",
     "text": [
      "\u001b[K\n",
      "== This is sourmash version 4.0.0. ==\n",
      "\u001b[K== Please cite Brown and Irber (2016), doi:10.21105/joss.00027. ==\n",
      "\n",
      "\u001b[Kloading 10 files into SBT\n",
      "\u001b[Kloaded 1 sigs from 'sourmash/sigs1/SH14-014.sig.gz'z'\n",
      "\u001b[Kloaded 1 sigs from 'sourmash/sigs1/SH14-024.sig.gz'z'\n",
      "\u001b[Kloaded 1 sigs from 'sourmash/sigs1/SH14-025.sig.gz'z'\n",
      "\u001b[Kloaded 1 sigs from 'sourmash/sigs1/SH14-019.sig.gz'z'\n",
      "\u001b[Kloaded 1 sigs from 'sourmash/sigs1/SH14-009.sig.gz'z'\n",
      "\u001b[Kloaded 1 sigs from 'sourmash/sigs1/SH14-003.sig.gz'z'\n",
      "\u001b[Kloaded 1 sigs from 'sourmash/sigs1/SH14-026.sig.gz'z'\n",
      "\u001b[Kloaded 1 sigs from 'sourmash/sigs1/SH10-30.sig.gz'z'\n",
      "\u001b[Kloaded 1 sigs from 'sourmash/sigs1/SH14-010.sig.gz'z'\n",
      "\u001b[Kloaded 1 sigs from 'sourmash/sigs1/SH10-001.sig.gz'10 sigs total\n",
      "\u001b[K\n",
      "\u001b[Kloaded 10 sigs; saving SBT under \"sourmash/index-append/index.sbt.json\"\n",
      "\u001b[KFinished saving nodes, now saving SBT index file.\n",
      "\u001b[KFinished saving SBT index, available at /home/CSCScience.ca/apetkau/workspace/thesis-data-simulation/jackalope/salmonella/sourmash/index-append/index.sbt.json\n",
      "\n",
      "\n",
      "real\t0m2.156s\n",
      "user\t0m2.118s\n",
      "sys\t0m0.033s\n"
     ]
    }
   ],
   "source": [
    "sig_files = [f'{sourmash_out}/{n}.sig.gz' for n in sample_names[20:30]]\n",
    "\n",
    "!time sourmash index -k {inc_kmer} --append {index_append} {' '.join(sig_files)}"
   ]
  },
  {
   "cell_type": "code",
   "execution_count": 73,
   "id": "chemical-buddy",
   "metadata": {},
   "outputs": [
    {
     "name": "stdout",
     "output_type": "stream",
     "text": [
      "\u001b[K\n",
      "== This is sourmash version 4.0.0. ==\n",
      "\u001b[K== Please cite Brown and Irber (2016), doi:10.21105/joss.00027. ==\n",
      "\n",
      "\u001b[Kloaded 30 sigs from 'sourmash/index-append/index.sbt.json'0 sigs total\n",
      "\u001b[Kloaded 30 signatures total.\n",
      "\n",
      "---\n",
      "signature filename: sourmash/index-append/index.sbt.json\n",
      "signature: SH10-001\n",
      "source file: output/SH10-001_R2.fq.gz\n",
      "md5: 2ff9ffcb3f0ef4658e7702e83951a3a0\n",
      "k=21 molecule=DNA num=0 scaled=1000 seed=42 track_abundance=0\n",
      "size: 25296\n",
      "signature license: CC0\n",
      "\n"
     ]
    }
   ],
   "source": [
    "!sourmash sig describe {index_append} | tail"
   ]
  },
  {
   "cell_type": "code",
   "execution_count": 74,
   "id": "upset-ocean",
   "metadata": {},
   "outputs": [
    {
     "name": "stdout",
     "output_type": "stream",
     "text": [
      "\u001b[K\n",
      "== This is sourmash version 4.0.0. ==\n",
      "\u001b[K== Please cite Brown and Irber (2016), doi:10.21105/joss.00027. ==\n",
      "\n",
      "\u001b[Kselecting specified query k=21\n",
      "\u001b[Kloaded query: S_HeidelbergSL476... (k=21, DNA)\n",
      "\u001b[Kloaded 1 databases.                                                            \n",
      "\n",
      "30 matches; showing first 3:\n",
      "similarity   match\n",
      "----------   -----\n",
      " 18.6%       SH12-013\n",
      " 17.9%       SH14-016\n",
      " 17.8%       SH14-025\n",
      "\n",
      "real\t0m1.942s\n",
      "user\t0m1.905s\n",
      "sys\t0m0.033s\n"
     ]
    }
   ],
   "source": [
    "!time sourmash search -k {inc_kmer} -o {sourmash_dir}/query.indexappend30.csv {query_sketch} {index_append}"
   ]
  },
  {
   "cell_type": "code",
   "execution_count": 75,
   "id": "controversial-break",
   "metadata": {},
   "outputs": [
    {
     "name": "stdout",
     "output_type": "stream",
     "text": [
      "8.3M\tsourmash/index-append/\n"
     ]
    }
   ],
   "source": [
    "!du -sh {sourmash_dir}/index-append/"
   ]
  },
  {
   "cell_type": "markdown",
   "id": "functioning-pickup",
   "metadata": {},
   "source": [
    "# Merging SBTs"
   ]
  },
  {
   "cell_type": "code",
   "execution_count": 76,
   "id": "judicial-looking",
   "metadata": {},
   "outputs": [
    {
     "name": "stdout",
     "output_type": "stream",
     "text": [
      "\u001b[K\n",
      "== This is sourmash version 4.0.0. ==\n",
      "\u001b[K== Please cite Brown and Irber (2016), doi:10.21105/joss.00027. ==\n",
      "\n",
      "\u001b[Kloading 10 files into SBT\n",
      "\u001b[Kloaded 1 sigs from 'sourmash/sigs1/SH14-013.sig.gz'z'\n",
      "\u001b[Kloaded 1 sigs from 'sourmash/sigs1/SH10-015.sig.gz'z'\n",
      "\u001b[Kloaded 1 sigs from 'sourmash/sigs1/SH12-009.sig.gz'z'\n",
      "\u001b[Kloaded 1 sigs from 'sourmash/sigs1/SH14-006.sig.gz'z'\n",
      "\u001b[Kloaded 1 sigs from 'sourmash/sigs1/SH14-002.sig.gz'z'\n",
      "\u001b[Kloaded 1 sigs from 'sourmash/sigs1/SH12-013.sig.gz'z'\n",
      "\u001b[Kloaded 1 sigs from 'sourmash/sigs1/SH12-003.sig.gz'z'\n",
      "\u001b[Kloaded 1 sigs from 'sourmash/sigs1/SH12-007.sig.gz'z'\n",
      "\u001b[Kloaded 1 sigs from 'sourmash/sigs1/SH14-008.sig.gz'z'\n",
      "\u001b[Kloaded 1 sigs from 'sourmash/sigs1/SH13-008.sig.gz'10 sigs total\n",
      "\u001b[K\n",
      "\u001b[Kloaded 10 sigs; saving SBT under \"sourmash/index-merge/index1.sbt.json\"\n",
      "\u001b[KFinished saving nodes, now saving SBT index file.\n",
      "\u001b[KFinished saving SBT index, available at /home/CSCScience.ca/apetkau/workspace/thesis-data-simulation/jackalope/salmonella/sourmash/index-merge/index1.sbt.json\n",
      "\n",
      "\n",
      "real\t0m1.414s\n",
      "user\t0m1.400s\n",
      "sys\t0m0.012s\n"
     ]
    }
   ],
   "source": [
    "index_merge1 = f'{sourmash_dir}/index-merge/index1.sbt.json'\n",
    "sig_files = [f'{sourmash_out}/{n}.sig.gz' for n in sample_names[:10]]\n",
    "\n",
    "!time sourmash index -k {inc_kmer} {index_merge1} {' '.join(sig_files)}"
   ]
  },
  {
   "cell_type": "code",
   "execution_count": 77,
   "id": "published-medicine",
   "metadata": {},
   "outputs": [
    {
     "name": "stdout",
     "output_type": "stream",
     "text": [
      "\u001b[K\n",
      "== This is sourmash version 4.0.0. ==\n",
      "\u001b[K== Please cite Brown and Irber (2016), doi:10.21105/joss.00027. ==\n",
      "\n",
      "\u001b[Kloading 10 files into SBT\n",
      "\u001b[Kloaded 1 sigs from 'sourmash/sigs1/SH11-001.sig.gz'z'\n",
      "\u001b[Kloaded 1 sigs from 'sourmash/sigs1/SH14-016.sig.gz'z'\n",
      "\u001b[Kloaded 1 sigs from 'sourmash/sigs1/SH12-006.sig.gz'z'\n",
      "\u001b[Kloaded 1 sigs from 'sourmash/sigs1/SH14-020.sig.gz'z'\n",
      "\u001b[Kloaded 1 sigs from 'sourmash/sigs1/SH14-004.sig.gz'z'\n",
      "\u001b[Kloaded 1 sigs from 'sourmash/sigs1/SH12-014.sig.gz'z'\n",
      "\u001b[Kloaded 1 sigs from 'sourmash/sigs1/SH14-015.sig.gz'z'\n",
      "\u001b[Kloaded 1 sigs from 'sourmash/sigs1/SH12-005.sig.gz'z'\n",
      "\u001b[Kloaded 1 sigs from 'sourmash/sigs1/SH12-012.sig.gz'z'\n",
      "\u001b[Kloaded 1 sigs from 'sourmash/sigs1/SH14-011.sig.gz'10 sigs total\n",
      "\u001b[K\n",
      "\u001b[Kloaded 10 sigs; saving SBT under \"sourmash/index-merge/index2.sbt.json\"\n",
      "\u001b[KFinished saving nodes, now saving SBT index file.\n",
      "\u001b[KFinished saving SBT index, available at /home/CSCScience.ca/apetkau/workspace/thesis-data-simulation/jackalope/salmonella/sourmash/index-merge/index2.sbt.json\n",
      "\n",
      "\n",
      "real\t0m1.395s\n",
      "user\t0m1.362s\n",
      "sys\t0m0.032s\n"
     ]
    }
   ],
   "source": [
    "index_merge2 = f'{sourmash_dir}/index-merge/index2.sbt.json'\n",
    "sig_files = [f'{sourmash_out}/{n}.sig.gz' for n in sample_names[10:20]]\n",
    "\n",
    "!time sourmash index -k {inc_kmer} {index_merge2} {' '.join(sig_files)}"
   ]
  },
  {
   "cell_type": "code",
   "execution_count": 78,
   "id": "located-tracy",
   "metadata": {},
   "outputs": [
    {
     "name": "stdout",
     "output_type": "stream",
     "text": [
      "\u001b[K\n",
      "== This is sourmash version 4.0.0. ==\n",
      "\u001b[K== Please cite Brown and Irber (2016), doi:10.21105/joss.00027. ==\n",
      "\n",
      "\u001b[Kloading 10 files into SBT\n",
      "\u001b[Kloaded 1 sigs from 'sourmash/sigs1/SH14-014.sig.gz'z'\n",
      "\u001b[Kloaded 1 sigs from 'sourmash/sigs1/SH14-024.sig.gz'z'\n",
      "\u001b[Kloaded 1 sigs from 'sourmash/sigs1/SH14-025.sig.gz'z'\n",
      "\u001b[Kloaded 1 sigs from 'sourmash/sigs1/SH14-019.sig.gz'z'\n",
      "\u001b[Kloaded 1 sigs from 'sourmash/sigs1/SH14-009.sig.gz'z'\n",
      "\u001b[Kloaded 1 sigs from 'sourmash/sigs1/SH14-003.sig.gz'z'\n",
      "\u001b[Kloaded 1 sigs from 'sourmash/sigs1/SH14-026.sig.gz'z'\n",
      "\u001b[Kloaded 1 sigs from 'sourmash/sigs1/SH10-30.sig.gz'z'\n",
      "\u001b[Kloaded 1 sigs from 'sourmash/sigs1/SH14-010.sig.gz'z'\n",
      "\u001b[Kloaded 1 sigs from 'sourmash/sigs1/SH10-001.sig.gz'10 sigs total\n",
      "\u001b[K\n",
      "\u001b[Kloaded 10 sigs; saving SBT under \"sourmash/index-merge/index3.sbt.json\"\n",
      "\u001b[KFinished saving nodes, now saving SBT index file.\n",
      "\u001b[KFinished saving SBT index, available at /home/CSCScience.ca/apetkau/workspace/thesis-data-simulation/jackalope/salmonella/sourmash/index-merge/index3.sbt.json\n",
      "\n",
      "\n",
      "real\t0m1.387s\n",
      "user\t0m1.353s\n",
      "sys\t0m0.032s\n"
     ]
    }
   ],
   "source": [
    "index_merge3 = f'{sourmash_dir}/index-merge/index3.sbt.json'\n",
    "sig_files = [f'{sourmash_out}/{n}.sig.gz' for n in sample_names[20:30]]\n",
    "\n",
    "!time sourmash index -k {inc_kmer} {index_merge3} {' '.join(sig_files)}"
   ]
  },
  {
   "cell_type": "markdown",
   "id": "metropolitan-tissue",
   "metadata": {},
   "source": [
    "## Merge SBTs"
   ]
  },
  {
   "cell_type": "code",
   "execution_count": 79,
   "id": "opened-street",
   "metadata": {},
   "outputs": [
    {
     "name": "stdout",
     "output_type": "stream",
     "text": [
      "\u001b[K\n",
      "== This is sourmash version 4.0.0. ==\n",
      "\u001b[K== Please cite Brown and Irber (2016), doi:10.21105/joss.00027. ==\n",
      "\n",
      "\u001b[Kcombining 3 SBTs\n",
      "\u001b[Ksaving SBT under \"sourmash/index-merge/index.sbt.json\".\n",
      "\u001b[KFinished saving nodes, now saving SBT index file.\n",
      "\u001b[KFinished saving SBT index, available at /home/CSCScience.ca/apetkau/workspace/thesis-data-simulation/jackalope/salmonella/sourmash/index-merge/index.sbt.json\n",
      "\n",
      "\n",
      "real\t0m1.354s\n",
      "user\t0m1.308s\n",
      "sys\t0m0.045s\n"
     ]
    }
   ],
   "source": [
    "index_merge = f'{sourmash_dir}/index-merge/index.sbt.json'\n",
    "sig_files = [f'{sourmash_out}/{n}.sig.gz' for n in sample_names[20:30]]\n",
    "\n",
    "!time sourmash sbt_combine {index_merge} {index_merge1} {index_merge2} {index_merge3}"
   ]
  },
  {
   "cell_type": "code",
   "execution_count": 80,
   "id": "corporate-activation",
   "metadata": {},
   "outputs": [
    {
     "name": "stdout",
     "output_type": "stream",
     "text": [
      "\u001b[K\n",
      "== This is sourmash version 4.0.0. ==\n",
      "\u001b[K== Please cite Brown and Irber (2016), doi:10.21105/joss.00027. ==\n",
      "\n",
      "\u001b[Kloaded 30 sigs from 'sourmash/index-merge/index.sbt.json'0 sigs total\n",
      "\u001b[Kloaded 30 signatures total.\n",
      "\n",
      "---\n",
      "signature filename: sourmash/index-merge/index.sbt.json\n",
      "signature: SH14-011\n",
      "source file: output/SH14-011_R2.fq.gz\n",
      "md5: 63f227b890cb046953c0e7c076dd07d0\n",
      "k=21 molecule=DNA num=0 scaled=1000 seed=42 track_abundance=0\n",
      "size: 25433\n",
      "signature license: CC0\n",
      "\n"
     ]
    }
   ],
   "source": [
    "!sourmash sig describe {index_merge} | tail"
   ]
  },
  {
   "cell_type": "code",
   "execution_count": 81,
   "id": "miniature-above",
   "metadata": {},
   "outputs": [
    {
     "name": "stdout",
     "output_type": "stream",
     "text": [
      "\u001b[K\n",
      "== This is sourmash version 4.0.0. ==\n",
      "\u001b[K== Please cite Brown and Irber (2016), doi:10.21105/joss.00027. ==\n",
      "\n",
      "\u001b[Kselecting specified query k=21\n",
      "\u001b[Kloaded query: S_HeidelbergSL476... (k=21, DNA)\n",
      "\u001b[Kloaded 1 databases.                                                            \n",
      "\n",
      "30 matches; showing first 3:\n",
      "similarity   match\n",
      "----------   -----\n",
      " 18.6%       SH12-013\n",
      " 17.9%       SH14-016\n",
      " 17.8%       SH14-025\n",
      "\n",
      "real\t0m1.900s\n",
      "user\t0m1.857s\n",
      "sys\t0m0.040s\n"
     ]
    }
   ],
   "source": [
    "!time sourmash search -k {inc_kmer} -o {sourmash_dir}/query.indexmerge.csv {query_sketch} {index_merge}"
   ]
  },
  {
   "cell_type": "code",
   "execution_count": 82,
   "id": "union-average",
   "metadata": {},
   "outputs": [
    {
     "name": "stdout",
     "output_type": "stream",
     "text": [
      "7.2M\tsourmash/index-merge/.sbt.index\n",
      "2.4M\tsourmash/index-merge/.sbt.index1\n",
      "2.4M\tsourmash/index-merge/.sbt.index2\n",
      "2.4M\tsourmash/index-merge/.sbt.index3\n"
     ]
    }
   ],
   "source": [
    "!du -sh {sourmash_dir}/index-merge/.[^.]*"
   ]
  }
 ],
 "metadata": {
  "kernelspec": {
   "display_name": "Python 3",
   "language": "python",
   "name": "python3"
  },
  "language_info": {
   "codemirror_mode": {
    "name": "ipython",
    "version": 3
   },
   "file_extension": ".py",
   "mimetype": "text/x-python",
   "name": "python",
   "nbconvert_exporter": "python",
   "pygments_lexer": "ipython3",
   "version": "3.8.6"
  }
 },
 "nbformat": 4,
 "nbformat_minor": 5
}
