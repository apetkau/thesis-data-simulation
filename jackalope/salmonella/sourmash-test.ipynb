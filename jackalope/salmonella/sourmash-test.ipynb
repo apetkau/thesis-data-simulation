{
 "cells": [
  {
   "cell_type": "markdown",
   "id": "geographic-raising",
   "metadata": {},
   "source": [
    "# Index many genomes with sourmash"
   ]
  },
  {
   "cell_type": "code",
   "execution_count": 1,
   "id": "following-billy",
   "metadata": {},
   "outputs": [
    {
     "data": {
      "text/plain": [
       "['SH14-013', 'SH10-015', 'SH12-009', 'SH14-006']"
      ]
     },
     "execution_count": 1,
     "metadata": {},
     "output_type": "execute_result"
    }
   ],
   "source": [
    "import os\n",
    "from os import path\n",
    "\n",
    "import os\n",
    "\n",
    "# Fix warning about locale unset\n",
    "os.environ['LANG'] = 'en_US.UTF-8'\n",
    "\n",
    "reads_dir = 'output'\n",
    "sourmash_dir = 'sourmash'\n",
    "sourmash_out = f'{sourmash_dir}/sigs1'\n",
    "\n",
    "if not path.exists(sourmash_dir):\n",
    "    os.mkdir(sourmash_dir)\n",
    "    \n",
    "if not path.exists(sourmash_out):\n",
    "    os.mkdir(sourmash_out)\n",
    "\n",
    "def strip_end(text, suffix):\n",
    "    if suffix and text.endswith(suffix):\n",
    "        return text[:-len(suffix)]\n",
    "    return text\n",
    "\n",
    "sample_names = [strip_end(f, '_R1.fq.gz') for f in os.listdir(reads_dir) if f.endswith('_R1.fq.gz')]\n",
    "sample_names[:4]"
   ]
  },
  {
   "cell_type": "markdown",
   "id": "comparable-making",
   "metadata": {},
   "source": [
    "# Create all sourmash signatures"
   ]
  },
  {
   "cell_type": "code",
   "execution_count": 2,
   "id": "major-devices",
   "metadata": {},
   "outputs": [],
   "source": [
    "sourmash_params = 'k=31,scaled=5000'\n",
    "\n",
    "!parallel -j 32 -I% 'sourmash sketch dna -p {sourmash_params} --merge % -o - \\\n",
    "    {reads_dir}/%_R1.fq.gz {reads_dir}/%_R2.fq.gz | gzip > {sourmash_out}/%.sig.gz' \\\n",
    "    ::: {' '.join(sample_names)} 2> {sourmash_dir}/sigs1.stderr"
   ]
  },
  {
   "cell_type": "code",
   "execution_count": 3,
   "id": "emotional-connection",
   "metadata": {},
   "outputs": [
    {
     "name": "stdout",
     "output_type": "stream",
     "text": [
      "\u001b[K\n",
      "== This is sourmash version 4.0.0. ==\n",
      "\u001b[K== Please cite Brown and Irber (2016), doi:10.21105/joss.00027. ==\n",
      "\n",
      "\u001b[Kcomputing signatures for files: output/SH14-014_R1.fq.gz, output/SH14-014_R2.fq.gz\n",
      "\u001b[KComputing a total of 1 signature(s).\n",
      "\u001b[K... reading sequences from output/SH14-014_R1.fq.gz\n",
      "\u001b[K... output/SH14-014_R1.fq.gz 294099 sequences\n",
      "\u001b[K... reading sequences from output/SH14-014_R2.fq.gz\n",
      "\u001b[K... output/SH14-014_R2.fq.gz 294099 sequences\n"
     ]
    }
   ],
   "source": [
    "!head {sourmash_dir}/sigs1.stderr"
   ]
  },
  {
   "cell_type": "code",
   "execution_count": 4,
   "id": "extraordinary-delta",
   "metadata": {},
   "outputs": [
    {
     "name": "stdout",
     "output_type": "stream",
     "text": [
      "3.0M\tsourmash/sigs1\n"
     ]
    }
   ],
   "source": [
    "!du -sh {sourmash_out}"
   ]
  },
  {
   "cell_type": "markdown",
   "id": "limited-arcade",
   "metadata": {},
   "source": [
    "# Search through them for matches to a particular genome"
   ]
  },
  {
   "cell_type": "code",
   "execution_count": 5,
   "id": "secure-machinery",
   "metadata": {},
   "outputs": [
    {
     "name": "stdout",
     "output_type": "stream",
     "text": [
      "\u001b[K\n",
      "== This is sourmash version 4.0.0. ==\n",
      "\u001b[K== Please cite Brown and Irber (2016), doi:10.21105/joss.00027. ==\n",
      "\n",
      "\u001b[Kcomputing signatures for files: input/S_HeidelbergSL476.fasta.gz\n",
      "\u001b[KComputing a total of 1 signature(s).\n",
      "\u001b[K... reading sequences from input/S_HeidelbergSL476.fasta.gz\n",
      "\u001b[K... input/S_HeidelbergSL476.fasta.gz 1 sequences\n",
      "\u001b[Kcalculated 1 signature for 1 sequences taken from 1 files\n",
      "\u001b[Ksaved signature(s) to -. Note: signature license is CC0.\n"
     ]
    }
   ],
   "source": [
    "query_genome = 'input/S_HeidelbergSL476.fasta.gz'\n",
    "query_genome_name = 'S_HeidelbergSL476'\n",
    "query_sketch = f'{sourmash_dir}/query/{query_genome_name}.sig.gz'\n",
    "\n",
    "if not path.exists(f'{sourmash_dir}/query'):\n",
    "    os.mkdir(f'{sourmash_dir}/query')\n",
    "\n",
    "!sourmash sketch dna -p {sourmash_params} --merge {query_genome_name} \\\n",
    "    -o - {query_genome} | gzip > {query_sketch}"
   ]
  },
  {
   "cell_type": "code",
   "execution_count": 6,
   "id": "eight-chest",
   "metadata": {},
   "outputs": [
    {
     "name": "stdout",
     "output_type": "stream",
     "text": [
      "\u001b[K\n",
      "== This is sourmash version 4.0.0. ==\n",
      "\u001b[K== Please cite Brown and Irber (2016), doi:10.21105/joss.00027. ==\n",
      "\n",
      "\u001b[Kselecting specified query k=31\n",
      "\u001b[Kloaded query: S_HeidelbergSL476... (k=31, DNA)\n",
      "\u001b[Kloaded 59 signatures.                                                          \n",
      "\n",
      "59 matches; showing first 3:\n",
      "similarity   match\n",
      "----------   -----\n",
      " 15.3%       SH12-013\n",
      " 14.0%       SH10-30\n",
      " 14.0%       SH14-022\n",
      "\n",
      "real\t0m0.618s\n",
      "user\t0m0.583s\n",
      "sys\t0m0.032s\n"
     ]
    }
   ],
   "source": [
    "kmer = 31\n",
    "\n",
    "!time sourmash search -k {kmer} -o {sourmash_dir}/query1.csv {query_sketch} {sourmash_out}/*.sig.gz"
   ]
  },
  {
   "cell_type": "code",
   "execution_count": 7,
   "id": "individual-balloon",
   "metadata": {},
   "outputs": [
    {
     "name": "stdout",
     "output_type": "stream",
     "text": [
      "similarity           name      filename                        md5\n",
      "0.15312450310065193  SH12-013  sourmash/sigs1/SH12-013.sig.gz  9471ee36977ea0c9736fe1a84ad65432\n",
      "0.14016341923318668  SH10-30   sourmash/sigs1/SH10-30.sig.gz   9ca0bb8a485c56012ce141a125cb9ff5\n",
      "0.1398786370001556   SH14-022  sourmash/sigs1/SH14-022.sig.gz  139b51886d7b90dd481c80f6ce0d1318\n",
      "0.13976809777499216  SH14-008  sourmash/sigs1/SH14-008.sig.gz  532107c9b3996812aa0b98e8ed18a98c\n"
     ]
    }
   ],
   "source": [
    "!column -s',' -t {sourmash_dir}/query1.csv | head -n 5"
   ]
  },
  {
   "cell_type": "markdown",
   "id": "other-union",
   "metadata": {},
   "source": [
    "# Create SBT index"
   ]
  },
  {
   "cell_type": "code",
   "execution_count": 8,
   "id": "meaning-article",
   "metadata": {},
   "outputs": [
    {
     "name": "stdout",
     "output_type": "stream",
     "text": [
      "\u001b[K\n",
      "== This is sourmash version 4.0.0. ==\n",
      "\u001b[K== Please cite Brown and Irber (2016), doi:10.21105/joss.00027. ==\n",
      "\n",
      "\u001b[Kloading 59 files into SBT\n",
      "\u001b[Kloaded 1 sigs from 'sourmash/sigs1/SH08-001.sig.gz'z'\n",
      "\u001b[Kloaded 1 sigs from 'sourmash/sigs1/SH09-29.sig.gz'z'\n",
      "\u001b[Kloaded 1 sigs from 'sourmash/sigs1/SH10-001.sig.gz'z'\n",
      "\u001b[Kloaded 1 sigs from 'sourmash/sigs1/SH10-002.sig.gz'z'\n",
      "\u001b[Kloaded 1 sigs from 'sourmash/sigs1/SH10-014.sig.gz'z'\n",
      "\u001b[Kloaded 1 sigs from 'sourmash/sigs1/SH10-015.sig.gz'z'\n",
      "\u001b[Kloaded 1 sigs from 'sourmash/sigs1/SH10-30.sig.gz'z'\n",
      "\u001b[Kloaded 1 sigs from 'sourmash/sigs1/SH11-001.sig.gz'z'\n",
      "\u001b[Kloaded 1 sigs from 'sourmash/sigs1/SH11-002.sig.gz'z'\n",
      "\u001b[Kloaded 1 sigs from 'sourmash/sigs1/SH12-001.sig.gz'10 sigs total\n",
      "\u001b[Kloaded 1 sigs from 'sourmash/sigs1/SH12-002.sig.gz'z'\n",
      "\u001b[Kloaded 1 sigs from 'sourmash/sigs1/SH12-003.sig.gz'z'\n",
      "\u001b[Kloaded 1 sigs from 'sourmash/sigs1/SH12-004.sig.gz'z'\n",
      "\u001b[Kloaded 1 sigs from 'sourmash/sigs1/SH12-005.sig.gz'z'\n",
      "\u001b[Kloaded 1 sigs from 'sourmash/sigs1/SH12-006.sig.gz'z'\n",
      "\u001b[Kloaded 1 sigs from 'sourmash/sigs1/SH12-007.sig.gz'z'\n",
      "\u001b[Kloaded 1 sigs from 'sourmash/sigs1/SH12-008.sig.gz'z'\n",
      "\u001b[Kloaded 1 sigs from 'sourmash/sigs1/SH12-009.sig.gz'z'\n",
      "\u001b[Kloaded 1 sigs from 'sourmash/sigs1/SH12-010.sig.gz'z'\n",
      "\u001b[Kloaded 1 sigs from 'sourmash/sigs1/SH12-011.sig.gz'20 sigs total\n",
      "\u001b[Kloaded 1 sigs from 'sourmash/sigs1/SH12-012.sig.gz'z'\n",
      "\u001b[Kloaded 1 sigs from 'sourmash/sigs1/SH12-013.sig.gz'z'\n",
      "\u001b[Kloaded 1 sigs from 'sourmash/sigs1/SH12-014.sig.gz'z'\n",
      "\u001b[Kloaded 1 sigs from 'sourmash/sigs1/SH13-001.sig.gz'z'\n",
      "\u001b[Kloaded 1 sigs from 'sourmash/sigs1/SH13-002.sig.gz'z'\n",
      "\u001b[Kloaded 1 sigs from 'sourmash/sigs1/SH13-003.sig.gz'z'\n",
      "\u001b[Kloaded 1 sigs from 'sourmash/sigs1/SH13-004.sig.gz'z'\n",
      "\u001b[Kloaded 1 sigs from 'sourmash/sigs1/SH13-005.sig.gz'z'\n",
      "\u001b[Kloaded 1 sigs from 'sourmash/sigs1/SH13-006.sig.gz'z'\n",
      "\u001b[Kloaded 1 sigs from 'sourmash/sigs1/SH13-007.sig.gz'30 sigs total\n",
      "\u001b[Kloaded 1 sigs from 'sourmash/sigs1/SH13-008.sig.gz'z'\n",
      "\u001b[Kloaded 1 sigs from 'sourmash/sigs1/SH14-001.sig.gz'z'\n",
      "\u001b[Kloaded 1 sigs from 'sourmash/sigs1/SH14-002.sig.gz'z'\n",
      "\u001b[Kloaded 1 sigs from 'sourmash/sigs1/SH14-003.sig.gz'z'\n",
      "\u001b[Kloaded 1 sigs from 'sourmash/sigs1/SH14-004.sig.gz'z'\n",
      "\u001b[Kloaded 1 sigs from 'sourmash/sigs1/SH14-005.sig.gz'z'\n",
      "\u001b[Kloaded 1 sigs from 'sourmash/sigs1/SH14-006.sig.gz'z'\n",
      "\u001b[Kloaded 1 sigs from 'sourmash/sigs1/SH14-007.sig.gz'z'\n",
      "\u001b[Kloaded 1 sigs from 'sourmash/sigs1/SH14-008.sig.gz'z'\n",
      "\u001b[Kloaded 1 sigs from 'sourmash/sigs1/SH14-009.sig.gz'40 sigs total\n",
      "\u001b[Kloaded 1 sigs from 'sourmash/sigs1/SH14-010.sig.gz'z'\n",
      "\u001b[Kloaded 1 sigs from 'sourmash/sigs1/SH14-011.sig.gz'z'\n",
      "\u001b[Kloaded 1 sigs from 'sourmash/sigs1/SH14-012.sig.gz'z'\n",
      "\u001b[Kloaded 1 sigs from 'sourmash/sigs1/SH14-013.sig.gz'z'\n",
      "\u001b[Kloaded 1 sigs from 'sourmash/sigs1/SH14-014.sig.gz'z'\n",
      "\u001b[Kloaded 1 sigs from 'sourmash/sigs1/SH14-015.sig.gz'z'\n",
      "\u001b[Kloaded 1 sigs from 'sourmash/sigs1/SH14-016.sig.gz'z'\n",
      "\u001b[Kloaded 1 sigs from 'sourmash/sigs1/SH14-017.sig.gz'z'\n",
      "\u001b[Kloaded 1 sigs from 'sourmash/sigs1/SH14-018.sig.gz'z'\n",
      "\u001b[Kloaded 1 sigs from 'sourmash/sigs1/SH14-019.sig.gz'50 sigs total\n",
      "\u001b[Kloaded 1 sigs from 'sourmash/sigs1/SH14-020.sig.gz'z'\n",
      "\u001b[Kloaded 1 sigs from 'sourmash/sigs1/SH14-021.sig.gz'z'\n",
      "\u001b[Kloaded 1 sigs from 'sourmash/sigs1/SH14-022.sig.gz'z'\n",
      "\u001b[Kloaded 1 sigs from 'sourmash/sigs1/SH14-023.sig.gz'z'\n",
      "\u001b[Kloaded 1 sigs from 'sourmash/sigs1/SH14-024.sig.gz'z'\n",
      "\u001b[Kloaded 1 sigs from 'sourmash/sigs1/SH14-025.sig.gz'z'\n",
      "\u001b[Kloaded 1 sigs from 'sourmash/sigs1/SH14-026.sig.gz'z'\n",
      "\u001b[Kloaded 1 sigs from 'sourmash/sigs1/SH14-027.sig.gz'z'\n",
      "\u001b[Kloaded 1 sigs from 'sourmash/sigs1/SH14-028.sig.gz'z'\n",
      "\u001b[K\n",
      "\u001b[Kloaded 59 sigs; saving SBT under \"sourmash/index1/index1.sbt.json\"\n",
      "\u001b[KFinished saving nodes, now saving SBT index file.\n",
      "\u001b[KFinished saving SBT index, available at /home/CSCScience.ca/apetkau/workspace/thesis-data-simulation/jackalope/salmonella/sourmash/index1/index1.sbt.json\n",
      "\n",
      "\n",
      "real\t0m0.901s\n",
      "user\t0m0.858s\n",
      "sys\t0m0.040s\n"
     ]
    }
   ],
   "source": [
    "sourmash_index1 = f'{sourmash_dir}/index1/index1.sbt.json'\n",
    "\n",
    "!time sourmash index -k {kmer} {sourmash_index1} {sourmash_out}/*.sig.gz"
   ]
  },
  {
   "cell_type": "code",
   "execution_count": 9,
   "id": "secret-ordinary",
   "metadata": {},
   "outputs": [
    {
     "name": "stdout",
     "output_type": "stream",
     "text": [
      "5.1M\tsourmash/index1\n"
     ]
    }
   ],
   "source": [
    "!du -sh {path.dirname(sourmash_index1)}"
   ]
  },
  {
   "cell_type": "markdown",
   "id": "resident-daily",
   "metadata": {},
   "source": [
    "# Search SBT index"
   ]
  },
  {
   "cell_type": "code",
   "execution_count": 10,
   "id": "bronze-enhancement",
   "metadata": {},
   "outputs": [
    {
     "name": "stdout",
     "output_type": "stream",
     "text": [
      "\u001b[K\n",
      "== This is sourmash version 4.0.0. ==\n",
      "\u001b[K== Please cite Brown and Irber (2016), doi:10.21105/joss.00027. ==\n",
      "\n",
      "\u001b[Kselecting specified query k=31\n",
      "\u001b[Kloaded query: S_HeidelbergSL476... (k=31, DNA)\n",
      "\u001b[Kloaded 1 databases.                                                            \n",
      "\n",
      "59 matches; showing first 3:\n",
      "similarity   match\n",
      "----------   -----\n",
      " 15.3%       SH12-013\n",
      " 14.0%       SH10-30\n",
      " 14.0%       SH14-022\n",
      "\n",
      "real\t0m1.032s\n",
      "user\t0m1.019s\n",
      "sys\t0m0.012s\n"
     ]
    }
   ],
   "source": [
    "!time sourmash search -k {kmer} -o {sourmash_dir}/query.index1.csv {query_sketch} {sourmash_index1}"
   ]
  }
 ],
 "metadata": {
  "kernelspec": {
   "display_name": "Python 3",
   "language": "python",
   "name": "python3"
  },
  "language_info": {
   "codemirror_mode": {
    "name": "ipython",
    "version": 3
   },
   "file_extension": ".py",
   "mimetype": "text/x-python",
   "name": "python",
   "nbconvert_exporter": "python",
   "pygments_lexer": "ipython3",
   "version": "3.8.6"
  }
 },
 "nbformat": 4,
 "nbformat_minor": 5
}
