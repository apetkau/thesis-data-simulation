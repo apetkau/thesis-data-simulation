{
 "cells": [
  {
   "cell_type": "markdown",
   "id": "absent-squad",
   "metadata": {},
   "source": [
    "This concatenates read files since software (like cobs) needs a single fastq file per sample."
   ]
  },
  {
   "cell_type": "code",
   "execution_count": 37,
   "id": "filled-investment",
   "metadata": {},
   "outputs": [
    {
     "name": "stdout",
     "output_type": "stream",
     "text": [
      "output/reads_cat should exist\n"
     ]
    }
   ],
   "source": [
    "import os\n",
    "import glob\n",
    "from pathlib import Path\n",
    "import re\n",
    "\n",
    "# Fix warning about locale unset\n",
    "os.environ['LANG'] = 'en_US.UTF-8'\n",
    "\n",
    "input_dir = Path('output')\n",
    "concatenate_out = input_dir / 'reads_cat'\n",
    "\n",
    "if not os.path.exists(concatenate_out):\n",
    "    os.mkdir(concatenate_out)\n",
    "    \n",
    "print(f'{concatenate_out} should exist')"
   ]
  },
  {
   "cell_type": "code",
   "execution_count": 49,
   "id": "genuine-tracker",
   "metadata": {},
   "outputs": [],
   "source": [
    "samples = [re.sub(r'_R1.fq.gz$', '', os.path.basename(f)) for f in glob.glob(f'{input_dir}/*_R1.fq.gz')]\n",
    "\n",
    "!parallel -j 24 -I% 'cat {str(input_dir)}/%_R1.fq.gz {str(input_dir)}/%_R2.fq.gz \\\n",
    "    > {str(concatenate_out)}/%.fq.gz' ::: {' '.join(samples)}"
   ]
  },
  {
   "cell_type": "code",
   "execution_count": 53,
   "id": "awful-description",
   "metadata": {},
   "outputs": [
    {
     "name": "stdout",
     "output_type": "stream",
     "text": [
      "total 7.3G\n",
      "-rw-r--r-- 1 apetkau grp_apetkau 127M Mar  9 13:42 SH14-013.fq.gz\n",
      "-rw-r--r-- 1 apetkau grp_apetkau 127M Mar  9 13:42 SH10-015.fq.gz\n",
      "-rw-r--r-- 1 apetkau grp_apetkau 127M Mar  9 13:42 SH12-003.fq.gz\n",
      "-rw-r--r-- 1 apetkau grp_apetkau 127M Mar  9 13:42 SH12-013.fq.gz\n",
      "-rw-r--r-- 1 apetkau grp_apetkau 127M Mar  9 13:42 SH12-014.fq.gz\n",
      "-rw-r--r-- 1 apetkau grp_apetkau 127M Mar  9 13:42 SH14-002.fq.gz\n",
      "-rw-r--r-- 1 apetkau grp_apetkau 127M Mar  9 13:42 SH14-014.fq.gz\n",
      "-rw-r--r-- 1 apetkau grp_apetkau 127M Mar  9 13:42 SH13-008.fq.gz\n",
      "-rw-r--r-- 1 apetkau grp_apetkau 127M Mar  9 13:42 SH14-020.fq.gz\n",
      "-rw-r--r-- 1 apetkau grp_apetkau 127M Mar  9 13:42 SH12-005.fq.gz\n",
      "-rw-r--r-- 1 apetkau grp_apetkau 127M Mar  9 13:42 SH14-011.fq.gz\n",
      "-rw-r--r-- 1 apetkau grp_apetkau 127M Mar  9 13:42 SH12-007.fq.gz\n",
      "-rw-r--r-- 1 apetkau grp_apetkau 127M Mar  9 13:42 SH11-001.fq.gz\n",
      "-rw-r--r-- 1 apetkau grp_apetkau 127M Mar  9 13:42 SH14-009.fq.gz\n",
      "-rw-r--r-- 1 apetkau grp_apetkau 127M Mar  9 13:42 SH14-019.fq.gz\n",
      "-rw-r--r-- 1 apetkau grp_apetkau 127M Mar  9 13:42 SH14-016.fq.gz\n",
      "-rw-r--r-- 1 apetkau grp_apetkau 127M Mar  9 13:42 SH12-006.fq.gz\n",
      "-rw-r--r-- 1 apetkau grp_apetkau 127M Mar  9 13:42 SH14-006.fq.gz\n",
      "-rw-r--r-- 1 apetkau grp_apetkau 127M Mar  9 13:42 SH14-015.fq.gz\n",
      "-rw-r--r-- 1 apetkau grp_apetkau 127M Mar  9 13:42 SH14-008.fq.gz\n",
      "-rw-r--r-- 1 apetkau grp_apetkau 127M Mar  9 13:42 SH14-004.fq.gz\n",
      "-rw-r--r-- 1 apetkau grp_apetkau 127M Mar  9 13:42 SH14-025.fq.gz\n",
      "-rw-r--r-- 1 apetkau grp_apetkau 127M Mar  9 13:42 SH14-024.fq.gz\n",
      "-rw-r--r-- 1 apetkau grp_apetkau 127M Mar  9 13:42 SH12-009.fq.gz\n",
      "-rw-r--r-- 1 apetkau grp_apetkau 127M Mar  9 13:42 SH14-003.fq.gz\n",
      "-rw-r--r-- 1 apetkau grp_apetkau 127M Mar  9 13:42 SH12-012.fq.gz\n",
      "-rw-r--r-- 1 apetkau grp_apetkau 127M Mar  9 13:42 SH14-026.fq.gz\n",
      "-rw-r--r-- 1 apetkau grp_apetkau 127M Mar  9 13:42 SH09-29.fq.gz\n",
      "-rw-r--r-- 1 apetkau grp_apetkau 127M Mar  9 13:42 SH12-004.fq.gz\n",
      "-rw-r--r-- 1 apetkau grp_apetkau 126M Mar  9 13:42 SH10-30.fq.gz\n",
      "-rw-r--r-- 1 apetkau grp_apetkau 127M Mar  9 13:42 SH08-001.fq.gz\n",
      "-rw-r--r-- 1 apetkau grp_apetkau 127M Mar  9 13:42 SH10-001.fq.gz\n",
      "-rw-r--r-- 1 apetkau grp_apetkau 127M Mar  9 13:42 SH13-006.fq.gz\n",
      "-rw-r--r-- 1 apetkau grp_apetkau 127M Mar  9 13:42 SH14-005.fq.gz\n",
      "-rw-r--r-- 1 apetkau grp_apetkau 127M Mar  9 13:42 SH12-008.fq.gz\n",
      "-rw-r--r-- 1 apetkau grp_apetkau 127M Mar  9 13:42 SH14-021.fq.gz\n",
      "-rw-r--r-- 1 apetkau grp_apetkau 127M Mar  9 13:42 SH14-010.fq.gz\n",
      "-rw-r--r-- 1 apetkau grp_apetkau 127M Mar  9 13:42 SH12-002.fq.gz\n",
      "-rw-r--r-- 1 apetkau grp_apetkau 127M Mar  9 13:42 SH11-002.fq.gz\n",
      "-rw-r--r-- 1 apetkau grp_apetkau 127M Mar  9 13:42 SH14-018.fq.gz\n",
      "-rw-r--r-- 1 apetkau grp_apetkau 127M Mar  9 13:42 SH13-004.fq.gz\n",
      "-rw-r--r-- 1 apetkau grp_apetkau 127M Mar  9 13:42 SH12-001.fq.gz\n",
      "-rw-r--r-- 1 apetkau grp_apetkau 127M Mar  9 13:42 SH14-012.fq.gz\n",
      "-rw-r--r-- 1 apetkau grp_apetkau 127M Mar  9 13:42 SH14-001.fq.gz\n",
      "-rw-r--r-- 1 apetkau grp_apetkau 127M Mar  9 13:42 SH14-017.fq.gz\n",
      "-rw-r--r-- 1 apetkau grp_apetkau 127M Mar  9 13:42 SH10-014.fq.gz\n",
      "-rw-r--r-- 1 apetkau grp_apetkau 127M Mar  9 13:42 SH14-007.fq.gz\n",
      "-rw-r--r-- 1 apetkau grp_apetkau 127M Mar  9 13:42 SH13-007.fq.gz\n",
      "-rw-r--r-- 1 apetkau grp_apetkau 127M Mar  9 13:42 SH14-022.fq.gz\n",
      "-rw-r--r-- 1 apetkau grp_apetkau 127M Mar  9 13:42 SH10-002.fq.gz\n",
      "-rw-r--r-- 1 apetkau grp_apetkau 127M Mar  9 13:42 SH13-005.fq.gz\n",
      "-rw-r--r-- 1 apetkau grp_apetkau 127M Mar  9 13:42 SH13-001.fq.gz\n",
      "-rw-r--r-- 1 apetkau grp_apetkau 127M Mar  9 13:42 SH13-003.fq.gz\n",
      "-rw-r--r-- 1 apetkau grp_apetkau 127M Mar  9 13:42 SH14-023.fq.gz\n",
      "-rw-r--r-- 1 apetkau grp_apetkau 127M Mar  9 13:42 SH14-027.fq.gz\n",
      "-rw-r--r-- 1 apetkau grp_apetkau 127M Mar  9 13:42 SH12-011.fq.gz\n",
      "-rw-r--r-- 1 apetkau grp_apetkau 127M Mar  9 13:42 SH13-002.fq.gz\n",
      "-rw-r--r-- 1 apetkau grp_apetkau 127M Mar  9 13:42 SH12-010.fq.gz\n",
      "-rw-r--r-- 1 apetkau grp_apetkau 127M Mar  9 13:42 SH14-028.fq.gz\n"
     ]
    }
   ],
   "source": [
    "!ls -lrth {concatenate_out}"
   ]
  }
 ],
 "metadata": {
  "kernelspec": {
   "display_name": "Python 3",
   "language": "python",
   "name": "python3"
  },
  "language_info": {
   "codemirror_mode": {
    "name": "ipython",
    "version": 3
   },
   "file_extension": ".py",
   "mimetype": "text/x-python",
   "name": "python",
   "nbconvert_exporter": "python",
   "pygments_lexer": "ipython3",
   "version": "3.8.6"
  }
 },
 "nbformat": 4,
 "nbformat_minor": 5
}
