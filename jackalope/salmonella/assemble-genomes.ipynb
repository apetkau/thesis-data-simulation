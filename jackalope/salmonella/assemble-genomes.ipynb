{
 "cells": [
  {
   "cell_type": "markdown",
   "id": "transsexual-medium",
   "metadata": {},
   "source": [
    "# Assemble genomes (with skesa)\n",
    "\n",
    "Used so I can generate sequences to compare to COBS searching"
   ]
  },
  {
   "cell_type": "code",
   "execution_count": 1,
   "id": "primary-local",
   "metadata": {},
   "outputs": [
    {
     "name": "stdout",
     "output_type": "stream",
     "text": [
      "output/assemblies should exist\n"
     ]
    }
   ],
   "source": [
    "import os\n",
    "import glob\n",
    "from pathlib import Path\n",
    "import re\n",
    "\n",
    "# Fix warning about locale unset\n",
    "os.environ['LANG'] = 'en_US.UTF-8'\n",
    "\n",
    "input_dir = Path('output')\n",
    "assembly_out = input_dir / 'assemblies'\n",
    "\n",
    "if not os.path.exists(assembly_out):\n",
    "    os.mkdir(assembly_out)\n",
    "    \n",
    "print(f'{assembly_out} should exist')"
   ]
  },
  {
   "cell_type": "code",
   "execution_count": 7,
   "id": "alpha-begin",
   "metadata": {},
   "outputs": [],
   "source": [
    "samples = [re.sub(r'_R1.fq.gz$', '', os.path.basename(f)) for f in glob.glob(f'{input_dir}/*_R1.fq.gz')]\n",
    "\n",
    "!parallel -j 8 -I% 'skesa --gz --fastq {str(input_dir)}/%_R1.fq.gz,{str(input_dir)}/%_R2.fq.gz \\\n",
    "    --contigs_out {assembly_out}/%.fasta --cores 8 > /dev/null 2> /dev/null' ::: {' '.join(samples)}"
   ]
  },
  {
   "cell_type": "code",
   "execution_count": 8,
   "id": "sustained-spread",
   "metadata": {},
   "outputs": [
    {
     "name": "stdout",
     "output_type": "stream",
     "text": [
      "total 271M\n",
      "-rw-r--r-- 1 apetkau grp_apetkau 4.6M Mar  9 15:55 SH12-013.fasta\n",
      "-rw-r--r-- 1 apetkau grp_apetkau 4.6M Mar  9 15:55 SH12-009.fasta\n",
      "-rw-r--r-- 1 apetkau grp_apetkau 4.6M Mar  9 15:55 SH14-006.fasta\n",
      "-rw-r--r-- 1 apetkau grp_apetkau 4.6M Mar  9 15:55 SH14-002.fasta\n",
      "-rw-r--r-- 1 apetkau grp_apetkau 4.6M Mar  9 15:55 SH14-013.fasta\n",
      "-rw-r--r-- 1 apetkau grp_apetkau 4.6M Mar  9 15:55 SH12-003.fasta\n",
      "-rw-r--r-- 1 apetkau grp_apetkau 4.6M Mar  9 15:55 SH10-015.fasta\n",
      "-rw-r--r-- 1 apetkau grp_apetkau 4.6M Mar  9 15:55 SH12-007.fasta\n",
      "-rw-r--r-- 1 apetkau grp_apetkau 4.6M Mar  9 15:57 SH14-008.fasta\n",
      "-rw-r--r-- 1 apetkau grp_apetkau 4.6M Mar  9 15:57 SH14-016.fasta\n",
      "-rw-r--r-- 1 apetkau grp_apetkau 4.6M Mar  9 15:57 SH14-004.fasta\n",
      "-rw-r--r-- 1 apetkau grp_apetkau 4.6M Mar  9 15:57 SH13-008.fasta\n",
      "-rw-r--r-- 1 apetkau grp_apetkau 4.6M Mar  9 15:57 SH11-001.fasta\n",
      "-rw-r--r-- 1 apetkau grp_apetkau 4.6M Mar  9 15:57 SH12-014.fasta\n",
      "-rw-r--r-- 1 apetkau grp_apetkau 4.6M Mar  9 15:57 SH12-006.fasta\n",
      "-rw-r--r-- 1 apetkau grp_apetkau 4.6M Mar  9 15:57 SH14-020.fasta\n",
      "-rw-r--r-- 1 apetkau grp_apetkau 4.6M Mar  9 16:00 SH14-015.fasta\n",
      "-rw-r--r-- 1 apetkau grp_apetkau 4.6M Mar  9 16:00 SH12-005.fasta\n",
      "-rw-r--r-- 1 apetkau grp_apetkau 4.6M Mar  9 16:00 SH12-012.fasta\n",
      "-rw-r--r-- 1 apetkau grp_apetkau 4.6M Mar  9 16:00 SH14-014.fasta\n",
      "-rw-r--r-- 1 apetkau grp_apetkau 4.6M Mar  9 16:00 SH14-011.fasta\n",
      "-rw-r--r-- 1 apetkau grp_apetkau 4.6M Mar  9 16:00 SH14-024.fasta\n",
      "-rw-r--r-- 1 apetkau grp_apetkau 4.6M Mar  9 16:00 SH14-025.fasta\n",
      "-rw-r--r-- 1 apetkau grp_apetkau 4.6M Mar  9 16:00 SH14-019.fasta\n",
      "-rw-r--r-- 1 apetkau grp_apetkau 4.6M Mar  9 16:02 SH14-026.fasta\n",
      "-rw-r--r-- 1 apetkau grp_apetkau 4.6M Mar  9 16:02 SH14-009.fasta\n",
      "-rw-r--r-- 1 apetkau grp_apetkau 4.6M Mar  9 16:02 SH14-003.fasta\n",
      "-rw-r--r-- 1 apetkau grp_apetkau 4.6M Mar  9 16:03 SH10-30.fasta\n",
      "-rw-r--r-- 1 apetkau grp_apetkau 4.6M Mar  9 16:03 SH14-010.fasta\n",
      "-rw-r--r-- 1 apetkau grp_apetkau 4.6M Mar  9 16:03 SH12-002.fasta\n",
      "-rw-r--r-- 1 apetkau grp_apetkau 4.6M Mar  9 16:03 SH08-001.fasta\n",
      "-rw-r--r-- 1 apetkau grp_apetkau 4.6M Mar  9 16:03 SH10-001.fasta\n",
      "-rw-r--r-- 1 apetkau grp_apetkau 4.6M Mar  9 16:05 SH12-004.fasta\n",
      "-rw-r--r-- 1 apetkau grp_apetkau 4.6M Mar  9 16:05 SH10-002.fasta\n",
      "-rw-r--r-- 1 apetkau grp_apetkau 4.6M Mar  9 16:05 SH09-29.fasta\n",
      "-rw-r--r-- 1 apetkau grp_apetkau 4.6M Mar  9 16:05 SH13-006.fasta\n",
      "-rw-r--r-- 1 apetkau grp_apetkau 4.6M Mar  9 16:05 SH10-014.fasta\n",
      "-rw-r--r-- 1 apetkau grp_apetkau 4.6M Mar  9 16:05 SH14-012.fasta\n",
      "-rw-r--r-- 1 apetkau grp_apetkau 4.6M Mar  9 16:05 SH13-007.fasta\n",
      "-rw-r--r-- 1 apetkau grp_apetkau 4.6M Mar  9 16:05 SH12-001.fasta\n",
      "-rw-r--r-- 1 apetkau grp_apetkau 4.6M Mar  9 16:07 SH14-017.fasta\n",
      "-rw-r--r-- 1 apetkau grp_apetkau 4.6M Mar  9 16:08 SH14-021.fasta\n",
      "-rw-r--r-- 1 apetkau grp_apetkau 4.6M Mar  9 16:08 SH14-007.fasta\n",
      "-rw-r--r-- 1 apetkau grp_apetkau 4.6M Mar  9 16:08 SH14-005.fasta\n",
      "-rw-r--r-- 1 apetkau grp_apetkau 4.6M Mar  9 16:08 SH14-001.fasta\n",
      "-rw-r--r-- 1 apetkau grp_apetkau 4.6M Mar  9 16:08 SH11-002.fasta\n",
      "-rw-r--r-- 1 apetkau grp_apetkau 4.6M Mar  9 16:08 SH14-018.fasta\n",
      "-rw-r--r-- 1 apetkau grp_apetkau 4.6M Mar  9 16:08 SH12-008.fasta\n",
      "-rw-r--r-- 1 apetkau grp_apetkau 4.6M Mar  9 16:10 SH13-004.fasta\n",
      "-rw-r--r-- 1 apetkau grp_apetkau 4.6M Mar  9 16:10 SH14-022.fasta\n",
      "-rw-r--r-- 1 apetkau grp_apetkau 4.6M Mar  9 16:10 SH12-011.fasta\n",
      "-rw-r--r-- 1 apetkau grp_apetkau 4.6M Mar  9 16:10 SH14-028.fasta\n",
      "-rw-r--r-- 1 apetkau grp_apetkau 4.6M Mar  9 16:10 SH13-003.fasta\n",
      "-rw-r--r-- 1 apetkau grp_apetkau 4.6M Mar  9 16:10 SH13-001.fasta\n",
      "-rw-r--r-- 1 apetkau grp_apetkau 4.6M Mar  9 16:10 SH12-010.fasta\n",
      "-rw-r--r-- 1 apetkau grp_apetkau 4.6M Mar  9 16:10 SH14-027.fasta\n",
      "-rw-r--r-- 1 apetkau grp_apetkau 4.6M Mar  9 16:12 SH13-002.fasta\n",
      "-rw-r--r-- 1 apetkau grp_apetkau 4.6M Mar  9 16:12 SH13-005.fasta\n",
      "-rw-r--r-- 1 apetkau grp_apetkau 4.6M Mar  9 16:12 SH14-023.fasta\n"
     ]
    }
   ],
   "source": [
    "! ls -lrth {assembly_out}"
   ]
  }
 ],
 "metadata": {
  "kernelspec": {
   "display_name": "Python 3",
   "language": "python",
   "name": "python3"
  },
  "language_info": {
   "codemirror_mode": {
    "name": "ipython",
    "version": 3
   },
   "file_extension": ".py",
   "mimetype": "text/x-python",
   "name": "python",
   "nbconvert_exporter": "python",
   "pygments_lexer": "ipython3",
   "version": "3.8.6"
  }
 },
 "nbformat": 4,
 "nbformat_minor": 5
}
