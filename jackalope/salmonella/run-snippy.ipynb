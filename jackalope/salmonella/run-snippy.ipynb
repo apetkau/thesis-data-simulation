{
 "cells": [
  {
   "cell_type": "markdown",
   "id": "rotary-regard",
   "metadata": {},
   "source": [
    "# Fix reads"
   ]
  },
  {
   "cell_type": "code",
   "execution_count": 1,
   "id": "convenient-blackberry",
   "metadata": {},
   "outputs": [
    {
     "name": "stdout",
     "output_type": "stream",
     "text": [
      "~/workspace/thesis-data-simulation/jackalope/salmonella/output/reads ~/workspace/thesis-data-simulation/jackalope/salmonella\n",
      "~/workspace/thesis-data-simulation/jackalope/salmonella\n"
     ]
    }
   ],
   "source": [
    "import os\n",
    "\n",
    "# Fix warning about locale unset\n",
    "os.environ['LANG'] = 'en_US.UTF-8'\n",
    "\n",
    "!pushd output/reads; prename 's/initial_//' *.fq.gz; popd"
   ]
  },
  {
   "cell_type": "markdown",
   "id": "median-belle",
   "metadata": {},
   "source": [
    "Jackalope produces reads with non-standard identifiers where pairs of reads don't have matching identifiers. For example:\n",
    "\n",
    "* Pair 1: `@SH08-001-NC_011083-3048632-R/1`\n",
    "* Pair 2: `@SH08-001-NC_011083-3048396-F/2`\n",
    "\n",
    "In order to run snippy, these paired identifiers need to match (except for the `/1` and `/2` suffix).\n",
    "\n",
    "So, I have to replace them all with something unique, but which matches in each pair of files. I do this by replacing the position (I think) with the read number (as it appears in the file). So the above identifiers become:\n",
    "\n",
    "* Pair 1: `@SH08-001-NC_011083-1/1`\n",
    "* Pair 2: `@SH08-001-NC_011083-1/2`"
   ]
  },
  {
   "cell_type": "code",
   "execution_count": 3,
   "id": "remarkable-berry",
   "metadata": {},
   "outputs": [],
   "source": [
    "import glob\n",
    "import os\n",
    "\n",
    "files = [os.path.basename(f) for f in glob.glob('output/reads/*.fq.gz')]\n",
    "!parallel -j 24 -I% 'gzip -d --stdout output/reads/% | perl ../scripts/replace-fastq-header.pl | gzip > output/%' \\\n",
    "    ::: {' '.join(files)}"
   ]
  },
  {
   "cell_type": "markdown",
   "id": "active-credits",
   "metadata": {},
   "source": [
    "# Create input file for snippy"
   ]
  },
  {
   "cell_type": "code",
   "execution_count": 4,
   "id": "greatest-holly",
   "metadata": {},
   "outputs": [],
   "source": [
    "import os\n",
    "import glob\n",
    "\n",
    "reference_file = 'input/S_HeidelbergSL476.fasta.gz'\n",
    "\n",
    "# snippy only runs with uncompressed reference\n",
    "!gunzip -f -k {reference_file}\n",
    "\n",
    "reference_file_abs = os.path.abspath('input/S_HeidelbergSL476.fasta')\n",
    "\n",
    "snippy_out = os.path.abspath('phylogeny')\n",
    "\n",
    "if not os.path.exists(snippy_out):\n",
    "    os.mkdir(snippy_out)\n",
    "\n",
    "with open(f'{snippy_out}/snippy.fofn', 'w') as snippy_fofn:\n",
    "    directory = 'output'\n",
    "    for file in glob.glob(f'{directory}/*_R1.fq.gz'):\n",
    "        sample = os.path.basename(file).rsplit('_R1.fq.gz')[0]\n",
    "        \n",
    "        files = [f'{directory}/{sample}_R1.fq.gz', f'{directory}/{sample}_R2.fq.gz']\n",
    "        files = [os.path.abspath(f) for f in files]\n",
    "        values = [sample]\n",
    "        values.extend(files)\n",
    "        snippy_fofn.write('\\t'.join(values)+'\\n')"
   ]
  },
  {
   "cell_type": "code",
   "execution_count": 5,
   "id": "varied-atlantic",
   "metadata": {},
   "outputs": [
    {
     "name": "stdout",
     "output_type": "stream",
     "text": [
      "SH14-013\t/home/CSCScience.ca/apetkau/workspace/thesis-data-simulation/jackalope/salmonella/output/SH14-013_R1.fq.gz\t/home/CSCScience.ca/apetkau/workspace/thesis-data-simulation/jackalope/salmonella/output/SH14-013_R2.fq.gz\n"
     ]
    }
   ],
   "source": [
    "!head -n 1 {snippy_out}/snippy.fofn"
   ]
  },
  {
   "cell_type": "markdown",
   "id": "classified-pillow",
   "metadata": {},
   "source": [
    "# Run snippy"
   ]
  },
  {
   "cell_type": "code",
   "execution_count": 6,
   "id": "desperate-marijuana",
   "metadata": {},
   "outputs": [
    {
     "name": "stdout",
     "output_type": "stream",
     "text": [
      "Reading: /home/CSCScience.ca/apetkau/workspace/thesis-data-simulation/jackalope/salmonella/phylogeny/snippy.fofn\n",
      "Generating output commands for 59 isolates\n",
      "Done.\n",
      "\n"
     ]
    }
   ],
   "source": [
    "!conda run --name snippy snippy-multi {snippy_out}/snippy.fofn \\\n",
    "    --reference {reference_file_abs} --cpus 6 > {snippy_out}/snippy-commands-all.sh\n",
    "!head -n-2 {snippy_out}/snippy-commands-all.sh > {snippy_out}/snippy-commands-variant.sh\n",
    "!tail -n 2 {snippy_out}/snippy-commands-all.sh > {snippy_out}/snippy-commands-core.sh"
   ]
  },
  {
   "cell_type": "code",
   "execution_count": 7,
   "id": "earned-ceramic",
   "metadata": {},
   "outputs": [
    {
     "name": "stdout",
     "output_type": "stream",
     "text": [
      "snippy --outdir 'SH14-023' --R1 '/home/CSCScience.ca/apetkau/workspace/thesis-data-simulation/jackalope/salmonella/output/SH14-023_R1.fq.gz' --R2 '/home/CSCScience.ca/apetkau/workspace/thesis-data-simulation/jackalope/salmonella/output/SH14-023_R2.fq.gz' --reference /home/CSCScience.ca/apetkau/workspace/thesis-data-simulation/jackalope/salmonella/input/S_HeidelbergSL476.fasta --cpus 6\n",
      "snippy --outdir 'SH13-005' --R1 '/home/CSCScience.ca/apetkau/workspace/thesis-data-simulation/jackalope/salmonella/output/SH13-005_R1.fq.gz' --R2 '/home/CSCScience.ca/apetkau/workspace/thesis-data-simulation/jackalope/salmonella/output/SH13-005_R2.fq.gz' --reference /home/CSCScience.ca/apetkau/workspace/thesis-data-simulation/jackalope/salmonella/input/S_HeidelbergSL476.fasta --cpus 6\n",
      "****\n",
      "snippy-core --ref 'SH08-001/ref.fa' SH08-001 SH09-29 SH10-001 SH10-002 SH10-014 SH10-015 SH10-30 SH11-001 SH11-002 SH12-001 SH12-002 SH12-003 SH12-004 SH12-005 SH12-006 SH12-007 SH12-008 SH12-009 SH12-010 SH12-011 SH12-012 SH12-013 SH12-014 SH13-001 SH13-002 SH13-003 SH13-004 SH13-005 SH13-006 SH13-007 SH13-008 SH14-001 SH14-002 SH14-003 SH14-004 SH14-005 SH14-006 SH14-007 SH14-008 SH14-009 SH14-010 SH14-011 SH14-012 SH14-013 SH14-014 SH14-015 SH14-016 SH14-017 SH14-018 SH14-019 SH14-020 SH14-021 SH14-022 SH14-023 SH14-024 SH14-025 SH14-026 SH14-027 SH14-028\n",
      "\n"
     ]
    }
   ],
   "source": [
    "!tail -n 2 {snippy_out}/snippy-commands-variant.sh\n",
    "!echo '****'\n",
    "!tail {snippy_out}/snippy-commands-core.sh"
   ]
  },
  {
   "cell_type": "code",
   "execution_count": 8,
   "id": "included-graduate",
   "metadata": {},
   "outputs": [],
   "source": [
    "# Run variant calling in parallel\n",
    "!(pushd {snippy_out} && conda run --name snippy \\\n",
    "  parallel -j 12 -a {snippy_out}/snippy-commands-variant.sh && popd) > {snippy_out}/snippy-variant.log 2>&1"
   ]
  },
  {
   "cell_type": "code",
   "execution_count": 9,
   "id": "conditional-jefferson",
   "metadata": {},
   "outputs": [],
   "source": [
    "# Run core in serial\n",
    "!(pushd {snippy_out} && conda run --name snippy \\\n",
    "  bash {snippy_out}/snippy-commands-core.sh && popd) > {snippy_out}/snippy-core.log 2>&1"
   ]
  },
  {
   "cell_type": "code",
   "execution_count": 10,
   "id": "related-stevens",
   "metadata": {},
   "outputs": [
    {
     "name": "stdout",
     "output_type": "stream",
     "text": [
      "ID         LENGTH   ALIGNED  UNALIGNED  VARIANT  HET   MASKED  LOWCOV\n",
      "SH08-001   4888768  4829501  48095      18425    2385  0       8787\n",
      "SH09-29    4888768  4829610  48255      15585    2378  0       8525\n",
      "SH10-001   4888768  4829370  47886      16770    2459  0       9053\n",
      "SH10-002   4888768  4829251  48106      17282    2425  0       8986\n",
      "SH10-014   4888768  4829822  48272      20812    2467  0       8207\n",
      "SH10-015   4888768  4829414  48035      20341    2486  0       8833\n",
      "SH10-30    4888768  4829590  48155      16013    2495  0       8528\n",
      "SH11-001   4888768  4829479  47904      16234    2446  0       8939\n",
      "SH11-002   4888768  4829426  48204      20843    2539  0       8599\n",
      "SH12-001   4888768  4828792  48042      17178    2429  0       9505\n",
      "SH12-002   4888768  4829176  48203      17406    2448  0       8941\n",
      "SH12-003   4888768  4829802  48159      17171    2397  0       8410\n",
      "SH12-004   4888768  4829943  48005      17169    2493  0       8327\n",
      "SH12-005   4888768  4829544  48008      17165    2524  0       8692\n",
      "SH12-006   4888768  4830014  48062      17166    2253  0       8439\n",
      "SH12-007   4888768  4830408  47911      17629    2323  0       8126\n",
      "SH12-008   4888768  4829199  48004      17164    2483  0       9082\n",
      "SH12-009   4888768  4830158  47929      17163    2484  0       8197\n",
      "SH12-010   4888768  4829048  48182      17383    2556  0       8982\n",
      "SH12-011   4888768  4830061  47824      16947    2450  0       8433\n",
      "SH12-012   4888768  4829796  48363      17004    2383  0       8226\n",
      "SH12-013   4888768  4829841  47735      4410     2276  0       8916\n",
      "SH12-014   4888768  4830231  48005      13818    2357  0       8175\n",
      "SH13-001   4888768  4829470  48126      20961    2561  0       8611\n",
      "SH13-002   4888768  4829449  48060      20959    2392  0       8867\n",
      "SH13-003   4888768  4829555  48041      20958    2449  0       8723\n",
      "SH13-004   4888768  4828646  48267      21216    2588  0       9267\n",
      "SH13-005   4888768  4829537  48190      20955    2377  0       8664\n",
      "SH13-006   4888768  4829117  48134      20954    2503  0       9014\n",
      "SH13-007   4888768  4829785  48062      20955    2362  0       8559\n",
      "SH13-008   4888768  4830103  48142      21168    2477  0       8046\n",
      "SH14-001   4888768  4829424  48179      16202    2287  0       8878\n",
      "SH14-002   4888768  4829641  48300      15989    2448  0       8379\n",
      "SH14-003   4888768  4828975  48203      15988    2449  0       9141\n",
      "SH14-004   4888768  4829578  48219      15986    2415  0       8556\n",
      "SH14-005   4888768  4829461  48263      15987    2451  0       8593\n",
      "SH14-006   4888768  4829526  48113      15984    2394  0       8735\n",
      "SH14-007   4888768  4829176  48106      15984    2533  0       8953\n",
      "SH14-008   4888768  4829480  48095      15982    2348  0       8845\n",
      "SH14-009   4888768  4829636  48362      15978    2424  0       8346\n",
      "SH14-010   4888768  4828814  48356      16228    2429  0       9169\n",
      "SH14-011   4888768  4829823  48353      15981    2353  0       8239\n",
      "SH14-012   4888768  4828847  48242      23806    2544  0       9135\n",
      "SH14-013   4888768  4829367  48087      15981    2402  0       8912\n",
      "SH14-014   4888768  4829824  48196      15980    2556  0       8192\n",
      "SH14-015   4888768  4829227  48223      15980    2500  0       8818\n",
      "SH14-016   4888768  4829635  48210      15979    2353  0       8570\n",
      "SH14-017   4888768  4829855  48160      16225    2367  0       8386\n",
      "SH14-018   4888768  4829530  48126      15978    2426  0       8686\n",
      "SH14-019   4888768  4829600  48237      15977    2362  0       8569\n",
      "SH14-020   4888768  4829793  48274      15973    2308  0       8393\n",
      "SH14-021   4888768  4830001  48037      15972    2366  0       8364\n",
      "SH14-022   4888768  4829548  48234      15971    2363  0       8623\n",
      "SH14-023   4888768  4829611  48168      15970    2395  0       8594\n",
      "SH14-024   4888768  4829432  48333      15968    2433  0       8570\n",
      "SH14-025   4888768  4830643  48055      15967    2416  0       7654\n",
      "SH14-026   4888768  4829767  48256      15966    2396  0       8349\n",
      "SH14-027   4888768  4829739  48235      15963    2424  0       8370\n",
      "SH14-028   4888768  4829862  48168      15963    2361  0       8377\n",
      "Reference  4888768  4888768  0          0        0     0       0\n"
     ]
    }
   ],
   "source": [
    "!column -s$'\\t' -t phylogeny/core.txt"
   ]
  },
  {
   "cell_type": "markdown",
   "id": "express-prefix",
   "metadata": {},
   "source": [
    "# Tree"
   ]
  },
  {
   "cell_type": "code",
   "execution_count": 11,
   "id": "greater-enhancement",
   "metadata": {},
   "outputs": [
    {
     "name": "stdout",
     "output_type": "stream",
     "text": [
      "Iteration 100 / LogL: -406778.060 / Time: 0h:2m:31s (0h:0m:1s left)\n",
      "TREE SEARCH COMPLETED AFTER 102 ITERATIONS / Time: 0h:2m:33s\n",
      "\n",
      "--------------------------------------------------------------------\n",
      "|                    FINALIZING TREE SEARCH                        |\n",
      "--------------------------------------------------------------------\n",
      "Performs final model parameters optimization\n",
      "Estimate model parameters (epsilon = 0.010)\n",
      "1. Initial log-likelihood: -398085.579\n",
      "Optimal log-likelihood: -398085.579\n",
      "Rate parameters:  A-C: 1.00000  A-G: 1.00000  A-T: 1.00000  C-G: 1.00000  C-T: 1.00000  G-T: 1.00000\n",
      "Base frequencies:  A: 0.250  C: 0.250  G: 0.250  T: 0.250\n",
      "Gamma shape alpha: 2.819\n",
      "Parameters optimization took 1 rounds (0.017 sec)\n",
      "BEST SCORE FOUND : -398085.579\n",
      "Total tree length: 0.025\n",
      "\n",
      "Total number of iterations: 102\n",
      "CPU time used for tree search: 3366.220 sec (0h:56m:6s)\n",
      "Wall-clock time used for tree search: 153.031 sec (0h:2m:33s)\n",
      "Total CPU time used: 3389.903 sec (0h:56m:29s)\n",
      "Total wall-clock time used: 154.018 sec (0h:2m:34s)\n",
      "\n",
      "Analysis results written to: \n",
      "  IQ-TREE report:                phylogeny/core.aln.iqtree\n",
      "  Maximum-likelihood tree:       phylogeny/core.aln.treefile\n",
      "  Likelihood distances:          phylogeny/core.aln.mldist\n",
      "  Screen log file:               phylogeny/core.aln.log\n",
      "\n",
      "Date and Time: Tue Feb  9 21:01:03 2021\n"
     ]
    }
   ],
   "source": [
    "!iqtree -redo -s phylogeny/core.aln -T 24 | tail -n 30"
   ]
  },
  {
   "cell_type": "code",
   "execution_count": 12,
   "id": "convertible-instrument",
   "metadata": {},
   "outputs": [],
   "source": [
    "!sed -i.bak -e 's/Reference/reference/' phylogeny/core.aln.treefile"
   ]
  },
  {
   "cell_type": "code",
   "execution_count": null,
   "id": "future-daughter",
   "metadata": {},
   "outputs": [],
   "source": []
  }
 ],
 "metadata": {
  "kernelspec": {
   "display_name": "Python 3",
   "language": "python",
   "name": "python3"
  },
  "language_info": {
   "codemirror_mode": {
    "name": "ipython",
    "version": 3
   },
   "file_extension": ".py",
   "mimetype": "text/x-python",
   "name": "python",
   "nbconvert_exporter": "python",
   "pygments_lexer": "ipython3",
   "version": "3.8.6"
  }
 },
 "nbformat": 4,
 "nbformat_minor": 5
}
