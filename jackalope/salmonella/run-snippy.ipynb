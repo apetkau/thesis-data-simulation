{
 "cells": [
  {
   "cell_type": "markdown",
   "id": "impossible-luxury",
   "metadata": {},
   "source": [
    "# Fix reads"
   ]
  },
  {
   "cell_type": "code",
   "execution_count": 1,
   "id": "desperate-democracy",
   "metadata": {},
   "outputs": [
    {
     "name": "stdout",
     "output_type": "stream",
     "text": [
      "~/workspace/thesis-data-simulation/jackalope/output/reads ~/workspace/thesis-data-simulation/jackalope\n",
      "~/workspace/thesis-data-simulation/jackalope\n"
     ]
    }
   ],
   "source": [
    "import os\n",
    "\n",
    "# Fix warning about locale unset\n",
    "os.environ['LANG'] = 'en_US.UTF-8'\n",
    "\n",
    "!pushd output/reads; prename 's/initial_//' *.fq.gz; popd"
   ]
  },
  {
   "cell_type": "markdown",
   "id": "numerous-indian",
   "metadata": {},
   "source": [
    "Jackalope produces reads with non-standard identifiers where pairs of reads don't have matching identifiers. For example:\n",
    "\n",
    "* Pair 1: `@SH08-001-NC_011083-3048632-R/1`\n",
    "* Pair 2: `@SH08-001-NC_011083-3048396-F/2`\n",
    "\n",
    "In order to run snippy, these paired identifiers need to match (except for the `/1` and `/2` suffix).\n",
    "\n",
    "So, I have to replace them all with something unique, but which matches in each pair of files. I do this by replacing the position (I think) with the read number (as it appears in the file). So the above identifiers become:\n",
    "\n",
    "* Pair 1: `@SH08-001-NC_011083-1/1`\n",
    "* Pair 2: `@SH08-001-NC_011083-1/2`"
   ]
  },
  {
   "cell_type": "code",
   "execution_count": 2,
   "id": "fifth-mention",
   "metadata": {},
   "outputs": [],
   "source": [
    "import glob\n",
    "import os\n",
    "\n",
    "files = [os.path.basename(f) for f in glob.glob('output/reads/*.fq.gz')]\n",
    "!parallel -j 24 -I% 'gzip -d --stdout output/reads/% | perl replace-fastq-header.pl | gzip > output/%' \\\n",
    "    ::: {' '.join(files)}"
   ]
  },
  {
   "cell_type": "markdown",
   "id": "arctic-choir",
   "metadata": {},
   "source": [
    "# Create input file for snippy"
   ]
  },
  {
   "cell_type": "code",
   "execution_count": 3,
   "id": "silver-spokesman",
   "metadata": {},
   "outputs": [],
   "source": [
    "import os\n",
    "import glob\n",
    "\n",
    "reference_file = 'input/S_HeidelbergSL476.fasta.gz'\n",
    "\n",
    "# snippy only runs with uncompressed reference\n",
    "!gunzip -f -k {reference_file}\n",
    "\n",
    "reference_file_abs = os.path.abspath('input/S_HeidelbergSL476.fasta')\n",
    "\n",
    "snippy_out = os.path.abspath('phylogeny')\n",
    "\n",
    "if not os.path.exists(snippy_out):\n",
    "    os.mkdir(snippy_out)\n",
    "\n",
    "with open(f'{snippy_out}/snippy.fofn', 'w') as snippy_fofn:\n",
    "    directory = 'output'\n",
    "    for file in glob.glob(f'{directory}/*_R1.fq.gz'):\n",
    "        sample = os.path.basename(file).rsplit('_R1.fq.gz')[0]\n",
    "        \n",
    "        files = [f'{directory}/{sample}_R1.fq.gz', f'{directory}/{sample}_R2.fq.gz']\n",
    "        files = [os.path.abspath(f) for f in files]\n",
    "        values = [sample]\n",
    "        values.extend(files)\n",
    "        snippy_fofn.write('\\t'.join(values)+'\\n')"
   ]
  },
  {
   "cell_type": "code",
   "execution_count": 4,
   "id": "editorial-bobby",
   "metadata": {},
   "outputs": [
    {
     "name": "stdout",
     "output_type": "stream",
     "text": [
      "SH14-013\t/home/CSCScience.ca/apetkau/workspace/thesis-data-simulation/jackalope/output/SH14-013_R1.fq.gz\t/home/CSCScience.ca/apetkau/workspace/thesis-data-simulation/jackalope/output/SH14-013_R2.fq.gz\n"
     ]
    }
   ],
   "source": [
    "!head -n 1 {snippy_out}/snippy.fofn"
   ]
  },
  {
   "cell_type": "markdown",
   "id": "altered-pressure",
   "metadata": {},
   "source": [
    "# Run snippy"
   ]
  },
  {
   "cell_type": "code",
   "execution_count": 5,
   "id": "rocky-feedback",
   "metadata": {},
   "outputs": [
    {
     "name": "stdout",
     "output_type": "stream",
     "text": [
      "Reading: /home/CSCScience.ca/apetkau/workspace/thesis-data-simulation/jackalope/phylogeny/snippy.fofn\n",
      "Generating output commands for 59 isolates\n",
      "Done.\n",
      "\n"
     ]
    }
   ],
   "source": [
    "!conda run --name snippy snippy-multi {snippy_out}/snippy.fofn \\\n",
    "    --reference {reference_file_abs} --cpus 6 > {snippy_out}/snippy-commands-all.sh\n",
    "!head -n-2 {snippy_out}/snippy-commands-all.sh > {snippy_out}/snippy-commands-variant.sh\n",
    "!tail -n 2 {snippy_out}/snippy-commands-all.sh > {snippy_out}/snippy-commands-core.sh"
   ]
  },
  {
   "cell_type": "code",
   "execution_count": 6,
   "id": "fifteen-victoria",
   "metadata": {},
   "outputs": [
    {
     "name": "stdout",
     "output_type": "stream",
     "text": [
      "snippy --outdir 'SH14-023' --R1 '/home/CSCScience.ca/apetkau/workspace/thesis-data-simulation/jackalope/output/SH14-023_R1.fq.gz' --R2 '/home/CSCScience.ca/apetkau/workspace/thesis-data-simulation/jackalope/output/SH14-023_R2.fq.gz' --reference /home/CSCScience.ca/apetkau/workspace/thesis-data-simulation/jackalope/input/S_HeidelbergSL476.fasta --cpus 6\n",
      "snippy --outdir 'SH13-005' --R1 '/home/CSCScience.ca/apetkau/workspace/thesis-data-simulation/jackalope/output/SH13-005_R1.fq.gz' --R2 '/home/CSCScience.ca/apetkau/workspace/thesis-data-simulation/jackalope/output/SH13-005_R2.fq.gz' --reference /home/CSCScience.ca/apetkau/workspace/thesis-data-simulation/jackalope/input/S_HeidelbergSL476.fasta --cpus 6\n",
      "****\n",
      "snippy-core --ref 'SH08-001/ref.fa' SH08-001 SH09-29 SH10-001 SH10-002 SH10-014 SH10-015 SH10-30 SH11-001 SH11-002 SH12-001 SH12-002 SH12-003 SH12-004 SH12-005 SH12-006 SH12-007 SH12-008 SH12-009 SH12-010 SH12-011 SH12-012 SH12-013 SH12-014 SH13-001 SH13-002 SH13-003 SH13-004 SH13-005 SH13-006 SH13-007 SH13-008 SH14-001 SH14-002 SH14-003 SH14-004 SH14-005 SH14-006 SH14-007 SH14-008 SH14-009 SH14-010 SH14-011 SH14-012 SH14-013 SH14-014 SH14-015 SH14-016 SH14-017 SH14-018 SH14-019 SH14-020 SH14-021 SH14-022 SH14-023 SH14-024 SH14-025 SH14-026 SH14-027 SH14-028\n",
      "\n"
     ]
    }
   ],
   "source": [
    "!tail -n 2 {snippy_out}/snippy-commands-variant.sh\n",
    "!echo '****'\n",
    "!tail {snippy_out}/snippy-commands-core.sh"
   ]
  },
  {
   "cell_type": "code",
   "execution_count": 7,
   "id": "black-inventory",
   "metadata": {},
   "outputs": [],
   "source": [
    "# Run variant calling in parallel\n",
    "!(pushd {snippy_out} && conda run --name snippy \\\n",
    "  parallel -j 12 -a {snippy_out}/snippy-commands-variant.sh && popd) > {snippy_out}/snippy-variant.log 2>&1"
   ]
  },
  {
   "cell_type": "code",
   "execution_count": 8,
   "id": "secondary-relaxation",
   "metadata": {},
   "outputs": [],
   "source": [
    "# Run core in serial\n",
    "!(pushd {snippy_out} && conda run --name snippy \\\n",
    "  bash {snippy_out}/snippy-commands-core.sh && popd) > {snippy_out}/snippy-core.log 2>&1"
   ]
  },
  {
   "cell_type": "code",
   "execution_count": 9,
   "id": "pressing-british",
   "metadata": {},
   "outputs": [
    {
     "name": "stdout",
     "output_type": "stream",
     "text": [
      "ID         LENGTH   ALIGNED  UNALIGNED  VARIANT  HET   MASKED  LOWCOV\n",
      "SH08-001   4888768  4830026  48062      18570    2369  0       8311\n",
      "SH09-29    4888768  4829419  47976      15564    2354  0       9019\n",
      "SH10-001   4888768  4830067  48022      16618    2360  0       8319\n",
      "SH10-002   4888768  4829571  48240      17199    2449  0       8508\n",
      "SH10-014   4888768  4830290  47996      20802    2405  0       8077\n",
      "SH10-015   4888768  4829888  48237      20319    2363  0       8280\n",
      "SH10-30    4888768  4829838  48110      16040    2380  0       8440\n",
      "SH11-001   4888768  4829682  48015      16028    2405  0       8666\n",
      "SH11-002   4888768  4829894  48238      20798    2515  0       8121\n",
      "SH12-001   4888768  4829610  47966      17032    2356  0       8836\n",
      "SH12-002   4888768  4829756  47924      17289    2442  0       8646\n",
      "SH12-003   4888768  4830008  48006      17025    2308  0       8446\n",
      "SH12-004   4888768  4830474  47853      17021    2466  0       7975\n",
      "SH12-005   4888768  4830199  48023      17020    2453  0       8093\n",
      "SH12-006   4888768  4830004  47963      17018    2364  0       8437\n",
      "SH12-007   4888768  4829889  48027      17525    2562  0       8290\n",
      "SH12-008   4888768  4829772  48064      17015    2364  0       8568\n",
      "SH12-009   4888768  4829979  48204      17014    2487  0       8098\n",
      "SH12-010   4888768  4830344  48042      17255    2355  0       8027\n",
      "SH12-011   4888768  4829541  47998      16796    2488  0       8741\n",
      "SH12-012   4888768  4830313  48240      16829    2477  0       7738\n",
      "SH12-013   4888768  4830171  47881      4472     2137  0       8579\n",
      "SH12-014   4888768  4829510  48124      13925    2348  0       8786\n",
      "SH13-001   4888768  4829661  48064      20917    2480  0       8563\n",
      "SH13-002   4888768  4829155  48093      20905    2621  0       8899\n",
      "SH13-003   4888768  4829340  48273      20907    2360  0       8795\n",
      "SH13-004   4888768  4829122  48215      21164    2366  0       9065\n",
      "SH13-005   4888768  4829476  48193      20904    2470  0       8629\n",
      "SH13-006   4888768  4829891  48167      20903    2369  0       8341\n",
      "SH13-007   4888768  4828681  48236      20903    2645  0       9206\n",
      "SH13-008   4888768  4829948  48298      21136    2291  0       8231\n",
      "SH14-001   4888768  4829010  48082      16099    2569  0       9107\n",
      "SH14-002   4888768  4830414  47985      15873    2354  0       8015\n",
      "SH14-003   4888768  4829687  48136      15874    2230  0       8715\n",
      "SH14-004   4888768  4829653  48020      15871    2399  0       8696\n",
      "SH14-005   4888768  4829839  48206      15869    2362  0       8361\n",
      "SH14-006   4888768  4829192  48263      15869    2412  0       8901\n",
      "SH14-007   4888768  4829919  48193      15867    2417  0       8239\n",
      "SH14-008   4888768  4829926  48080      15866    2425  0       8337\n",
      "SH14-009   4888768  4829881  47982      15866    2329  0       8576\n",
      "SH14-010   4888768  4829528  48110      16109    2374  0       8756\n",
      "SH14-011   4888768  4829193  48048      15860    2492  0       9035\n",
      "SH14-012   4888768  4829011  48340      23741    2601  0       8816\n",
      "SH14-013   4888768  4829808  48014      15853    2429  0       8517\n",
      "SH14-014   4888768  4829110  48114      15851    2469  0       9075\n",
      "SH14-015   4888768  4829992  47953      15852    2264  0       8559\n",
      "SH14-016   4888768  4829612  48130      15850    2575  0       8451\n",
      "SH14-017   4888768  4830166  48154      16107    2359  0       8089\n",
      "SH14-018   4888768  4829680  48170      15847    2520  0       8398\n",
      "SH14-019   4888768  4830060  48077      15844    2377  0       8254\n",
      "SH14-020   4888768  4829717  48091      15843    2339  0       8621\n",
      "SH14-021   4888768  4829535  48241      15844    2317  0       8675\n",
      "SH14-022   4888768  4829454  48046      15842    2423  0       8845\n",
      "SH14-023   4888768  4829671  48223      15841    2433  0       8441\n",
      "SH14-024   4888768  4829231  48041      15839    2436  0       9060\n",
      "SH14-025   4888768  4830257  47950      15840    2324  0       8237\n",
      "SH14-026   4888768  4829524  48158      15840    2354  0       8732\n",
      "SH14-027   4888768  4829763  48046      15839    2415  0       8544\n",
      "SH14-028   4888768  4829955  47949      15838    2445  0       8419\n",
      "Reference  4888768  4888768  0          0        0     0       0\n"
     ]
    }
   ],
   "source": [
    "!column -s$'\\t' -t phylogeny/core.txt"
   ]
  },
  {
   "cell_type": "markdown",
   "id": "solar-issue",
   "metadata": {},
   "source": [
    "# Tree"
   ]
  },
  {
   "cell_type": "code",
   "execution_count": 10,
   "id": "lesser-pricing",
   "metadata": {},
   "outputs": [
    {
     "name": "stdout",
     "output_type": "stream",
     "text": [
      "Iteration 100 / LogL: -398851.548 / Time: 0h:1m:57s (0h:0m:1s left)\n",
      "TREE SEARCH COMPLETED AFTER 102 ITERATIONS / Time: 0h:1m:59s\n",
      "\n",
      "--------------------------------------------------------------------\n",
      "|                    FINALIZING TREE SEARCH                        |\n",
      "--------------------------------------------------------------------\n",
      "Performs final model parameters optimization\n",
      "Estimate model parameters (epsilon = 0.010)\n",
      "1. Initial log-likelihood: -398799.986\n",
      "Optimal log-likelihood: -398799.986\n",
      "Rate parameters:  A-C: 1.00000  A-G: 1.00000  A-T: 1.00000  C-G: 1.00000  C-T: 1.00000  G-T: 1.00000\n",
      "Base frequencies:  A: 0.242  C: 0.257  G: 0.258  T: 0.243\n",
      "Gamma shape alpha: 4.759\n",
      "Parameters optimization took 1 rounds (0.014 sec)\n",
      "BEST SCORE FOUND : -398799.986\n",
      "Total tree length: 0.029\n",
      "\n",
      "Total number of iterations: 102\n",
      "CPU time used for tree search: 2556.735 sec (0h:42m:36s)\n",
      "Wall-clock time used for tree search: 118.956 sec (0h:1m:58s)\n",
      "Total CPU time used: 2571.310 sec (0h:42m:51s)\n",
      "Total wall-clock time used: 119.568 sec (0h:1m:59s)\n",
      "\n",
      "Analysis results written to: \n",
      "  IQ-TREE report:                phylogeny/core.aln.iqtree\n",
      "  Maximum-likelihood tree:       phylogeny/core.aln.treefile\n",
      "  Likelihood distances:          phylogeny/core.aln.mldist\n",
      "  Screen log file:               phylogeny/core.aln.log\n",
      "\n",
      "Date and Time: Sat Jan 23 13:26:10 2021\n"
     ]
    }
   ],
   "source": [
    "!iqtree -redo -s phylogeny/core.aln -T 24 | tail -n 30"
   ]
  },
  {
   "cell_type": "code",
   "execution_count": 11,
   "id": "charming-expression",
   "metadata": {},
   "outputs": [],
   "source": [
    "!sed -i.bak -e 's/Reference/reference/' phylogeny/core.aln.treefile"
   ]
  }
 ],
 "metadata": {
  "kernelspec": {
   "display_name": "Python 3",
   "language": "python",
   "name": "python3"
  },
  "language_info": {
   "codemirror_mode": {
    "name": "ipython",
    "version": 3
   },
   "file_extension": ".py",
   "mimetype": "text/x-python",
   "name": "python",
   "nbconvert_exporter": "python",
   "pygments_lexer": "ipython3",
   "version": "3.8.6"
  }
 },
 "nbformat": 4,
 "nbformat_minor": 5
}
