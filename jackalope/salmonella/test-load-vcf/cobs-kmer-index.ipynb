{
 "cells": [
  {
   "cell_type": "markdown",
   "id": "split-guitar",
   "metadata": {},
   "source": [
    "# Test COBS index (Python interface)\n",
    "\n",
    "Test creating a COBS index using the Python interface <https://bingmann.github.io/cobs-python-docs>."
   ]
  },
  {
   "cell_type": "code",
   "execution_count": 8,
   "id": "combined-address",
   "metadata": {},
   "outputs": [
    {
     "name": "stdout",
     "output_type": "stream",
     "text": [
      "0.1.2\n"
     ]
    }
   ],
   "source": [
    "import cobs_index as cobs\n",
    "import time\n",
    "from pathlib import Path\n",
    "import os\n",
    "\n",
    "print(cobs.__version__)"
   ]
  },
  {
   "cell_type": "code",
   "execution_count": 13,
   "id": "crude-manor",
   "metadata": {},
   "outputs": [
    {
     "name": "stdout",
     "output_type": "stream",
     "text": [
      "doc[0] name SH08-001 size 156246044\n",
      "doc[1] name SH09-29 size 156247419\n",
      "doc[2] name SH10-001 size 156150631\n",
      "doc[3] name SH10-002 size 156046700\n",
      "doc[4] name SH10-014 size 155880939\n",
      "doc[5] name SH10-015 size 155777535\n",
      "doc[6] name SH10-30 size 155237675\n",
      "doc[7] name SH11-001 size 156269496\n",
      "doc[8] name SH11-002 size 155952361\n",
      "doc[9] name SH12-001 size 156573304\n",
      "doc[10] name SH12-002 size 156642596\n",
      "doc[11] name SH12-003 size 156096800\n",
      "doc[12] name SH12-004 size 155802051\n",
      "doc[13] name SH12-005 size 156869121\n",
      "doc[14] name SH12-006 size 156284420\n",
      "doc[15] name SH12-007 size 155926240\n",
      "doc[16] name SH12-008 size 156173556\n",
      "doc[17] name SH12-009 size 156443250\n",
      "doc[18] name SH12-010 size 156219394\n",
      "doc[19] name SH12-011 size 156703358\n",
      "doc[20] name SH12-012 size 156135713\n",
      "doc[21] name SH12-013 size 156241245\n",
      "doc[22] name SH12-014 size 155945965\n",
      "doc[23] name SH13-001 size 156550918\n",
      "doc[24] name SH13-002 size 156415005\n",
      "doc[25] name SH13-003 size 156089873\n",
      "doc[26] name SH13-004 size 156430995\n",
      "doc[27] name SH13-005 size 156544524\n",
      "doc[28] name SH13-006 size 156209798\n",
      "doc[29] name SH13-007 size 155948097\n",
      "doc[30] name SH13-008 size 156458711\n",
      "doc[31] name SH14-001 size 156264699\n",
      "doc[32] name SH14-002 size 156535463\n",
      "doc[33] name SH14-003 size 156757187\n",
      "doc[34] name SH14-004 size 155804185\n",
      "doc[35] name SH14-005 size 156256704\n",
      "doc[36] name SH14-006 size 156071751\n",
      "doc[37] name SH14-007 size 156529598\n",
      "doc[38] name SH14-008 size 156250839\n",
      "doc[39] name SH14-009 size 156244978\n",
      "doc[40] name SH14-010 size 156185282\n",
      "doc[41] name SH14-011 size 156231653\n",
      "doc[42] name SH14-012 size 156173554\n",
      "doc[43] name SH14-013 size 156596221\n",
      "doc[44] name SH14-014 size 156643662\n",
      "doc[45] name SH14-015 size 156308405\n",
      "doc[46] name SH14-016 size 155944364\n",
      "doc[47] name SH14-017 size 156068022\n",
      "doc[48] name SH14-018 size 156025915\n",
      "doc[49] name SH14-019 size 156078680\n",
      "doc[50] name SH14-020 size 156568509\n",
      "doc[51] name SH14-021 size 155949694\n",
      "doc[52] name SH14-022 size 155874541\n",
      "doc[53] name SH14-023 size 156108528\n",
      "doc[54] name SH14-024 size 156235382\n",
      "doc[55] name SH14-025 size 156234318\n",
      "doc[56] name SH14-026 size 155865482\n",
      "doc[57] name SH14-027 size 156538661\n",
      "doc[58] name SH14-028 size 156294012\n"
     ]
    }
   ],
   "source": [
    "reads_path = Path('..') / 'output' / 'reads_cat'\n",
    "doclist1 = cobs.DocumentList(str(reads_path))\n",
    "for i, d in enumerate(doclist1):\n",
    "    print(\"doc[{}] name {} size {}\".format(i, d.name, d.size))"
   ]
  },
  {
   "cell_type": "code",
   "execution_count": 21,
   "id": "foreign-moment",
   "metadata": {},
   "outputs": [
    {
     "name": "stdout",
     "output_type": "stream",
     "text": [
      "Took 5.43 minutes\n"
     ]
    }
   ],
   "source": [
    "import glob\n",
    "\n",
    "index_path = Path('salmonella.cobs_compact')\n",
    "if index_path.exists():\n",
    "    os.remove(index_path)\n",
    "    \n",
    "# Remove cache files so that we re-construct a new index each time\n",
    "for file in glob.glob(f'{reads_path}/*.cobs_cache'):\n",
    "    os.remove(file)\n",
    "    \n",
    "params = cobs.CompactIndexParameters()\n",
    "params.term_size = 31               # k-mer size\n",
    "params.false_positive_rate = 0.1    # higher false positive rate -> smaller index\n",
    "params.keep_temporary = False\n",
    "params.num_threads=8\n",
    "\n",
    "start_time = time.time()\n",
    "cobs.compact_construct_list(doclist1, str(index_path), index_params=params)\n",
    "end_time = time.time()\n",
    "\n",
    "print(f'Took {(end_time - start_time)/60:0.2f} minutes')"
   ]
  },
  {
   "cell_type": "code",
   "execution_count": 22,
   "id": "accredited-chart",
   "metadata": {},
   "outputs": [
    {
     "name": "stdout",
     "output_type": "stream",
     "text": [
      "-rw-r--r-- 1 apetkau grp_apetkau 4.6G Mar  9 15:12 salmonella.cobs_compact\n",
      "7.3G\t../output/reads_cat\n"
     ]
    }
   ],
   "source": [
    "!ls -lrth {index_path}\n",
    "!du -sh {reads_path}"
   ]
  },
  {
   "cell_type": "markdown",
   "id": "round-blink",
   "metadata": {},
   "source": [
    "## Find nucleotide sequence to search"
   ]
  },
  {
   "cell_type": "code",
   "execution_count": 130,
   "id": "public-project",
   "metadata": {},
   "outputs": [
    {
     "name": "stdout",
     "output_type": "stream",
     "text": [
      "/tmp/tmp2r1f0q7t\n"
     ]
    }
   ],
   "source": [
    "import tempfile\n",
    "import pandas as pd\n",
    "\n",
    "query = 'TCGGTGTACTGGGTTTCACCCAGACGGTCATGGAGACGCGTCATGAACAGCGTATTTGCCGCATAGTTGTTGGCAAGATAGCTGCCCACTTCCGGACGGAACTGATGTTCTGTTATCGGCGGTGTGTCAGATTGCCCTATGTCAGGAATTGTCGGATCAGGGAT'\n",
    "# query = 'GAATTAGTTGAAAATAAATATATCGCCAGCAGCACATGAA'\n",
    "blast_columns = 'qseqid qstart qend sseqid sstart send pident length'\n",
    "blast_out_format = f'6 {blast_columns}'\n",
    "\n",
    "assembly_dir = Path('..') / 'output' / 'assemblies'\n",
    "assembly_files = glob.glob(f'{assembly_dir}/*.fasta')\n",
    "\n",
    "tmp_assembly = tempfile.TemporaryDirectory()\n",
    "query_file = f'{tmp_assembly.name}/query.fasta'\n",
    "\n",
    "with open(query_file, 'w') as of:\n",
    "    of.write('>query\\n')\n",
    "    of.write(query)\n",
    "\n",
    "results_frames = []\n",
    "for f in assembly_files:\n",
    "    name = os.path.basename(f)\n",
    "    blast_out = f'{tmp_assembly.name}/{name}.blast'\n",
    "    out_path = f'{tmp_assembly.name}/{name}'\n",
    "    os.symlink(os.path.abspath(f), out_path)\n",
    "    \n",
    "    !makeblastdb -in {out_path} -dbtype nucl -parse_seqids > /dev/null\n",
    "    !blastn -db {out_path} -query {query_file} -outfmt '{blast_out_format}' > {blast_out}\n",
    "    \n",
    "    df = pd.read_csv(blast_out, sep='\\t', names=blast_columns.split(' '))\n",
    "    df['sample'] = name\n",
    "    results_frames.append(df)\n",
    "        \n",
    "results_df = pd.concat(results_frames)\n",
    "    \n",
    "print(tmp_assembly.name)\n",
    "results_df\n",
    "tmp_assembly.cleanup()"
   ]
  },
  {
   "cell_type": "code",
   "execution_count": 131,
   "id": "detailed-steering",
   "metadata": {},
   "outputs": [
    {
     "data": {
      "text/plain": [
       "45"
      ]
     },
     "execution_count": 131,
     "metadata": {},
     "output_type": "execute_result"
    }
   ],
   "source": [
    "import re\n",
    "\n",
    "matches_blast = set(results_df[(results_df['pident'] == 100) & (results_df['length'] == len(query))]['sample'].tolist())\n",
    "matches_blast = {re.sub(r'\\.fasta', '', r) for r in matches_blast}\n",
    "len(matches_blast)"
   ]
  },
  {
   "cell_type": "markdown",
   "id": "diverse-furniture",
   "metadata": {},
   "source": [
    "## Search in COBS"
   ]
  },
  {
   "cell_type": "code",
   "execution_count": 132,
   "id": "accredited-promotion",
   "metadata": {},
   "outputs": [
    {
     "name": "stdout",
     "output_type": "stream",
     "text": [
      "COBs matches (45) and BLAST matches (45) are equal: True\n"
     ]
    }
   ],
   "source": [
    "search_index = cobs.Search('salmonella.cobs_compact')\n",
    "results_cobs = search_index.search(query, threshold=1.0)\n",
    "matches_cobs = {r[1] for r in results_cobs}\n",
    "print(f'COBs matches ({len(matches_cobs)}) and BLAST matches ({len(matches_blast)}) are equal: {matches_cobs == matches_blast}')"
   ]
  },
  {
   "cell_type": "code",
   "execution_count": 133,
   "id": "protective-tuner",
   "metadata": {},
   "outputs": [
    {
     "name": "stdout",
     "output_type": "stream",
     "text": [
      "[(134, 'SH09-29'), (134, 'SH10-002'), (134, 'SH10-014'), (134, 'SH10-015'), (134, 'SH10-30'), (134, 'SH11-002'), (134, 'SH12-012'), (134, 'SH12-013'), (134, 'SH12-014'), (134, 'SH13-001'), (134, 'SH13-002'), (134, 'SH13-003'), (134, 'SH13-004'), (134, 'SH13-005'), (134, 'SH13-006'), (134, 'SH13-007'), (134, 'SH13-008'), (134, 'SH14-001'), (134, 'SH14-002'), (134, 'SH14-003'), (134, 'SH14-004'), (134, 'SH14-005'), (134, 'SH14-006'), (134, 'SH14-007'), (134, 'SH14-008'), (134, 'SH14-009'), (134, 'SH14-010'), (134, 'SH14-011'), (134, 'SH14-012'), (134, 'SH14-013'), (134, 'SH14-014'), (134, 'SH14-015'), (134, 'SH14-016'), (134, 'SH14-017'), (134, 'SH14-018'), (134, 'SH14-019'), (134, 'SH14-020'), (134, 'SH14-021'), (134, 'SH14-022'), (134, 'SH14-023'), (134, 'SH14-024'), (134, 'SH14-025'), (134, 'SH14-026'), (134, 'SH14-027'), (134, 'SH14-028')]\n"
     ]
    }
   ],
   "source": [
    "print(results_cobs)"
   ]
  }
 ],
 "metadata": {
  "kernelspec": {
   "display_name": "Python 3",
   "language": "python",
   "name": "python3"
  },
  "language_info": {
   "codemirror_mode": {
    "name": "ipython",
    "version": 3
   },
   "file_extension": ".py",
   "mimetype": "text/x-python",
   "name": "python",
   "nbconvert_exporter": "python",
   "pygments_lexer": "ipython3",
   "version": "3.8.6"
  }
 },
 "nbformat": 4,
 "nbformat_minor": 5
}
