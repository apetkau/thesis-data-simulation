{
 "cells": [
  {
   "cell_type": "markdown",
   "id": "6794d2d9-3c1c-46ee-a48e-ca059b10242e",
   "metadata": {},
   "source": [
    "# Generate test assemblies\n",
    "\n",
    "This generates test files used to test out the assembly verison of the pipeline by using the output consensus files from snippy."
   ]
  },
  {
   "cell_type": "code",
   "execution_count": 1,
   "id": "1271ae17-525e-4344-8b1e-6335556e548a",
   "metadata": {},
   "outputs": [
    {
     "data": {
      "text/plain": [
       "['SampleC.fasta', 'SampleA.fasta', 'SampleB.fasta']"
      ]
     },
     "execution_count": 1,
     "metadata": {},
     "output_type": "execute_result"
    }
   ],
   "source": [
    "import os\n",
    "import shutil\n",
    "\n",
    "if not os.path.exists('test-assemblies'):\n",
    "    os.mkdir('test-assemblies')\n",
    "\n",
    "samples = [s for s in os.listdir('phylogeny') if s.startswith('Sample')]\n",
    "\n",
    "for s in samples:\n",
    "    shutil.copy(f'phylogeny/{s}/snps.consensus.subs.fa' ,f'test-assemblies/{s}.fasta')\n",
    "    \n",
    "os.listdir('test-assemblies')"
   ]
  },
  {
   "cell_type": "markdown",
   "id": "3adfbeb4-c1e5-4b11-b172-7d360a7db572",
   "metadata": {},
   "source": [
    "## Nucmer"
   ]
  },
  {
   "cell_type": "code",
   "execution_count": 2,
   "id": "32c08f36-704c-4013-8deb-381870a0cc4c",
   "metadata": {},
   "outputs": [
    {
     "name": "stdout",
     "output_type": "stream",
     "text": [
      "1: PREPARING DATA\n",
      "2,3: RUNNING mummer AND CREATING CLUSTERS\n",
      "# reading input file \"test-assemblies/expected-mutations/genome_SampleA.ntref\" of length 5181\n",
      "# construct suffix tree for sequence of length 5181\n",
      "# (maximum reference length is 536870908)\n",
      "# (maximum query length is 4294967295)\n",
      "# CONSTRUCTIONTIME /usr/bin/mummer test-assemblies/expected-mutations/genome_SampleA.ntref 0.00\n",
      "# reading input file \"/home/apetkau/workspace/thesis-data-simulation/jackalope/small/test-assemblies/SampleA.fasta\" of length 5180\n",
      "# matching query-file \"/home/apetkau/workspace/thesis-data-simulation/jackalope/small/test-assemblies/SampleA.fasta\"\n",
      "# against subject-file \"test-assemblies/expected-mutations/genome_SampleA.ntref\"\n",
      "# COMPLETETIME /usr/bin/mummer test-assemblies/expected-mutations/genome_SampleA.ntref 0.00\n",
      "# SPACE /usr/bin/mummer test-assemblies/expected-mutations/genome_SampleA.ntref 0.01\n",
      "4: FINISHING DATA\n",
      "1: PREPARING DATA\n",
      "2,3: RUNNING mummer AND CREATING CLUSTERS\n",
      "# reading input file \"test-assemblies/expected-mutations/genome_SampleB.ntref\" of length 5181\n",
      "# construct suffix tree for sequence of length 5181\n",
      "# (maximum reference length is 536870908)\n",
      "# (maximum query length is 4294967295)\n",
      "# CONSTRUCTIONTIME /usr/bin/mummer test-assemblies/expected-mutations/genome_SampleB.ntref 0.00\n",
      "# reading input file \"/home/apetkau/workspace/thesis-data-simulation/jackalope/small/test-assemblies/SampleB.fasta\" of length 5180\n",
      "# matching query-file \"/home/apetkau/workspace/thesis-data-simulation/jackalope/small/test-assemblies/SampleB.fasta\"\n",
      "# against subject-file \"test-assemblies/expected-mutations/genome_SampleB.ntref\"\n",
      "# COMPLETETIME /usr/bin/mummer test-assemblies/expected-mutations/genome_SampleB.ntref 0.00\n",
      "# SPACE /usr/bin/mummer test-assemblies/expected-mutations/genome_SampleB.ntref 0.01\n",
      "4: FINISHING DATA\n",
      "1: PREPARING DATA\n",
      "2,3: RUNNING mummer AND CREATING CLUSTERS\n",
      "# reading input file \"test-assemblies/expected-mutations/genome_SampleC.ntref\" of length 5181\n",
      "# construct suffix tree for sequence of length 5181\n",
      "# (maximum reference length is 536870908)\n",
      "# (maximum query length is 4294967295)\n",
      "# CONSTRUCTIONTIME /usr/bin/mummer test-assemblies/expected-mutations/genome_SampleC.ntref 0.00\n",
      "# reading input file \"/home/apetkau/workspace/thesis-data-simulation/jackalope/small/test-assemblies/SampleC.fasta\" of length 5180\n",
      "# matching query-file \"/home/apetkau/workspace/thesis-data-simulation/jackalope/small/test-assemblies/SampleC.fasta\"\n",
      "# against subject-file \"test-assemblies/expected-mutations/genome_SampleC.ntref\"\n",
      "# COMPLETETIME /usr/bin/mummer test-assemblies/expected-mutations/genome_SampleC.ntref 0.00\n",
      "# SPACE /usr/bin/mummer test-assemblies/expected-mutations/genome_SampleC.ntref 0.01\n",
      "4: FINISHING DATA\n"
     ]
    }
   ],
   "source": [
    "if not os.path.exists('test-assemblies/expected-mutations'):\n",
    "    os.mkdir('test-assemblies/expected-mutations')\n",
    "    \n",
    "for s in samples:\n",
    "    expected_file = f'test-assemblies/expected-mutations/{s}-mutations.txt'\n",
    "    delta_prefix = f'test-assemblies/expected-mutations/genome_{s}'\n",
    "    !nucmer --prefix {delta_prefix} input/genome.fasta test-assemblies/{s}.fasta\n",
    "    !show-snps -Clr {delta_prefix}.delta | tail -n+6 | perl show-snps-to-txt.pl > {expected_file}"
   ]
  }
 ],
 "metadata": {
  "kernelspec": {
   "display_name": "Python 3",
   "language": "python",
   "name": "python3"
  },
  "language_info": {
   "codemirror_mode": {
    "name": "ipython",
    "version": 3
   },
   "file_extension": ".py",
   "mimetype": "text/x-python",
   "name": "python",
   "nbconvert_exporter": "python",
   "pygments_lexer": "ipython3",
   "version": "3.8.8"
  }
 },
 "nbformat": 4,
 "nbformat_minor": 5
}
