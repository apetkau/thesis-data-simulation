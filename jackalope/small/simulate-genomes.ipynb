{
 "cells": [
  {
   "cell_type": "markdown",
   "id": "lonely-desert",
   "metadata": {},
   "source": [
    "# Install\n",
    "\n",
    "To install, after creating conda environment from `environment.yml` run in R:\n",
    "\n",
    "```R\n",
    "install.packages(\"jackalope\", type=\"source\")\n",
    "```\n",
    "\n",
    "Note, please see <https://lucasnell.github.io/jackalope/index.html#enabling-openmp> for enabling openmp to use multiple threads.\n",
    "\n",
    "# Simulate reads\n",
    "\n",
    "This simulates mutations and reads of a small dataset for testing purposes using a reference genome and a tree."
   ]
  },
  {
   "cell_type": "code",
   "execution_count": 1,
   "id": "french-committee",
   "metadata": {},
   "outputs": [
    {
     "data": {
      "text/html": [
       "TRUE"
      ],
      "text/latex": [
       "TRUE"
      ],
      "text/markdown": [
       "TRUE"
      ],
      "text/plain": [
       "[1] TRUE"
      ]
     },
     "metadata": {},
     "output_type": "display_data"
    }
   ],
   "source": [
    "library(jackalope)\n",
    "\n",
    "# Make sure we've complied with openmp\n",
    "jackalope:::using_openmp()"
   ]
  },
  {
   "cell_type": "code",
   "execution_count": 2,
   "id": "centered-connectivity",
   "metadata": {},
   "outputs": [
    {
     "data": {
      "text/plain": [
       "< Set of 1 chromosomes >\n",
       "# Total size: 5,180 bp\n",
       "  name                             chromosome                             length\n",
       "reference  AGAGATTACGTCTGGTTGCAAGAGATCA...GAGGTTTCTTCATCAAAGAAATACCCTT      5180"
      ]
     },
     "metadata": {},
     "output_type": "display_data"
    }
   ],
   "source": [
    "reference <- read_fasta(\"input/genome.fasta.gz\")\n",
    "reference"
   ]
  },
  {
   "cell_type": "code",
   "execution_count": 3,
   "id": "wanted-color",
   "metadata": {},
   "outputs": [
    {
     "data": {
      "text/plain": [
       "\n",
       "Phylogenetic tree with 4 tips and 3 internal nodes.\n",
       "\n",
       "Tip labels:\n",
       "  reference, SampleA, SampleB, SampleC\n",
       "\n",
       "Rooted; includes branch lengths."
      ]
     },
     "metadata": {},
     "output_type": "display_data"
    }
   ],
   "source": [
    "library(ape)\n",
    "\n",
    "tree <- read.tree(\"input/tree.tre\")\n",
    "tree <- root(tree, \"SampleA\", resolve.root=TRUE)\n",
    "tree"
   ]
  },
  {
   "cell_type": "code",
   "execution_count": 4,
   "id": "special-trial",
   "metadata": {},
   "outputs": [
    {
     "data": {
      "text/plain": [
       "                              << haplotypes object >>\n",
       "# Haplotypes: 4\n",
       "# Mutations: 144\n",
       "\n",
       "                          << Reference genome info: >>\n",
       "< Set of 1 chromosomes >\n",
       "# Total size: 5,180 bp\n",
       "  name                             chromosome                             length\n",
       "reference  AGAGATTACGTCTGGTTGCAAGAGATCA...GAGGTTTCTTCATCAAAGAAATACCCTT      5180"
      ]
     },
     "metadata": {},
     "output_type": "display_data"
    }
   ],
   "source": [
    "sub <- sub_JC69(lambda = 1e-3, mu = 1)\n",
    "ins <- indels(rate = 1e-3, max_length = 60,a = 1.60)\n",
    "del <- indels(rate = 1e-3, max_length = 60, a = 1.51)\n",
    "\n",
    "ref_haplotypes <- create_haplotypes(reference, haps_phylo(tree), sub=sub, ins=ins, del=del)\n",
    "ref_haplotypes"
   ]
  },
  {
   "cell_type": "code",
   "execution_count": 5,
   "id": "intelligent-projection",
   "metadata": {},
   "outputs": [],
   "source": [
    "write_vcf(ref_haplotypes, out_prefix=\"output/haplotypes\", compress=TRUE)"
   ]
  },
  {
   "cell_type": "code",
   "execution_count": 6,
   "id": "operating-headset",
   "metadata": {},
   "outputs": [
    {
     "name": "stdout",
     "output_type": "stream",
     "text": [
      "Number of reads: 2486"
     ]
    }
   ],
   "source": [
    "coverage <- 30\n",
    "read_length <- 250\n",
    "n_samples <- length(tree$tip)\n",
    "n_reads <- round((reference$sizes() * coverage * n_samples) / read_length)\n",
    "cat(\"Number of reads:\", n_reads)\n",
    "\n",
    "illumina(ref_haplotypes, out_prefix = \"output/reads/initial\", sep_files=TRUE, n_reads = n_reads,\n",
    "         frag_mean = read_length * 2 + 50, frag_sd = 100,\n",
    "         compress=TRUE, comp_method=\"bgzip\", n_threads=48,\n",
    "         paired=TRUE, read_length = read_length)"
   ]
  },
  {
   "cell_type": "markdown",
   "id": "million-uruguay",
   "metadata": {},
   "source": [
    "# Take care of reference reads\n",
    "\n",
    "In order to compare trees, I need to remove reads simulated from reference genome (so reference isn't included twice).\n",
    "\n",
    "First, I verify that the simulated reference is identical to the input reference genome."
   ]
  },
  {
   "cell_type": "code",
   "execution_count": 7,
   "id": "arctic-palestinian",
   "metadata": {},
   "outputs": [
    {
     "name": "stdout",
     "output_type": "stream",
     "text": [
      "[1] \"0:441453\"  \"reference\"\n"
     ]
    }
   ],
   "source": [
    "out <- system(\"zcat output/haplotypes.vcf.gz | tail -n+9 | cut -f 10 | sort -u\", intern=TRUE)\n",
    "print(out)"
   ]
  },
  {
   "cell_type": "markdown",
   "id": "broken-dream",
   "metadata": {},
   "source": [
    "What this does is counts the unique values of the genotype column from the VCF containing all simulated variants. The `reference` means this is the reference genome column. The `0:` part indicates that the variant in this particular position is identical to the reference genome (`1` and `2`, ... get used for alternative alleles). So, here we can see that the only value is `0:` for the reference genome (hence all variants are identical to it).\n",
    "\n",
    "To see what this looks like for another genome, let's try:"
   ]
  },
  {
   "cell_type": "code",
   "execution_count": 8,
   "id": "dominant-madison",
   "metadata": {},
   "outputs": [
    {
     "name": "stdout",
     "output_type": "stream",
     "text": [
      "[1] \"0:441453\" \"1:441453\" \"SampleA\" \n"
     ]
    }
   ],
   "source": [
    "out <- system(\"zcat output/haplotypes.vcf.gz | tail -n+9 | cut -f 11 | sort -u\", intern=TRUE)\n",
    "print(out)"
   ]
  },
  {
   "cell_type": "markdown",
   "id": "functioning-ordinance",
   "metadata": {},
   "source": [
    "This indicates `SampleA` has some alternative alleles in the VCF file.\n",
    "\n",
    "So, we want to remove the reads for the simulated reference genome."
   ]
  },
  {
   "cell_type": "code",
   "execution_count": 9,
   "id": "simplified-option",
   "metadata": {},
   "outputs": [
    {
     "data": {
      "text/html": [
       "TRUE"
      ],
      "text/latex": [
       "TRUE"
      ],
      "text/markdown": [
       "TRUE"
      ],
      "text/plain": [
       "[1] TRUE"
      ]
     },
     "metadata": {},
     "output_type": "display_data"
    },
    {
     "data": {
      "text/html": [
       "TRUE"
      ],
      "text/latex": [
       "TRUE"
      ],
      "text/markdown": [
       "TRUE"
      ],
      "text/plain": [
       "[1] TRUE"
      ]
     },
     "metadata": {},
     "output_type": "display_data"
    }
   ],
   "source": [
    "# Remove the simulated reads for the reference genome since I don't want these in the tree\n",
    "ref1 <- \"output/reads/initial_reference_R1.fq.gz\"\n",
    "ref2 <- \"output/reads/initial_reference_R2.fq.gz\"\n",
    "if (file.exists(ref1)) {\n",
    "    file.remove(ref1)\n",
    "}\n",
    "if (file.exists(ref2)) {\n",
    "    file.remove(ref2)\n",
    "}"
   ]
  }
 ],
 "metadata": {
  "kernelspec": {
   "display_name": "R",
   "language": "R",
   "name": "ir"
  },
  "language_info": {
   "codemirror_mode": "r",
   "file_extension": ".r",
   "mimetype": "text/x-r-source",
   "name": "R",
   "pygments_lexer": "r",
   "version": "4.0.3"
  }
 },
 "nbformat": 4,
 "nbformat_minor": 5
}
