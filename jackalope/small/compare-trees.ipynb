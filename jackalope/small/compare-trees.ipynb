{
 "cells": [
  {
   "cell_type": "code",
   "execution_count": 1,
   "metadata": {},
   "outputs": [
    {
     "name": "stderr",
     "output_type": "stream",
     "text": [
      "Loading required package: maps\n",
      "\n"
     ]
    },
    {
     "data": {
      "text/plain": [
       "=> Comparing t_orig with t_new.\n",
       "Both trees have the same number of tips: 4.\n",
       "Both trees have the same tip labels.\n",
       "Both trees have the same number of nodes: 3.\n",
       "Both trees are rooted.\n",
       "Both trees are not ultrametric.\n"
      ]
     },
     "metadata": {},
     "output_type": "display_data"
    }
   ],
   "source": [
    "library(ape)\n",
    "library(phytools)\n",
    "library(phangorn)\n",
    "library(repr)\n",
    "\n",
    "t_orig <- read.tree(file=\"input/tree.tre\")\n",
    "t_new <- read.tree(file=\"phylogeny/core.aln.treefile\")\n",
    "\n",
    "t_orig <- root(t_orig, \"reference\", resolve.root=TRUE)\n",
    "t_new <- root(t_new, \"reference\", resolve.root=TRUE)\n",
    "\n",
    "comparePhylo(t_orig, t_new)"
   ]
  },
  {
   "cell_type": "code",
   "execution_count": 2,
   "metadata": {},
   "outputs": [
    {
     "data": {
      "text/html": [
       "<style>\n",
       ".dl-inline {width: auto; margin:0; padding: 0}\n",
       ".dl-inline>dt, .dl-inline>dd {float: none; width: auto; display: inline-block}\n",
       ".dl-inline>dt::after {content: \":\\0020\"; padding-right: .5ex}\n",
       ".dl-inline>dt:not(:first-of-type) {padding-left: .5ex}\n",
       "</style><dl class=dl-inline><dt>symmetric.difference</dt><dd>0</dd><dt>branch.score.difference</dt><dd>2.6408347013405</dd><dt>path.difference</dt><dd>0</dd><dt>quadratic.path.difference</dt><dd>6.91570730490963</dd></dl>\n"
      ],
      "text/latex": [
       "\\begin{description*}\n",
       "\\item[symmetric.difference] 0\n",
       "\\item[branch.score.difference] 2.6408347013405\n",
       "\\item[path.difference] 0\n",
       "\\item[quadratic.path.difference] 6.91570730490963\n",
       "\\end{description*}\n"
      ],
      "text/markdown": [
       "symmetric.difference\n",
       ":   0branch.score.difference\n",
       ":   2.6408347013405path.difference\n",
       ":   0quadratic.path.difference\n",
       ":   6.91570730490963\n",
       "\n"
      ],
      "text/plain": [
       "     symmetric.difference   branch.score.difference           path.difference \n",
       "                 0.000000                  2.640835                  0.000000 \n",
       "quadratic.path.difference \n",
       "                 6.915707 "
      ]
     },
     "metadata": {},
     "output_type": "display_data"
    }
   ],
   "source": [
    "treedist(t_orig, t_new, check.labels = TRUE)"
   ]
  },
  {
   "cell_type": "code",
   "execution_count": 3,
   "metadata": {},
   "outputs": [
    {
     "name": "stdout",
     "output_type": "stream",
     "text": [
      "Rotating nodes to optimize matching...\n",
      "Done.\n"
     ]
    },
    {
     "data": {
      "image/png": "[encoded data removed]",
      "text/plain": [
       "plot without title"
      ]
     },
     "metadata": {
      "image/png": {
       "height": 360,
       "width": 600
      }
     },
     "output_type": "display_data"
    }
   ],
   "source": [
    "options(repr.plot.width=10, repr.plot.height=6)\n",
    "\n",
    "plot(cophylo(t_orig, t_new, rotate=TRUE))"
   ]
  }
 ],
 "metadata": {
  "kernelspec": {
   "display_name": "R",
   "language": "R",
   "name": "ir"
  },
  "language_info": {
   "codemirror_mode": "r",
   "file_extension": ".r",
   "mimetype": "text/x-r-source",
   "name": "R",
   "pygments_lexer": "r",
   "version": "4.0.3"
  }
 },
 "nbformat": 4,
 "nbformat_minor": 4
}
