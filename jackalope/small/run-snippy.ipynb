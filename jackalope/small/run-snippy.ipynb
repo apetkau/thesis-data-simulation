{
 "cells": [
  {
   "cell_type": "markdown",
   "id": "adopted-graham",
   "metadata": {},
   "source": [
    "# Fix reads"
   ]
  },
  {
   "cell_type": "code",
   "execution_count": 1,
   "id": "crucial-scholar",
   "metadata": {},
   "outputs": [
    {
     "name": "stdout",
     "output_type": "stream",
     "text": [
      "~/workspace/thesis-data-simulation/jackalope/small/output/reads ~/workspace/thesis-data-simulation/jackalope/small\n",
      "~/workspace/thesis-data-simulation/jackalope/small\n"
     ]
    }
   ],
   "source": [
    "import os\n",
    "\n",
    "# Fix warning about locale unset\n",
    "os.environ['LANG'] = 'en_US.UTF-8'\n",
    "\n",
    "!pushd output/reads; prename 's/initial_//' *.fq.gz; popd"
   ]
  },
  {
   "cell_type": "markdown",
   "id": "precious-advocacy",
   "metadata": {},
   "source": [
    "Jackalope produces reads with non-standard identifiers where pairs of reads don't have matching identifiers. For example:\n",
    "\n",
    "* Pair 1: `@SH08-001-NC_011083-3048632-R/1`\n",
    "* Pair 2: `@SH08-001-NC_011083-3048396-F/2`\n",
    "\n",
    "In order to run snippy, these paired identifiers need to match (except for the `/1` and `/2` suffix).\n",
    "\n",
    "So, I have to replace them all with something unique, but which matches in each pair of files. I do this by replacing the position (I think) with the read number (as it appears in the file). So the above identifiers become:\n",
    "\n",
    "* Pair 1: `@SH08-001-NC_011083-1/1`\n",
    "* Pair 2: `@SH08-001-NC_011083-1/2`"
   ]
  },
  {
   "cell_type": "code",
   "execution_count": 2,
   "id": "streaming-rebate",
   "metadata": {},
   "outputs": [],
   "source": [
    "import glob\n",
    "import os\n",
    "\n",
    "files = [os.path.basename(f) for f in glob.glob('output/reads/*.fq.gz')]\n",
    "!parallel -j 24 -I% 'gzip -d --stdout output/reads/% | perl ../scripts/replace-fastq-header.pl | gzip > output/%' \\\n",
    "    ::: {' '.join(files)}"
   ]
  },
  {
   "cell_type": "markdown",
   "id": "therapeutic-quantity",
   "metadata": {},
   "source": [
    "# Create input file for snippy"
   ]
  },
  {
   "cell_type": "code",
   "execution_count": 3,
   "id": "equal-membrane",
   "metadata": {},
   "outputs": [],
   "source": [
    "import os\n",
    "import glob\n",
    "\n",
    "reference_file = 'input/genome.fasta.gz'\n",
    "\n",
    "# snippy only runs with uncompressed reference\n",
    "!gunzip -f -k {reference_file}\n",
    "\n",
    "reference_file_abs = os.path.abspath('input/genome.fasta')\n",
    "\n",
    "snippy_out = os.path.abspath('phylogeny')\n",
    "\n",
    "if not os.path.exists(snippy_out):\n",
    "    os.mkdir(snippy_out)\n",
    "\n",
    "with open(f'{snippy_out}/snippy.fofn', 'w') as snippy_fofn:\n",
    "    directory = 'output'\n",
    "    for file in glob.glob(f'{directory}/*_R1.fq.gz'):\n",
    "        sample = os.path.basename(file).rsplit('_R1.fq.gz')[0]\n",
    "        \n",
    "        files = [f'{directory}/{sample}_R1.fq.gz', f'{directory}/{sample}_R2.fq.gz']\n",
    "        files = [os.path.abspath(f) for f in files]\n",
    "        values = [sample]\n",
    "        values.extend(files)\n",
    "        snippy_fofn.write('\\t'.join(values)+'\\n')"
   ]
  },
  {
   "cell_type": "code",
   "execution_count": 4,
   "id": "stretch-norway",
   "metadata": {},
   "outputs": [
    {
     "name": "stdout",
     "output_type": "stream",
     "text": [
      "SampleA\t/home/CSCScience.ca/apetkau/workspace/thesis-data-simulation/jackalope/small/output/SampleA_R1.fq.gz\t/home/CSCScience.ca/apetkau/workspace/thesis-data-simulation/jackalope/small/output/SampleA_R2.fq.gz\n"
     ]
    }
   ],
   "source": [
    "!head -n 1 {snippy_out}/snippy.fofn"
   ]
  },
  {
   "cell_type": "markdown",
   "id": "monetary-twist",
   "metadata": {},
   "source": [
    "# Run snippy"
   ]
  },
  {
   "cell_type": "code",
   "execution_count": 5,
   "id": "consistent-solid",
   "metadata": {},
   "outputs": [
    {
     "name": "stdout",
     "output_type": "stream",
     "text": [
      "Reading: /home/CSCScience.ca/apetkau/workspace/thesis-data-simulation/jackalope/small/phylogeny/snippy.fofn\n",
      "Generating output commands for 3 isolates\n",
      "Done.\n",
      "\n"
     ]
    }
   ],
   "source": [
    "!conda run --name snippy snippy-multi {snippy_out}/snippy.fofn \\\n",
    "    --reference {reference_file_abs} --cpus 6 > {snippy_out}/snippy-commands-all.sh\n",
    "!head -n-2 {snippy_out}/snippy-commands-all.sh > {snippy_out}/snippy-commands-variant.sh\n",
    "!tail -n 2 {snippy_out}/snippy-commands-all.sh > {snippy_out}/snippy-commands-core.sh"
   ]
  },
  {
   "cell_type": "code",
   "execution_count": 6,
   "id": "sized-atmosphere",
   "metadata": {},
   "outputs": [
    {
     "name": "stdout",
     "output_type": "stream",
     "text": [
      "snippy --outdir 'SampleB' --R1 '/home/CSCScience.ca/apetkau/workspace/thesis-data-simulation/jackalope/small/output/SampleB_R1.fq.gz' --R2 '/home/CSCScience.ca/apetkau/workspace/thesis-data-simulation/jackalope/small/output/SampleB_R2.fq.gz' --reference /home/CSCScience.ca/apetkau/workspace/thesis-data-simulation/jackalope/small/input/genome.fasta --cpus 6\n",
      "snippy --outdir 'SampleC' --R1 '/home/CSCScience.ca/apetkau/workspace/thesis-data-simulation/jackalope/small/output/SampleC_R1.fq.gz' --R2 '/home/CSCScience.ca/apetkau/workspace/thesis-data-simulation/jackalope/small/output/SampleC_R2.fq.gz' --reference /home/CSCScience.ca/apetkau/workspace/thesis-data-simulation/jackalope/small/input/genome.fasta --cpus 6\n",
      "****\n",
      "snippy-core --ref 'SampleA/ref.fa' SampleA SampleB SampleC\n",
      "\n"
     ]
    }
   ],
   "source": [
    "!tail -n 2 {snippy_out}/snippy-commands-variant.sh\n",
    "!echo '****'\n",
    "!tail {snippy_out}/snippy-commands-core.sh"
   ]
  },
  {
   "cell_type": "code",
   "execution_count": 7,
   "id": "indian-formula",
   "metadata": {},
   "outputs": [],
   "source": [
    "# Run variant calling in parallel\n",
    "!(pushd {snippy_out} && conda run --name snippy \\\n",
    "  parallel -j 12 -a {snippy_out}/snippy-commands-variant.sh && popd) > {snippy_out}/snippy-variant.log 2>&1"
   ]
  },
  {
   "cell_type": "code",
   "execution_count": 8,
   "id": "greater-israel",
   "metadata": {},
   "outputs": [],
   "source": [
    "# Run core in serial\n",
    "!(pushd {snippy_out} && conda run --name snippy \\\n",
    "  bash {snippy_out}/snippy-commands-core.sh && popd) > {snippy_out}/snippy-core.log 2>&1"
   ]
  },
  {
   "cell_type": "code",
   "execution_count": 9,
   "id": "level-sister",
   "metadata": {},
   "outputs": [
    {
     "name": "stdout",
     "output_type": "stream",
     "text": [
      "ID         LENGTH  ALIGNED  UNALIGNED  VARIANT  HET  MASKED  LOWCOV\n",
      "SampleA    5180    4741     49         26       3    0       387\n",
      "SampleB    5180    4904     102        26       2    0       172\n",
      "SampleC    5180    4851     52         18       3    0       274\n",
      "Reference  5180    5180     0          0        0    0       0\n"
     ]
    }
   ],
   "source": [
    "!column -s$'\\t' -t phylogeny/core.txt"
   ]
  },
  {
   "cell_type": "markdown",
   "id": "canadian-reynolds",
   "metadata": {},
   "source": [
    "# Tree"
   ]
  },
  {
   "cell_type": "code",
   "execution_count": 10,
   "id": "powered-italian",
   "metadata": {},
   "outputs": [
    {
     "name": "stdout",
     "output_type": "stream",
     "text": [
      "UPDATE BEST LOG-LIKELIHOOD: -226.209\n",
      "Iteration 100 / LogL: -234.124 / Time: 0h:0m:0s (0h:0m:0s left)\n",
      "TREE SEARCH COMPLETED AFTER 101 ITERATIONS / Time: 0h:0m:0s\n",
      "\n",
      "--------------------------------------------------------------------\n",
      "|                    FINALIZING TREE SEARCH                        |\n",
      "--------------------------------------------------------------------\n",
      "Performs final model parameters optimization\n",
      "Estimate model parameters (epsilon = 0.010)\n",
      "1. Initial log-likelihood: -226.209\n",
      "Optimal log-likelihood: -226.206\n",
      "Rate parameters:  A-C: 1.00000  A-G: 1.00000  A-T: 1.00000  C-G: 1.00000  C-T: 1.00000  G-T: 1.00000\n",
      "Base frequencies:  A: 0.250  C: 0.250  G: 0.250  T: 0.250\n",
      "Parameters optimization took 1 rounds (0.000 sec)\n",
      "BEST SCORE FOUND : -226.206\n",
      "Total tree length: 0.009\n",
      "\n",
      "Total number of iterations: 101\n",
      "CPU time used for tree search: 0.372 sec (0h:0m:0s)\n",
      "Wall-clock time used for tree search: 0.098 sec (0h:0m:0s)\n",
      "Total CPU time used: 0.440 sec (0h:0m:0s)\n",
      "Total wall-clock time used: 0.116 sec (0h:0m:0s)\n",
      "\n",
      "Analysis results written to: \n",
      "  IQ-TREE report:                phylogeny/core.aln.iqtree\n",
      "  Maximum-likelihood tree:       phylogeny/core.aln.treefile\n",
      "  Likelihood distances:          phylogeny/core.aln.mldist\n",
      "  Screen log file:               phylogeny/core.aln.log\n",
      "\n",
      "Date and Time: Sun Jan 24 20:02:20 2021\n"
     ]
    }
   ],
   "source": [
    "!iqtree -redo -s phylogeny/core.aln -T 24 | tail -n 30"
   ]
  },
  {
   "cell_type": "code",
   "execution_count": 11,
   "id": "iraqi-contrast",
   "metadata": {},
   "outputs": [],
   "source": [
    "!sed -i.bak 's/Reference/reference/' phylogeny/core.aln.treefile"
   ]
  }
 ],
 "metadata": {
  "kernelspec": {
   "display_name": "Python 3",
   "language": "python",
   "name": "python3"
  },
  "language_info": {
   "codemirror_mode": {
    "name": "ipython",
    "version": 3
   },
   "file_extension": ".py",
   "mimetype": "text/x-python",
   "name": "python",
   "nbconvert_exporter": "python",
   "pygments_lexer": "ipython3",
   "version": "3.8.6"
  }
 },
 "nbformat": 4,
 "nbformat_minor": 5
}
