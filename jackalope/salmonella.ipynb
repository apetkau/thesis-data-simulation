{
 "cells": [
  {
   "cell_type": "markdown",
   "id": "auburn-database",
   "metadata": {},
   "source": [
    "# Install\n",
    "\n",
    "To install, after creating conda environment from `environment.yml` run in R:\n",
    "\n",
    "```R\n",
    "install.packages(\"jackalope\", type=\"source\")\n",
    "```\n",
    "\n",
    "Note, please see <https://lucasnell.github.io/jackalope/index.html#enabling-openmp> for enabling openmp to use multiple threads.\n",
    "\n",
    "# Salmonella\n",
    "\n",
    "This simulates *Salmonella* data using a reference genome and a tree."
   ]
  },
  {
   "cell_type": "code",
   "execution_count": 1,
   "id": "outer-photograph",
   "metadata": {},
   "outputs": [
    {
     "data": {
      "text/html": [
       "TRUE"
      ],
      "text/latex": [
       "TRUE"
      ],
      "text/markdown": [
       "TRUE"
      ],
      "text/plain": [
       "[1] TRUE"
      ]
     },
     "metadata": {},
     "output_type": "display_data"
    }
   ],
   "source": [
    "library(jackalope)\n",
    "\n",
    "# Make sure we've complied with openmp\n",
    "jackalope:::using_openmp()"
   ]
  },
  {
   "cell_type": "code",
   "execution_count": 2,
   "id": "negative-turner",
   "metadata": {},
   "outputs": [
    {
     "data": {
      "text/plain": [
       "< Set of 1 chromosomes >\n",
       "# Total size: 4,888,768 bp\n",
       "  name                             chromosome                             length\n",
       "NC_011083  AGAGATTACGTCTGGTTGCAAGAGATCA...ATAACGTGCTGTAATTTTTAAAATAATA   4888768"
      ]
     },
     "metadata": {},
     "output_type": "display_data"
    }
   ],
   "source": [
    "reference <- read_fasta(\"input/S_HeidelbergSL476.fasta.gz\")\n",
    "reference$set_names(c(\"NC_011083\"))\n",
    "reference"
   ]
  },
  {
   "cell_type": "code",
   "execution_count": 3,
   "id": "wanted-infection",
   "metadata": {},
   "outputs": [
    {
     "data": {
      "text/plain": [
       "\n",
       "Phylogenetic tree with 60 tips and 59 internal nodes.\n",
       "\n",
       "Tip labels:\n",
       "  reference, SH12-013, SH12-014, SH10-015, SH10-014, SH11-002, ...\n",
       "Node labels:\n",
       "  Root, 1.000000, 0.000000, 0.000000, 1.000000, 0.000000, ...\n",
       "\n",
       "Rooted; includes branch lengths."
      ]
     },
     "metadata": {},
     "output_type": "display_data"
    }
   ],
   "source": [
    "library(ape)\n",
    "\n",
    "tree <- read.tree(\"input/salmonella.tre\")\n",
    "tree <- root(tree, \"reference\", resolve.root=TRUE)\n",
    "\n",
    "#options(repr.plot.width=8, repr.plot.height=12)\n",
    "#plot(tree)\n",
    "tree"
   ]
  },
  {
   "cell_type": "code",
   "execution_count": 4,
   "id": "creative-catholic",
   "metadata": {},
   "outputs": [
    {
     "data": {
      "text/plain": [
       "                              << haplotypes object >>\n",
       "# Haplotypes: 60\n",
       "# Mutations: 991\n",
       "\n",
       "                          << Reference genome info: >>\n",
       "< Set of 1 chromosomes >\n",
       "# Total size: 4,888,768 bp\n",
       "  name                             chromosome                             length\n",
       "NC_011083  AGAGATTACGTCTGGTTGCAAGAGATCA...ATAACGTGCTGTAATTTTTAAAATAATA   4888768"
      ]
     },
     "metadata": {},
     "output_type": "display_data"
    }
   ],
   "source": [
    "sub <- sub_JC69(lambda = 1e-5, mu = 1, invariant=0.5)\n",
    "ins <- NULL #indels(rate = 1e-4, max_length = 60,a = 1.60)\n",
    "del <- NULL #indels(rate = 1e-4, max_length = 60, a = 1.51)\n",
    "\n",
    "ref_haplotypes <- create_haplotypes(reference, haps_phylo(tree), sub=sub, ins=ins, del=del)\n",
    "ref_haplotypes"
   ]
  },
  {
   "cell_type": "code",
   "execution_count": 5,
   "id": "incorrect-cartridge",
   "metadata": {},
   "outputs": [],
   "source": [
    "write_vcf(ref_haplotypes, out_prefix=\"output/haplotypes\", compress=TRUE)"
   ]
  },
  {
   "cell_type": "code",
   "execution_count": 6,
   "id": "changing-galaxy",
   "metadata": {},
   "outputs": [
    {
     "name": "stdout",
     "output_type": "stream",
     "text": [
      "Number of reads: 35199130"
     ]
    }
   ],
   "source": [
    "coverage <- 30\n",
    "read_length <- 250\n",
    "n_samples <- length(tree$tip)\n",
    "n_reads <- round((reference$sizes() * coverage * n_samples) / read_length)\n",
    "cat(\"Number of reads:\", n_reads)\n",
    "\n",
    "illumina(ref_haplotypes, out_prefix = \"output/reads/initial\", sep_files=TRUE, n_reads = n_reads,\n",
    "         frag_mean = read_length * 2 + 50, frag_sd = 100,\n",
    "         compress=TRUE, comp_method=\"bgzip\", n_threads=32,\n",
    "         paired=TRUE, read_length = read_length)"
   ]
  }
 ],
 "metadata": {
  "kernelspec": {
   "display_name": "R",
   "language": "R",
   "name": "ir"
  },
  "language_info": {
   "codemirror_mode": "r",
   "file_extension": ".r",
   "mimetype": "text/x-r-source",
   "name": "R",
   "pygments_lexer": "r",
   "version": "4.0.3"
  }
 },
 "nbformat": 4,
 "nbformat_minor": 5
}
