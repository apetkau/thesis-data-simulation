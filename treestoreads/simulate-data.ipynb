{
 "cells": [
  {
   "cell_type": "markdown",
   "metadata": {},
   "source": [
    "# Simulate genomes\n",
    "\n",
    "Most dependencies are in `environment.yml`, except for [INDELible](http://abacus.gene.ucl.ac.uk/software/indelible/) which has to be installed manually."
   ]
  },
  {
   "cell_type": "markdown",
   "metadata": {},
   "source": [
    "## Clean directories"
   ]
  },
  {
   "cell_type": "code",
   "execution_count": 1,
   "metadata": {},
   "outputs": [],
   "source": [
    "import shutil\n",
    "import os\n",
    "\n",
    "output_dir = 'output'\n",
    "phylo_dir = 'phylogeny'\n",
    "\n",
    "if os.path.exists(output_dir):\n",
    "    shutil.rmtree(output_dir)\n",
    "if os.path.exists(phylo_dir):\n",
    "    shutil.rmtree(phylo_dir)"
   ]
  },
  {
   "cell_type": "code",
   "execution_count": 2,
   "metadata": {},
   "outputs": [
    {
     "data": {
      "image/png": "[encoded data removed]",
      "text/plain": [
       "<Figure size 504x216 with 1 Axes>"
      ]
     },
     "metadata": {
      "needs_background": "light"
     },
     "output_type": "display_data"
    }
   ],
   "source": [
    "from Bio import Phylo\n",
    "import matplotlib.pyplot as plt\n",
    "\n",
    "input_tree = 'input/tree.tre'\n",
    "outgroup = '2011C-3609.fasta.wgsim'\n",
    "\n",
    "t = Phylo.read(input_tree, 'newick')\n",
    "t.root_with_outgroup(outgroup)\n",
    "plt.rcParams['figure.figsize'] = (7,3)\n",
    "Phylo.draw(t)"
   ]
  },
  {
   "cell_type": "code",
   "execution_count": 3,
   "metadata": {},
   "outputs": [
    {
     "name": "stdout",
     "output_type": "stream",
     "text": [
      "Config file written to [input/simulation.config]\n"
     ]
    }
   ],
   "source": [
    "input_fasta = 'input/2011C-3609.fasta'\n",
    "\n",
    "config_data = f'''\n",
    "#REQUIRED PARAMETERS\n",
    "treefile_path = {input_tree}\n",
    "number_of_variable_sites = 1000\n",
    "base_genome_name = {outgroup}\n",
    "base_genome_path = {input_fasta}\n",
    "output_dir = {output_dir}\n",
    "\n",
    "#parameters of evolutionary model (comma seperated), in order ac, ag, at, cg, ct, gc (gc = 1)\n",
    "rate_matrix = 1,1,1,1,1,1\n",
    "\n",
    "#Optional evolutionary model parameters\n",
    "gamma_shape = 5  #default is no rate variation across sites\n",
    "\n",
    "#parameters for clustering of variable site locations (OPTIONAL)\n",
    "mutation_clustering = ON\n",
    "percent_clustered = 0.25 #The percentage of variable sites whose distance to another site is drawn from the clustering distribution\n",
    "exponential_mean = 125 #Minimum allowed value = 2\n",
    "\n",
    "# Don't run ART to simulate reads (or run with minimal reads). Instead, simulate afterwards (so I can run in parallel)\n",
    "coverage = 0\n",
    "'''\n",
    "\n",
    "config_file = 'input/simulation.config'\n",
    "with open(config_file, 'w') as conf:\n",
    "    conf.write(config_data)\n",
    "    print(f'Config file written to [{config_file}]')"
   ]
  },
  {
   "cell_type": "code",
   "execution_count": 4,
   "metadata": {},
   "outputs": [
    {
     "name": "stdout",
     "output_type": "stream",
     "text": [
      "Random seed is 3242661298495566790\n",
      "Running TreetoReads using configuration file input/simulation.config\n",
      "Arguments read\n",
      "Number of variable sites is 1000\n",
      "clustering proportion is 0.25\n",
      "exponential_mean is 2\n",
      "output directory is output\n",
      "Base frequencies detected from anchor genome A:0.24739565531789579 C:0.2598565665918917 G:0.246951513536902 T:0.2457962645533105\n",
      "genome has 7 contigs\n",
      "Genome has 5412686 bases\n",
      "Tree read\n",
      "Variable sites generated using seq-gen\n",
      "3 variable sites with more than 2 bases out of 1223 sites.\n",
      "            Scale down tree length if this is too high.\n",
      "writing genome for 2014C-3840\n",
      "writing genome for 2014C-3656\n",
      "writing genome for 2014C-3655\n",
      "writing genome for 2014C-3907\n",
      "writing genome for 2014C-3857\n",
      "writing genome for 2011C-3609.fasta.wgsim\n",
      "writing genome for 2014C-3598\n",
      "writing genome for 2014C-3599\n",
      "writing genome for 2014C-3600\n",
      "writing genome for 2014C-3850\n",
      "Mutated genomes\n",
      "coverage is 0\n",
      "read length is 150\n",
      "fragment size is 350\n",
      "stdev of frag size is 130\n",
      "Generating reads for 2014C-3840\n",
      "Generating reads for 2014C-3656\n",
      "Generating reads for 2014C-3655\n",
      "Generating reads for 2014C-3907\n",
      "Generating reads for 2014C-3857\n",
      "Generating reads for 2011C-3609.fasta.wgsim\n",
      "Generating reads for 2014C-3598\n",
      "Generating reads for 2014C-3599\n",
      "Generating reads for 2014C-3600\n",
      "Generating reads for 2014C-3850\n",
      "TreeToReads completed successfully!\n"
     ]
    }
   ],
   "source": [
    "!python TreeToReads/treetoreads.py {config_file}"
   ]
  },
  {
   "cell_type": "code",
   "execution_count": 5,
   "metadata": {},
   "outputs": [
    {
     "name": "stdout",
     "output_type": "stream",
     "text": [
      "analysis_configuration.cfg  fastq\t    seqgen_log\t  simtree.tre\n",
      "art_log\t\t\t    mutsites.txt    seqs_sim.txt  var_site_matrix\n",
      "fasta_files\t\t    scaledtree.tre  sim.vcf\n"
     ]
    }
   ],
   "source": [
    "!ls {output_dir}"
   ]
  },
  {
   "cell_type": "markdown",
   "metadata": {},
   "source": [
    "# Simulate reads"
   ]
  },
  {
   "cell_type": "code",
   "execution_count": 6,
   "metadata": {},
   "outputs": [],
   "source": [
    "import os\n",
    "import glob\n",
    "import shutil\n",
    "\n",
    "# Get rid of Perl LANG warning\n",
    "os.environ['LANG'] = 'en_US.UTF-8'\n",
    "\n",
    "reads_dir = f'{output_dir}/fastq'\n",
    "# Delete unneded empty read files\n",
    "shutil.rmtree(reads_dir)\n",
    "os.mkdir(reads_dir)\n",
    "\n",
    "genomes_dir = f'{output_dir}/fasta_files'\n",
    "\n",
    "genomes = [os.path.basename(genome).rstrip('.fasta') for genome in glob.glob(f'{genomes_dir}/*.fasta')]\n",
    "\n",
    "# Don't simulate reads for outgroup since it will already be in the tree\n",
    "genomes.remove(outgroup)\n",
    "\n",
    "command = f\"'art_illumina --paired -f 50 -l 250 -m 550 -s 100 -na -o {reads_dir}/%_ --in {genomes_dir}/%.fasta > {reads_dir}/%.log 2>&1 && gzip {reads_dir}/%_1.fq && gzip {reads_dir}/%_2.fq'\"\n",
    "!parallel -j 12 -I% {command} ::: {' '.join(genomes)}"
   ]
  },
  {
   "cell_type": "markdown",
   "metadata": {},
   "source": [
    "# Build alignment"
   ]
  },
  {
   "cell_type": "code",
   "execution_count": 19,
   "metadata": {},
   "outputs": [
    {
     "name": "stdout",
     "output_type": "stream",
     "text": [
      "snippy 4.6.0\n",
      "\n"
     ]
    }
   ],
   "source": [
    "!conda run --name snippy snippy --version 2>/dev/null"
   ]
  },
  {
   "cell_type": "code",
   "execution_count": 20,
   "metadata": {},
   "outputs": [],
   "source": [
    "import os\n",
    "import glob\n",
    "\n",
    "reference_file_abs = os.path.abspath(input_fasta)\n",
    "snippy_out = os.path.abspath(phylo_dir)\n",
    "snippy_fofn = os.path.abspath(f'{output_dir}/snippy.fofn')\n",
    "\n",
    "if not os.path.exists(snippy_out):\n",
    "    os.mkdir(snippy_out)\n",
    "\n",
    "with open(snippy_fofn, 'w') as f:\n",
    "    for genome in genomes:       \n",
    "        files = [f'{reads_dir}/{genome}_1.fq.gz', f'{reads_dir}/{genome}_2.fq.gz']\n",
    "        files = [os.path.abspath(f) for f in files]\n",
    "        values = [genome]\n",
    "        values.extend(files)\n",
    "        f.write('\\t'.join(values)+'\\n')"
   ]
  },
  {
   "cell_type": "code",
   "execution_count": 21,
   "metadata": {},
   "outputs": [
    {
     "name": "stdout",
     "output_type": "stream",
     "text": [
      "2014C-3857\t/home/CSCScience.ca/apetkau/workspace/thesis-data-simulation/treestoreads/output/fastq/2014C-3857_1.fq.gz\t/home/CSCScience.ca/apetkau/workspace/thesis-data-simulation/treestoreads/output/fastq/2014C-3857_2.fq.gz\n"
     ]
    }
   ],
   "source": [
    "!head -n 1 {snippy_fofn}"
   ]
  },
  {
   "cell_type": "code",
   "execution_count": 22,
   "metadata": {},
   "outputs": [
    {
     "name": "stdout",
     "output_type": "stream",
     "text": [
      "Reading: /home/CSCScience.ca/apetkau/workspace/thesis-data-simulation/treestoreads/output/snippy.fofn\n",
      "Generating output commands for 9 isolates\n",
      "Done.\n",
      "\n"
     ]
    }
   ],
   "source": [
    "!conda run --name snippy snippy-multi {snippy_fofn} --ref {reference_file_abs} --cpus 6\\\n",
    "    > {snippy_out}/snippy-commands-all.sh\n",
    "\n",
    "snippy_commands_variant = f'{snippy_out}/snippy-commands-variant.sh'\n",
    "snippy_commands_core = f'{snippy_out}/snippy-commands-core.sh'\n",
    "\n",
    "# Split commands so they can be run in parallel\n",
    "!head -n-2 {snippy_out}/snippy-commands-all.sh > {snippy_commands_variant}\n",
    "!tail -n 2 {snippy_out}/snippy-commands-all.sh > {snippy_commands_core}"
   ]
  },
  {
   "cell_type": "code",
   "execution_count": 23,
   "metadata": {},
   "outputs": [],
   "source": [
    "# Variant calling in parallel\n",
    "!(pushd {snippy_out} && conda run --name snippy \\\n",
    "  parallel -j 12 -a {snippy_commands_variant} \\\n",
    "  && popd) > {snippy_out}/snippy-variant.log 2>&1\n",
    "\n",
    "# Core alignment command\n",
    "!(pushd {snippy_out} && conda run --name snippy \\\n",
    "  bash {snippy_out}/snippy-commands-core.sh && popd) \\\n",
    "  > {snippy_out}/snippy-core.log 2>&1"
   ]
  },
  {
   "cell_type": "code",
   "execution_count": 24,
   "metadata": {},
   "outputs": [
    {
     "name": "stdout",
     "output_type": "stream",
     "text": [
      "Processing contig: JASV01000005.1\n",
      "Processing contig: JASV01000006.1\n",
      "Processing contig: JASV01000007.1\n",
      "Generating core.full.aln\n",
      "Creating TSV file: core.txt\n",
      "Running: snp-sites -c -o core.aln core.full.aln\n",
      "The Snippy manual is at http://github.com/tseemann/snippy/blob/master/README.md\n",
      "Done.\n",
      "\n",
      "~/workspace/thesis-data-simulation/treestoreads\n"
     ]
    }
   ],
   "source": [
    "!tail {snippy_out}/snippy-core.log"
   ]
  },
  {
   "cell_type": "code",
   "execution_count": 25,
   "metadata": {},
   "outputs": [
    {
     "name": "stdout",
     "output_type": "stream",
     "text": [
      "ID          LENGTH   ALIGNED  UNALIGNED  VARIANT  HET  MASKED  LOWCOV\n",
      "2014C-3598  5412686  5103307  284795     206      700  0       23884\n",
      "2014C-3599  5412686  5103307  284795     207      700  0       23884\n",
      "2014C-3600  5412686  5103307  284795     216      700  0       23884\n",
      "2014C-3655  5412686  5102300  284555     287      685  0       25146\n",
      "2014C-3656  5412686  5102300  284555     284      685  0       25146\n",
      "2014C-3840  5412686  5102232  284543     310      683  0       25228\n",
      "2014C-3850  5412686  5102222  284527     199      666  0       25271\n",
      "2014C-3857  5412686  5102274  284563     211      679  0       25170\n",
      "2014C-3907  5412686  5103113  284719     354      691  0       24163\n",
      "Reference   5412686  5412686  0          0        0    0       0\n"
     ]
    }
   ],
   "source": [
    "!column -s$'\\t' -t {snippy_out}/core.txt"
   ]
  },
  {
   "cell_type": "markdown",
   "metadata": {},
   "source": [
    "# Build tree"
   ]
  },
  {
   "cell_type": "code",
   "execution_count": 26,
   "metadata": {},
   "outputs": [],
   "source": [
    "# Swap 'Reference' with actual name\n",
    "!sed -i.bak -e 's/Reference/{outgroup}/' {snippy_out}/core.aln"
   ]
  },
  {
   "cell_type": "code",
   "execution_count": 27,
   "metadata": {},
   "outputs": [
    {
     "name": "stdout",
     "output_type": "stream",
     "text": [
      "OMP: Info #270: omp_set_nested routine deprecated, please use omp_set_max_active_levels instead.\n",
      "Optimal log-likelihood: -4341.530\n",
      "Rate parameters:  A-C: 1.00000  A-G: 1.00000  A-T: 1.00000  C-G: 1.00000  C-T: 1.00000  G-T: 1.00000\n",
      "Base frequencies:  A: 0.250  C: 0.250  G: 0.250  T: 0.250\n",
      "Parameters optimization took 1 rounds (0.000 sec)\n",
      "BEST SCORE FOUND : -4341.530\n",
      "Total tree length: 0.011\n",
      "\n",
      "Total number of iterations: 102\n",
      "CPU time used for tree search: 0.448 sec (0h:0m:0s)\n",
      "Wall-clock time used for tree search: 0.448 sec (0h:0m:0s)\n",
      "Total CPU time used: 0.467 sec (0h:0m:0s)\n",
      "Total wall-clock time used: 0.470 sec (0h:0m:0s)\n",
      "\n",
      "Analysis results written to: \n",
      "  IQ-TREE report:                /home/CSCScience.ca/apetkau/workspace/thesis-data-simulation/treestoreads/phylogeny/core.aln.iqtree\n",
      "  Maximum-likelihood tree:       /home/CSCScience.ca/apetkau/workspace/thesis-data-simulation/treestoreads/phylogeny/core.aln.treefile\n",
      "  Likelihood distances:          /home/CSCScience.ca/apetkau/workspace/thesis-data-simulation/treestoreads/phylogeny/core.aln.mldist\n",
      "  Screen log file:               /home/CSCScience.ca/apetkau/workspace/thesis-data-simulation/treestoreads/phylogeny/core.aln.log\n",
      "\n",
      "Date and Time: Sat Jan 23 12:11:15 2021\n"
     ]
    }
   ],
   "source": [
    "!iqtree -s {snippy_out}/core.aln -redo | tail -n 20"
   ]
  },
  {
   "cell_type": "code",
   "execution_count": 28,
   "metadata": {},
   "outputs": [
    {
     "data": {
      "image/png": "[encoded data removed]",
      "text/plain": [
       "<Figure size 576x576 with 1 Axes>"
      ]
     },
     "metadata": {
      "needs_background": "light"
     },
     "output_type": "display_data"
    }
   ],
   "source": [
    "t = Phylo.read(f'{snippy_out}/core.aln.treefile', 'newick')\n",
    "plt.rcParams['figure.figsize'] = (8,8)\n",
    "Phylo.draw(t)"
   ]
  },
  {
   "cell_type": "code",
   "execution_count": null,
   "metadata": {},
   "outputs": [],
   "source": []
  }
 ],
 "metadata": {
  "kernelspec": {
   "display_name": "Python 3",
   "language": "python",
   "name": "python3"
  },
  "language_info": {
   "codemirror_mode": {
    "name": "ipython",
    "version": 3
   },
   "file_extension": ".py",
   "mimetype": "text/x-python",
   "name": "python",
   "nbconvert_exporter": "python",
   "pygments_lexer": "ipython3",
   "version": "3.8.6"
  }
 },
 "nbformat": 4,
 "nbformat_minor": 4
}
